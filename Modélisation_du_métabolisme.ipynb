{
  "cells": [
    {
      "cell_type": "markdown",
      "metadata": {
        "id": "tLdx41ZWs07a"
      },
      "source": [
        "# Atelier de modélisation du métabolisme\n",
        "\n",
        "### Maxime Mahout"
      ]
    },
    {
      "cell_type": "markdown",
      "metadata": {
        "execution": {
          "iopub.execute_input": "2025-01-26T18:14:48.289788Z",
          "iopub.status.busy": "2025-01-26T18:14:48.289359Z",
          "iopub.status.idle": "2025-01-26T18:14:48.294279Z",
          "shell.execute_reply": "2025-01-26T18:14:48.293054Z",
          "shell.execute_reply.started": "2025-01-26T18:14:48.289755Z"
        },
        "id": "lyyz5SB0s07c"
      },
      "source": [
        "## 1) Qu'est-ce que le métabolisme ?\n",
        "\n",
        "L'ensemble des réactions qui se déroulent au sein d'une cellule."
      ]
    },
    {
      "cell_type": "markdown",
      "metadata": {
        "id": "hPB2bh_fs07c"
      },
      "source": [
        "![img](https://upload.wikimedia.org/wikipedia/commons/thumb/6/6e/Metabolic_Metro_Map.svg/800px-Metabolic_Metro_Map.svg.png)"
      ]
    },
    {
      "cell_type": "markdown",
      "metadata": {
        "id": "AMhhOINTs07d"
      },
      "source": [
        "### -> Réseaux métaboliques:\n",
        "* noeuds: métabolites\n",
        "* arêtes: réaction\n",
        "* pondération: stoechiométrie\n",
        "\n",
        "\\begin{equation}\n",
        "\\text{ex: } 2~ADP \\rightarrow ATP + AMP\n",
        "\\end{equation}"
      ]
    },
    {
      "cell_type": "markdown",
      "metadata": {
        "id": "usxwG6nJs07e"
      },
      "source": [
        "## 2) Qu'est-ce qu'un modèle du métabolisme ?\n",
        "\n",
        "Exemple: Mahout, Schwartz, Attal, Bakkar, Peres, 2024:\n",
        "\n",
        "https://doi.org/10.1371/journal.pone.0313962"
      ]
    },
    {
      "cell_type": "markdown",
      "metadata": {
        "id": "cPpVOIa6s07f"
      },
      "source": [
        "![img](https://journals.plos.org/plosone/article/figure/image?size=large&id=10.1371/journal.pone.0313962.g007)"
      ]
    },
    {
      "cell_type": "markdown",
      "metadata": {
        "id": "-lkFSI-ws07g"
      },
      "source": [
        "Un modèle en sciences est une réduction d'un objet réel en une maquette que l'on peut analyser pour faire des prédictions que l'on espère avérées sur cet objet réel.\n",
        "\n",
        "Ici, par exemple nous faisons des hypothèses sur la formation du stroma tumoral à partir d'un modèle réduit du métabolisme principal de la cellule cancéreuse."
      ]
    },
    {
      "cell_type": "markdown",
      "metadata": {
        "id": "TOReeLzMs07g"
      },
      "source": [
        "## 3) Pourquoi modéliser le métabolisme ?\n",
        "\n",
        "Comme en bio-statistique, on utilise les modèles afin de répondre à des questions scientifiques pour lesquelles on a formulé des hypothèses.\n",
        "\n",
        "Egalement nous pouvons partir dépourvus d'une hypothèse et tester des propriétés sur des modèles pré-existants en espérant faire émerger des découvertes.\n"
      ]
    },
    {
      "cell_type": "markdown",
      "metadata": {
        "id": "XuCVGzw3s07h"
      },
      "source": [
        "## 4) Comment modéliser le métabolisme ?\n",
        "\n",
        "Il existe plusieurs façons de modéliser le métabolisme et sa complexité. Nous pouvons utiliser des approches 1) dynamiques ou 2) à l'état stationnaire pour modéliser les réactions biochimiques.\n",
        "\n",
        "Les méthodes à l'état stationnaire, c'est à dire où la concentration en métabolite ne varie pas au cours du temps, telles que Flux Balance Analysis, sont les plus faciles d'accès.\n",
        "\n",
        "Plus globalement afin d'obtenir des prédictions précises les modèles doivent respecter les principes de la \"biologie des systèmes\", une science qui s'attèle à représenter le système biologique dans toute sa complexité.\n",
        "\n",
        "Autrement dit, le modèle biologique doit pouvoir intégrer le système \"cellule\" à travers tous ses niveaux: gène, ADN, ARN, molécules, chimie, protéine, enzyme, lipides, etc. et pourra être confirmé par tout autant d'analyses, génomique, transcriptomique, protéomique, métabolomique, etc. cf. https://www.nature.com/articles/nrm1857"
      ]
    },
    {
      "cell_type": "markdown",
      "metadata": {
        "id": "nihrk3HSs07i"
      },
      "source": [
        "## 5) Avec quelle méthode commencer ?\n",
        "\n",
        "Je préconise la méthode \"[Flux Balance Analysis](https://doi.org/10.1038/nbt.1614)\" (FBA) et de partir \"hypothesis-free\" sur des modèles \"à l'échelle du génome\" préexistants, tels que ceux présents sur la base de données http://bigg.ucsd.edu/.\n",
        "\n",
        "Afin de tester cela, nous pouvons installer l'outil `cobrapy` et tester le modèle par défaut `e_coli_core` (cf. [reference](https://europepmc.org/article/med/26443778)). Ainsi que `escher` pour la visualisation."
      ]
    },
    {
      "cell_type": "code",
      "execution_count": null,
      "metadata": {
        "execution": {
          "iopub.execute_input": "2025-01-26T19:19:24.220994Z",
          "iopub.status.busy": "2025-01-26T19:19:24.220514Z",
          "iopub.status.idle": "2025-01-26T19:19:28.421893Z",
          "shell.execute_reply": "2025-01-26T19:19:28.420504Z",
          "shell.execute_reply.started": "2025-01-26T19:19:24.220947Z"
        },
        "id": "IT_YDn8Ws07j",
        "outputId": "47c53224-d2ce-4a0b-9de5-e88a14fdc8e4",
        "trusted": true
      },
      "outputs": [
        {
          "name": "stdout",
          "output_type": "stream",
          "text": [
            "Requirement already satisfied: cobra in /usr/local/lib/python3.10/dist-packages (0.29.1)\n",
            "Requirement already satisfied: appdirs~=1.4 in /usr/local/lib/python3.10/dist-packages (from cobra) (1.4.4)\n",
            "Requirement already satisfied: depinfo~=2.2 in /usr/local/lib/python3.10/dist-packages (from cobra) (2.2.0)\n",
            "Requirement already satisfied: diskcache~=5.0 in /usr/local/lib/python3.10/dist-packages (from cobra) (5.6.3)\n",
            "Requirement already satisfied: future in /usr/local/lib/python3.10/dist-packages (from cobra) (1.0.0)\n",
            "Requirement already satisfied: httpx~=0.24 in /usr/local/lib/python3.10/dist-packages (from cobra) (0.28.1)\n",
            "Requirement already satisfied: importlib-resources in /usr/local/lib/python3.10/dist-packages (from cobra) (6.4.5)\n",
            "Requirement already satisfied: numpy>=1.13 in /usr/local/lib/python3.10/dist-packages (from cobra) (1.26.4)\n",
            "Requirement already satisfied: optlang~=1.8 in /usr/local/lib/python3.10/dist-packages (from cobra) (1.8.3)\n",
            "Requirement already satisfied: pandas<3.0,>=1.0 in /usr/local/lib/python3.10/dist-packages (from cobra) (2.2.2)\n",
            "Requirement already satisfied: pydantic>=1.6 in /usr/local/lib/python3.10/dist-packages (from cobra) (2.10.3)\n",
            "Requirement already satisfied: python-libsbml~=5.19 in /usr/local/lib/python3.10/dist-packages (from cobra) (5.20.4)\n",
            "Requirement already satisfied: rich>=8.0 in /usr/local/lib/python3.10/dist-packages (from cobra) (13.9.4)\n",
            "Requirement already satisfied: ruamel.yaml~=0.16 in /usr/local/lib/python3.10/dist-packages (from cobra) (0.18.10)\n",
            "Requirement already satisfied: swiglpk in /usr/local/lib/python3.10/dist-packages (from cobra) (5.0.12)\n",
            "Requirement already satisfied: anyio in /usr/local/lib/python3.10/dist-packages (from httpx~=0.24->cobra) (3.7.1)\n",
            "Requirement already satisfied: certifi in /usr/local/lib/python3.10/dist-packages (from httpx~=0.24->cobra) (2024.12.14)\n",
            "Requirement already satisfied: httpcore==1.* in /usr/local/lib/python3.10/dist-packages (from httpx~=0.24->cobra) (1.0.7)\n",
            "Requirement already satisfied: idna in /usr/local/lib/python3.10/dist-packages (from httpx~=0.24->cobra) (3.10)\n",
            "Requirement already satisfied: h11<0.15,>=0.13 in /usr/local/lib/python3.10/dist-packages (from httpcore==1.*->httpx~=0.24->cobra) (0.14.0)\n",
            "Requirement already satisfied: mkl_fft in /usr/local/lib/python3.10/dist-packages (from numpy>=1.13->cobra) (1.3.8)\n",
            "Requirement already satisfied: mkl_random in /usr/local/lib/python3.10/dist-packages (from numpy>=1.13->cobra) (1.2.4)\n",
            "Requirement already satisfied: mkl_umath in /usr/local/lib/python3.10/dist-packages (from numpy>=1.13->cobra) (0.1.1)\n",
            "Requirement already satisfied: mkl in /usr/local/lib/python3.10/dist-packages (from numpy>=1.13->cobra) (2025.0.1)\n",
            "Requirement already satisfied: tbb4py in /usr/local/lib/python3.10/dist-packages (from numpy>=1.13->cobra) (2022.0.0)\n",
            "Requirement already satisfied: mkl-service in /usr/local/lib/python3.10/dist-packages (from numpy>=1.13->cobra) (2.4.1)\n",
            "Requirement already satisfied: sympy>=1.12.0 in /usr/local/lib/python3.10/dist-packages (from optlang~=1.8->cobra) (1.13.1)\n",
            "Requirement already satisfied: python-dateutil>=2.8.2 in /usr/local/lib/python3.10/dist-packages (from pandas<3.0,>=1.0->cobra) (2.8.2)\n",
            "Requirement already satisfied: pytz>=2020.1 in /usr/local/lib/python3.10/dist-packages (from pandas<3.0,>=1.0->cobra) (2024.2)\n",
            "Requirement already satisfied: tzdata>=2022.7 in /usr/local/lib/python3.10/dist-packages (from pandas<3.0,>=1.0->cobra) (2024.2)\n",
            "Requirement already satisfied: annotated-types>=0.6.0 in /usr/local/lib/python3.10/dist-packages (from pydantic>=1.6->cobra) (0.7.0)\n",
            "Requirement already satisfied: pydantic-core==2.27.1 in /usr/local/lib/python3.10/dist-packages (from pydantic>=1.6->cobra) (2.27.1)\n",
            "Requirement already satisfied: typing-extensions>=4.12.2 in /usr/local/lib/python3.10/dist-packages (from pydantic>=1.6->cobra) (4.12.2)\n",
            "Requirement already satisfied: markdown-it-py>=2.2.0 in /usr/local/lib/python3.10/dist-packages (from rich>=8.0->cobra) (3.0.0)\n",
            "Requirement already satisfied: pygments<3.0.0,>=2.13.0 in /usr/local/lib/python3.10/dist-packages (from rich>=8.0->cobra) (2.18.0)\n",
            "Requirement already satisfied: ruamel.yaml.clib>=0.2.7 in /usr/local/lib/python3.10/dist-packages (from ruamel.yaml~=0.16->cobra) (0.2.12)\n",
            "Requirement already satisfied: mdurl~=0.1 in /usr/local/lib/python3.10/dist-packages (from markdown-it-py>=2.2.0->rich>=8.0->cobra) (0.1.2)\n",
            "Requirement already satisfied: six>=1.5 in /usr/local/lib/python3.10/dist-packages (from python-dateutil>=2.8.2->pandas<3.0,>=1.0->cobra) (1.17.0)\n",
            "Requirement already satisfied: mpmath<1.4,>=1.1.0 in /usr/local/lib/python3.10/dist-packages (from sympy>=1.12.0->optlang~=1.8->cobra) (1.3.0)\n",
            "Requirement already satisfied: sniffio>=1.1 in /usr/local/lib/python3.10/dist-packages (from anyio->httpx~=0.24->cobra) (1.3.1)\n",
            "Requirement already satisfied: exceptiongroup in /usr/local/lib/python3.10/dist-packages (from anyio->httpx~=0.24->cobra) (1.2.2)\n",
            "Requirement already satisfied: intel-openmp>=2024 in /usr/local/lib/python3.10/dist-packages (from mkl->numpy>=1.13->cobra) (2024.2.0)\n",
            "Requirement already satisfied: tbb==2022.* in /usr/local/lib/python3.10/dist-packages (from mkl->numpy>=1.13->cobra) (2022.0.0)\n",
            "Requirement already satisfied: tcmlib==1.* in /usr/local/lib/python3.10/dist-packages (from tbb==2022.*->mkl->numpy>=1.13->cobra) (1.2.0)\n",
            "Requirement already satisfied: intel-cmplr-lib-rt in /usr/local/lib/python3.10/dist-packages (from mkl_umath->numpy>=1.13->cobra) (2024.2.0)\n",
            "Requirement already satisfied: intel-cmplr-lib-ur==2024.2.0 in /usr/local/lib/python3.10/dist-packages (from intel-openmp>=2024->mkl->numpy>=1.13->cobra) (2024.2.0)\n",
            "Note: you may need to restart the kernel to use updated packages.\n"
          ]
        }
      ],
      "source": [
        "!pip install cobra"
      ]
    },
    {
      "cell_type": "code",
      "execution_count": null,
      "metadata": {
        "execution": {
          "iopub.execute_input": "2025-01-26T19:49:02.579754Z",
          "iopub.status.busy": "2025-01-26T19:49:02.579368Z",
          "iopub.status.idle": "2025-01-26T19:49:18.6061Z",
          "shell.execute_reply": "2025-01-26T19:49:18.604922Z",
          "shell.execute_reply.started": "2025-01-26T19:49:02.579701Z"
        },
        "id": "ihdo4Yifs07k",
        "outputId": "5b8ac3af-d94d-46c2-bfe5-fae07e154c80",
        "trusted": true
      },
      "outputs": [
        {
          "name": "stdout",
          "output_type": "stream",
          "text": [
            "Collecting escher\n",
            "  Downloading Escher-1.8.1-py3-none-any.whl.metadata (1.4 kB)\n",
            "Requirement already satisfied: Jinja2<4,>=3.0.3 in /usr/local/lib/python3.10/dist-packages (from escher) (3.1.4)\n",
            "Requirement already satisfied: pytest<9,>=6.0.0 in /usr/local/lib/python3.10/dist-packages (from escher) (8.3.4)\n",
            "Collecting cobra>=0.5.0 (from escher)\n",
            "  Downloading cobra-0.29.1-py2.py3-none-any.whl.metadata (9.3 kB)\n",
            "Requirement already satisfied: jsonschema<5,>=4.17.3 in /usr/local/lib/python3.10/dist-packages (from escher) (4.23.0)\n",
            "Collecting ipywidgets<8,>=7.7.0 (from escher)\n",
            "  Downloading ipywidgets-7.8.5-py2.py3-none-any.whl.metadata (1.9 kB)\n",
            "Requirement already satisfied: pandas>=0.18 in /usr/local/lib/python3.10/dist-packages (from escher) (2.2.2)\n",
            "Collecting appdirs~=1.4 (from cobra>=0.5.0->escher)\n",
            "  Downloading appdirs-1.4.4-py2.py3-none-any.whl.metadata (9.0 kB)\n",
            "Collecting depinfo~=2.2 (from cobra>=0.5.0->escher)\n",
            "  Downloading depinfo-2.2.0-py3-none-any.whl.metadata (3.8 kB)\n",
            "Collecting diskcache~=5.0 (from cobra>=0.5.0->escher)\n",
            "  Downloading diskcache-5.6.3-py3-none-any.whl.metadata (20 kB)\n",
            "Requirement already satisfied: future in /usr/local/lib/python3.10/dist-packages (from cobra>=0.5.0->escher) (1.0.0)\n",
            "Requirement already satisfied: httpx~=0.24 in /usr/local/lib/python3.10/dist-packages (from cobra>=0.5.0->escher) (0.28.1)\n",
            "Requirement already satisfied: importlib-resources in /usr/local/lib/python3.10/dist-packages (from cobra>=0.5.0->escher) (6.4.5)\n",
            "Requirement already satisfied: numpy>=1.13 in /usr/local/lib/python3.10/dist-packages (from cobra>=0.5.0->escher) (1.26.4)\n",
            "Collecting optlang~=1.8 (from cobra>=0.5.0->escher)\n",
            "  Downloading optlang-1.8.3-py2.py3-none-any.whl.metadata (8.2 kB)\n",
            "Requirement already satisfied: pydantic>=1.6 in /usr/local/lib/python3.10/dist-packages (from cobra>=0.5.0->escher) (2.10.3)\n",
            "Collecting python-libsbml~=5.19 (from cobra>=0.5.0->escher)\n",
            "  Downloading python_libsbml-5.20.4-cp310-cp310-manylinux_2_17_x86_64.manylinux2014_x86_64.whl.metadata (532 bytes)\n",
            "Requirement already satisfied: rich>=8.0 in /usr/local/lib/python3.10/dist-packages (from cobra>=0.5.0->escher) (13.9.4)\n",
            "Collecting ruamel.yaml~=0.16 (from cobra>=0.5.0->escher)\n",
            "  Downloading ruamel.yaml-0.18.10-py3-none-any.whl.metadata (23 kB)\n",
            "Collecting swiglpk (from cobra>=0.5.0->escher)\n",
            "  Downloading swiglpk-5.0.12-cp310-cp310-manylinux_2_17_x86_64.manylinux2014_x86_64.whl.metadata (5.5 kB)\n",
            "Requirement already satisfied: comm>=0.1.3 in /usr/local/lib/python3.10/dist-packages (from ipywidgets<8,>=7.7.0->escher) (0.2.2)\n",
            "Requirement already satisfied: ipython-genutils~=0.2.0 in /usr/local/lib/python3.10/dist-packages (from ipywidgets<8,>=7.7.0->escher) (0.2.0)\n",
            "Requirement already satisfied: traitlets>=4.3.1 in /usr/local/lib/python3.10/dist-packages (from ipywidgets<8,>=7.7.0->escher) (5.7.1)\n",
            "Collecting widgetsnbextension~=3.6.10 (from ipywidgets<8,>=7.7.0->escher)\n",
            "  Downloading widgetsnbextension-3.6.10-py2.py3-none-any.whl.metadata (1.3 kB)\n",
            "Requirement already satisfied: ipython>=4.0.0 in /usr/local/lib/python3.10/dist-packages (from ipywidgets<8,>=7.7.0->escher) (7.34.0)\n",
            "Collecting jupyterlab-widgets<3,>=1.0.0 (from ipywidgets<8,>=7.7.0->escher)\n",
            "  Downloading jupyterlab_widgets-1.1.11-py3-none-any.whl.metadata (3.7 kB)\n",
            "Requirement already satisfied: MarkupSafe>=2.0 in /usr/local/lib/python3.10/dist-packages (from Jinja2<4,>=3.0.3->escher) (3.0.2)\n",
            "Requirement already satisfied: attrs>=22.2.0 in /usr/local/lib/python3.10/dist-packages (from jsonschema<5,>=4.17.3->escher) (24.3.0)\n",
            "Requirement already satisfied: jsonschema-specifications>=2023.03.6 in /usr/local/lib/python3.10/dist-packages (from jsonschema<5,>=4.17.3->escher) (2024.10.1)\n",
            "Requirement already satisfied: referencing>=0.28.4 in /usr/local/lib/python3.10/dist-packages (from jsonschema<5,>=4.17.3->escher) (0.35.1)\n",
            "Requirement already satisfied: rpds-py>=0.7.1 in /usr/local/lib/python3.10/dist-packages (from jsonschema<5,>=4.17.3->escher) (0.22.3)\n",
            "Requirement already satisfied: python-dateutil>=2.8.2 in /usr/local/lib/python3.10/dist-packages (from pandas>=0.18->escher) (2.8.2)\n",
            "Requirement already satisfied: pytz>=2020.1 in /usr/local/lib/python3.10/dist-packages (from pandas>=0.18->escher) (2024.2)\n",
            "Requirement already satisfied: tzdata>=2022.7 in /usr/local/lib/python3.10/dist-packages (from pandas>=0.18->escher) (2024.2)\n",
            "Requirement already satisfied: exceptiongroup>=1.0.0rc8 in /usr/local/lib/python3.10/dist-packages (from pytest<9,>=6.0.0->escher) (1.2.2)\n",
            "Requirement already satisfied: iniconfig in /usr/local/lib/python3.10/dist-packages (from pytest<9,>=6.0.0->escher) (2.0.0)\n",
            "Requirement already satisfied: packaging in /usr/local/lib/python3.10/dist-packages (from pytest<9,>=6.0.0->escher) (24.2)\n",
            "Requirement already satisfied: pluggy<2,>=1.5 in /usr/local/lib/python3.10/dist-packages (from pytest<9,>=6.0.0->escher) (1.5.0)\n",
            "Requirement already satisfied: tomli>=1 in /usr/local/lib/python3.10/dist-packages (from pytest<9,>=6.0.0->escher) (2.2.1)\n",
            "Requirement already satisfied: anyio in /usr/local/lib/python3.10/dist-packages (from httpx~=0.24->cobra>=0.5.0->escher) (3.7.1)\n",
            "Requirement already satisfied: certifi in /usr/local/lib/python3.10/dist-packages (from httpx~=0.24->cobra>=0.5.0->escher) (2024.12.14)\n",
            "Requirement already satisfied: httpcore==1.* in /usr/local/lib/python3.10/dist-packages (from httpx~=0.24->cobra>=0.5.0->escher) (1.0.7)\n",
            "Requirement already satisfied: idna in /usr/local/lib/python3.10/dist-packages (from httpx~=0.24->cobra>=0.5.0->escher) (3.10)\n",
            "Requirement already satisfied: h11<0.15,>=0.13 in /usr/local/lib/python3.10/dist-packages (from httpcore==1.*->httpx~=0.24->cobra>=0.5.0->escher) (0.14.0)\n",
            "Requirement already satisfied: setuptools>=18.5 in /usr/local/lib/python3.10/dist-packages (from ipython>=4.0.0->ipywidgets<8,>=7.7.0->escher) (75.1.0)\n",
            "Requirement already satisfied: jedi>=0.16 in /usr/local/lib/python3.10/dist-packages (from ipython>=4.0.0->ipywidgets<8,>=7.7.0->escher) (0.19.2)\n",
            "Requirement already satisfied: decorator in /usr/local/lib/python3.10/dist-packages (from ipython>=4.0.0->ipywidgets<8,>=7.7.0->escher) (4.4.2)\n",
            "Requirement already satisfied: pickleshare in /usr/local/lib/python3.10/dist-packages (from ipython>=4.0.0->ipywidgets<8,>=7.7.0->escher) (0.7.5)\n",
            "Requirement already satisfied: prompt-toolkit!=3.0.0,!=3.0.1,<3.1.0,>=2.0.0 in /usr/local/lib/python3.10/dist-packages (from ipython>=4.0.0->ipywidgets<8,>=7.7.0->escher) (3.0.48)\n",
            "Requirement already satisfied: pygments in /usr/local/lib/python3.10/dist-packages (from ipython>=4.0.0->ipywidgets<8,>=7.7.0->escher) (2.18.0)\n",
            "Requirement already satisfied: backcall in /usr/local/lib/python3.10/dist-packages (from ipython>=4.0.0->ipywidgets<8,>=7.7.0->escher) (0.2.0)\n",
            "Requirement already satisfied: matplotlib-inline in /usr/local/lib/python3.10/dist-packages (from ipython>=4.0.0->ipywidgets<8,>=7.7.0->escher) (0.1.7)\n",
            "Requirement already satisfied: pexpect>4.3 in /usr/local/lib/python3.10/dist-packages (from ipython>=4.0.0->ipywidgets<8,>=7.7.0->escher) (4.9.0)\n",
            "Requirement already satisfied: mkl_fft in /usr/local/lib/python3.10/dist-packages (from numpy>=1.13->cobra>=0.5.0->escher) (1.3.8)\n",
            "Requirement already satisfied: mkl_random in /usr/local/lib/python3.10/dist-packages (from numpy>=1.13->cobra>=0.5.0->escher) (1.2.4)\n",
            "Requirement already satisfied: mkl_umath in /usr/local/lib/python3.10/dist-packages (from numpy>=1.13->cobra>=0.5.0->escher) (0.1.1)\n",
            "Requirement already satisfied: mkl in /usr/local/lib/python3.10/dist-packages (from numpy>=1.13->cobra>=0.5.0->escher) (2025.0.1)\n",
            "Requirement already satisfied: tbb4py in /usr/local/lib/python3.10/dist-packages (from numpy>=1.13->cobra>=0.5.0->escher) (2022.0.0)\n",
            "Requirement already satisfied: mkl-service in /usr/local/lib/python3.10/dist-packages (from numpy>=1.13->cobra>=0.5.0->escher) (2.4.1)\n",
            "Requirement already satisfied: sympy>=1.12.0 in /usr/local/lib/python3.10/dist-packages (from optlang~=1.8->cobra>=0.5.0->escher) (1.13.1)\n",
            "Requirement already satisfied: annotated-types>=0.6.0 in /usr/local/lib/python3.10/dist-packages (from pydantic>=1.6->cobra>=0.5.0->escher) (0.7.0)\n",
            "Requirement already satisfied: pydantic-core==2.27.1 in /usr/local/lib/python3.10/dist-packages (from pydantic>=1.6->cobra>=0.5.0->escher) (2.27.1)\n",
            "Requirement already satisfied: typing-extensions>=4.12.2 in /usr/local/lib/python3.10/dist-packages (from pydantic>=1.6->cobra>=0.5.0->escher) (4.12.2)\n",
            "Requirement already satisfied: six>=1.5 in /usr/local/lib/python3.10/dist-packages (from python-dateutil>=2.8.2->pandas>=0.18->escher) (1.17.0)\n",
            "Requirement already satisfied: markdown-it-py>=2.2.0 in /usr/local/lib/python3.10/dist-packages (from rich>=8.0->cobra>=0.5.0->escher) (3.0.0)\n",
            "Collecting ruamel.yaml.clib>=0.2.7 (from ruamel.yaml~=0.16->cobra>=0.5.0->escher)\n",
            "  Downloading ruamel.yaml.clib-0.2.12-cp310-cp310-manylinux_2_17_x86_64.manylinux2014_x86_64.whl.metadata (2.7 kB)\n",
            "Requirement already satisfied: notebook>=4.4.1 in /usr/local/lib/python3.10/dist-packages (from widgetsnbextension~=3.6.10->ipywidgets<8,>=7.7.0->escher) (6.5.4)\n",
            "Requirement already satisfied: parso<0.9.0,>=0.8.4 in /usr/local/lib/python3.10/dist-packages (from jedi>=0.16->ipython>=4.0.0->ipywidgets<8,>=7.7.0->escher) (0.8.4)\n",
            "Requirement already satisfied: mdurl~=0.1 in /usr/local/lib/python3.10/dist-packages (from markdown-it-py>=2.2.0->rich>=8.0->cobra>=0.5.0->escher) (0.1.2)\n",
            "Requirement already satisfied: tornado>=6.1 in /usr/local/lib/python3.10/dist-packages (from notebook>=4.4.1->widgetsnbextension~=3.6.10->ipywidgets<8,>=7.7.0->escher) (6.3.3)\n",
            "Requirement already satisfied: pyzmq>=17 in /usr/local/lib/python3.10/dist-packages (from notebook>=4.4.1->widgetsnbextension~=3.6.10->ipywidgets<8,>=7.7.0->escher) (24.0.1)\n",
            "Requirement already satisfied: argon2-cffi in /usr/local/lib/python3.10/dist-packages (from notebook>=4.4.1->widgetsnbextension~=3.6.10->ipywidgets<8,>=7.7.0->escher) (23.1.0)\n",
            "Requirement already satisfied: jupyter-core>=4.6.1 in /usr/local/lib/python3.10/dist-packages (from notebook>=4.4.1->widgetsnbextension~=3.6.10->ipywidgets<8,>=7.7.0->escher) (5.7.2)\n",
            "Requirement already satisfied: jupyter-client>=5.3.4 in /usr/local/lib/python3.10/dist-packages (from notebook>=4.4.1->widgetsnbextension~=3.6.10->ipywidgets<8,>=7.7.0->escher) (8.6.3)\n",
            "Requirement already satisfied: nbformat in /usr/local/lib/python3.10/dist-packages (from notebook>=4.4.1->widgetsnbextension~=3.6.10->ipywidgets<8,>=7.7.0->escher) (5.10.4)\n",
            "Requirement already satisfied: nbconvert>=5 in /usr/local/lib/python3.10/dist-packages (from notebook>=4.4.1->widgetsnbextension~=3.6.10->ipywidgets<8,>=7.7.0->escher) (6.4.5)\n",
            "Requirement already satisfied: nest-asyncio>=1.5 in /usr/local/lib/python3.10/dist-packages (from notebook>=4.4.1->widgetsnbextension~=3.6.10->ipywidgets<8,>=7.7.0->escher) (1.6.0)\n",
            "Requirement already satisfied: ipykernel in /usr/local/lib/python3.10/dist-packages (from notebook>=4.4.1->widgetsnbextension~=3.6.10->ipywidgets<8,>=7.7.0->escher) (5.5.6)\n",
            "Requirement already satisfied: Send2Trash>=1.8.0 in /usr/local/lib/python3.10/dist-packages (from notebook>=4.4.1->widgetsnbextension~=3.6.10->ipywidgets<8,>=7.7.0->escher) (1.8.3)\n",
            "Requirement already satisfied: terminado>=0.8.3 in /usr/local/lib/python3.10/dist-packages (from notebook>=4.4.1->widgetsnbextension~=3.6.10->ipywidgets<8,>=7.7.0->escher) (0.18.1)\n",
            "Requirement already satisfied: prometheus-client in /usr/local/lib/python3.10/dist-packages (from notebook>=4.4.1->widgetsnbextension~=3.6.10->ipywidgets<8,>=7.7.0->escher) (0.21.1)\n",
            "Requirement already satisfied: nbclassic>=0.4.7 in /usr/local/lib/python3.10/dist-packages (from notebook>=4.4.1->widgetsnbextension~=3.6.10->ipywidgets<8,>=7.7.0->escher) (1.1.0)\n",
            "Requirement already satisfied: ptyprocess>=0.5 in /usr/local/lib/python3.10/dist-packages (from pexpect>4.3->ipython>=4.0.0->ipywidgets<8,>=7.7.0->escher) (0.7.0)\n",
            "Requirement already satisfied: wcwidth in /usr/local/lib/python3.10/dist-packages (from prompt-toolkit!=3.0.0,!=3.0.1,<3.1.0,>=2.0.0->ipython>=4.0.0->ipywidgets<8,>=7.7.0->escher) (0.2.13)\n",
            "Requirement already satisfied: mpmath<1.4,>=1.1.0 in /usr/local/lib/python3.10/dist-packages (from sympy>=1.12.0->optlang~=1.8->cobra>=0.5.0->escher) (1.3.0)\n",
            "Requirement already satisfied: sniffio>=1.1 in /usr/local/lib/python3.10/dist-packages (from anyio->httpx~=0.24->cobra>=0.5.0->escher) (1.3.1)\n",
            "Requirement already satisfied: intel-openmp>=2024 in /usr/local/lib/python3.10/dist-packages (from mkl->numpy>=1.13->cobra>=0.5.0->escher) (2024.2.0)\n",
            "Requirement already satisfied: tbb==2022.* in /usr/local/lib/python3.10/dist-packages (from mkl->numpy>=1.13->cobra>=0.5.0->escher) (2022.0.0)\n",
            "Requirement already satisfied: tcmlib==1.* in /usr/local/lib/python3.10/dist-packages (from tbb==2022.*->mkl->numpy>=1.13->cobra>=0.5.0->escher) (1.2.0)\n",
            "Requirement already satisfied: intel-cmplr-lib-rt in /usr/local/lib/python3.10/dist-packages (from mkl_umath->numpy>=1.13->cobra>=0.5.0->escher) (2024.2.0)\n",
            "Requirement already satisfied: intel-cmplr-lib-ur==2024.2.0 in /usr/local/lib/python3.10/dist-packages (from intel-openmp>=2024->mkl->numpy>=1.13->cobra>=0.5.0->escher) (2024.2.0)\n",
            "Requirement already satisfied: platformdirs>=2.5 in /usr/local/lib/python3.10/dist-packages (from jupyter-core>=4.6.1->notebook>=4.4.1->widgetsnbextension~=3.6.10->ipywidgets<8,>=7.7.0->escher) (4.3.6)\n",
            "Requirement already satisfied: notebook-shim>=0.2.3 in /usr/local/lib/python3.10/dist-packages (from nbclassic>=0.4.7->notebook>=4.4.1->widgetsnbextension~=3.6.10->ipywidgets<8,>=7.7.0->escher) (0.2.4)\n",
            "Requirement already satisfied: mistune<2,>=0.8.1 in /usr/local/lib/python3.10/dist-packages (from nbconvert>=5->notebook>=4.4.1->widgetsnbextension~=3.6.10->ipywidgets<8,>=7.7.0->escher) (0.8.4)\n",
            "Requirement already satisfied: jupyterlab-pygments in /usr/local/lib/python3.10/dist-packages (from nbconvert>=5->notebook>=4.4.1->widgetsnbextension~=3.6.10->ipywidgets<8,>=7.7.0->escher) (0.3.0)\n",
            "Requirement already satisfied: entrypoints>=0.2.2 in /usr/local/lib/python3.10/dist-packages (from nbconvert>=5->notebook>=4.4.1->widgetsnbextension~=3.6.10->ipywidgets<8,>=7.7.0->escher) (0.4)\n",
            "Requirement already satisfied: bleach in /usr/local/lib/python3.10/dist-packages (from nbconvert>=5->notebook>=4.4.1->widgetsnbextension~=3.6.10->ipywidgets<8,>=7.7.0->escher) (6.2.0)\n",
            "Requirement already satisfied: pandocfilters>=1.4.1 in /usr/local/lib/python3.10/dist-packages (from nbconvert>=5->notebook>=4.4.1->widgetsnbextension~=3.6.10->ipywidgets<8,>=7.7.0->escher) (1.5.1)\n",
            "Requirement already satisfied: testpath in /usr/local/lib/python3.10/dist-packages (from nbconvert>=5->notebook>=4.4.1->widgetsnbextension~=3.6.10->ipywidgets<8,>=7.7.0->escher) (0.6.0)\n",
            "Requirement already satisfied: defusedxml in /usr/local/lib/python3.10/dist-packages (from nbconvert>=5->notebook>=4.4.1->widgetsnbextension~=3.6.10->ipywidgets<8,>=7.7.0->escher) (0.7.1)\n",
            "Requirement already satisfied: beautifulsoup4 in /usr/local/lib/python3.10/dist-packages (from nbconvert>=5->notebook>=4.4.1->widgetsnbextension~=3.6.10->ipywidgets<8,>=7.7.0->escher) (4.12.3)\n",
            "Requirement already satisfied: nbclient<0.6.0,>=0.5.0 in /usr/local/lib/python3.10/dist-packages (from nbconvert>=5->notebook>=4.4.1->widgetsnbextension~=3.6.10->ipywidgets<8,>=7.7.0->escher) (0.5.13)\n",
            "Requirement already satisfied: fastjsonschema>=2.15 in /usr/local/lib/python3.10/dist-packages (from nbformat->notebook>=4.4.1->widgetsnbextension~=3.6.10->ipywidgets<8,>=7.7.0->escher) (2.21.1)\n",
            "Requirement already satisfied: argon2-cffi-bindings in /usr/local/lib/python3.10/dist-packages (from argon2-cffi->notebook>=4.4.1->widgetsnbextension~=3.6.10->ipywidgets<8,>=7.7.0->escher) (21.2.0)\n",
            "Requirement already satisfied: jupyter-server<3,>=1.8 in /usr/local/lib/python3.10/dist-packages (from notebook-shim>=0.2.3->nbclassic>=0.4.7->notebook>=4.4.1->widgetsnbextension~=3.6.10->ipywidgets<8,>=7.7.0->escher) (2.12.5)\n",
            "Requirement already satisfied: cffi>=1.0.1 in /usr/local/lib/python3.10/dist-packages (from argon2-cffi-bindings->argon2-cffi->notebook>=4.4.1->widgetsnbextension~=3.6.10->ipywidgets<8,>=7.7.0->escher) (1.17.1)\n",
            "Requirement already satisfied: soupsieve>1.2 in /usr/local/lib/python3.10/dist-packages (from beautifulsoup4->nbconvert>=5->notebook>=4.4.1->widgetsnbextension~=3.6.10->ipywidgets<8,>=7.7.0->escher) (2.6)\n",
            "Requirement already satisfied: webencodings in /usr/local/lib/python3.10/dist-packages (from bleach->nbconvert>=5->notebook>=4.4.1->widgetsnbextension~=3.6.10->ipywidgets<8,>=7.7.0->escher) (0.5.1)\n",
            "Requirement already satisfied: pycparser in /usr/local/lib/python3.10/dist-packages (from cffi>=1.0.1->argon2-cffi-bindings->argon2-cffi->notebook>=4.4.1->widgetsnbextension~=3.6.10->ipywidgets<8,>=7.7.0->escher) (2.22)\n",
            "Requirement already satisfied: jupyter-events>=0.9.0 in /usr/local/lib/python3.10/dist-packages (from jupyter-server<3,>=1.8->notebook-shim>=0.2.3->nbclassic>=0.4.7->notebook>=4.4.1->widgetsnbextension~=3.6.10->ipywidgets<8,>=7.7.0->escher) (0.11.0)\n",
            "Requirement already satisfied: jupyter-server-terminals in /usr/local/lib/python3.10/dist-packages (from jupyter-server<3,>=1.8->notebook-shim>=0.2.3->nbclassic>=0.4.7->notebook>=4.4.1->widgetsnbextension~=3.6.10->ipywidgets<8,>=7.7.0->escher) (0.5.3)\n",
            "Requirement already satisfied: overrides in /usr/local/lib/python3.10/dist-packages (from jupyter-server<3,>=1.8->notebook-shim>=0.2.3->nbclassic>=0.4.7->notebook>=4.4.1->widgetsnbextension~=3.6.10->ipywidgets<8,>=7.7.0->escher) (7.7.0)\n",
            "Requirement already satisfied: websocket-client in /usr/local/lib/python3.10/dist-packages (from jupyter-server<3,>=1.8->notebook-shim>=0.2.3->nbclassic>=0.4.7->notebook>=4.4.1->widgetsnbextension~=3.6.10->ipywidgets<8,>=7.7.0->escher) (1.8.0)\n",
            "Requirement already satisfied: python-json-logger>=2.0.4 in /usr/local/lib/python3.10/dist-packages (from jupyter-events>=0.9.0->jupyter-server<3,>=1.8->notebook-shim>=0.2.3->nbclassic>=0.4.7->notebook>=4.4.1->widgetsnbextension~=3.6.10->ipywidgets<8,>=7.7.0->escher) (3.2.1)\n",
            "Requirement already satisfied: pyyaml>=5.3 in /usr/local/lib/python3.10/dist-packages (from jupyter-events>=0.9.0->jupyter-server<3,>=1.8->notebook-shim>=0.2.3->nbclassic>=0.4.7->notebook>=4.4.1->widgetsnbextension~=3.6.10->ipywidgets<8,>=7.7.0->escher) (6.0.2)\n",
            "Requirement already satisfied: rfc3339-validator in /usr/local/lib/python3.10/dist-packages (from jupyter-events>=0.9.0->jupyter-server<3,>=1.8->notebook-shim>=0.2.3->nbclassic>=0.4.7->notebook>=4.4.1->widgetsnbextension~=3.6.10->ipywidgets<8,>=7.7.0->escher) (0.1.4)\n",
            "Requirement already satisfied: rfc3986-validator>=0.1.1 in /usr/local/lib/python3.10/dist-packages (from jupyter-events>=0.9.0->jupyter-server<3,>=1.8->notebook-shim>=0.2.3->nbclassic>=0.4.7->notebook>=4.4.1->widgetsnbextension~=3.6.10->ipywidgets<8,>=7.7.0->escher) (0.1.1)\n",
            "Requirement already satisfied: fqdn in /usr/local/lib/python3.10/dist-packages (from jsonschema[format-nongpl]>=4.18.0->jupyter-events>=0.9.0->jupyter-server<3,>=1.8->notebook-shim>=0.2.3->nbclassic>=0.4.7->notebook>=4.4.1->widgetsnbextension~=3.6.10->ipywidgets<8,>=7.7.0->escher) (1.5.1)\n",
            "Requirement already satisfied: isoduration in /usr/local/lib/python3.10/dist-packages (from jsonschema[format-nongpl]>=4.18.0->jupyter-events>=0.9.0->jupyter-server<3,>=1.8->notebook-shim>=0.2.3->nbclassic>=0.4.7->notebook>=4.4.1->widgetsnbextension~=3.6.10->ipywidgets<8,>=7.7.0->escher) (20.11.0)\n",
            "Requirement already satisfied: jsonpointer>1.13 in /usr/local/lib/python3.10/dist-packages (from jsonschema[format-nongpl]>=4.18.0->jupyter-events>=0.9.0->jupyter-server<3,>=1.8->notebook-shim>=0.2.3->nbclassic>=0.4.7->notebook>=4.4.1->widgetsnbextension~=3.6.10->ipywidgets<8,>=7.7.0->escher) (3.0.0)\n",
            "Requirement already satisfied: uri-template in /usr/local/lib/python3.10/dist-packages (from jsonschema[format-nongpl]>=4.18.0->jupyter-events>=0.9.0->jupyter-server<3,>=1.8->notebook-shim>=0.2.3->nbclassic>=0.4.7->notebook>=4.4.1->widgetsnbextension~=3.6.10->ipywidgets<8,>=7.7.0->escher) (1.3.0)\n",
            "Requirement already satisfied: webcolors>=24.6.0 in /usr/local/lib/python3.10/dist-packages (from jsonschema[format-nongpl]>=4.18.0->jupyter-events>=0.9.0->jupyter-server<3,>=1.8->notebook-shim>=0.2.3->nbclassic>=0.4.7->notebook>=4.4.1->widgetsnbextension~=3.6.10->ipywidgets<8,>=7.7.0->escher) (24.11.1)\n",
            "Requirement already satisfied: arrow>=0.15.0 in /usr/local/lib/python3.10/dist-packages (from isoduration->jsonschema[format-nongpl]>=4.18.0->jupyter-events>=0.9.0->jupyter-server<3,>=1.8->notebook-shim>=0.2.3->nbclassic>=0.4.7->notebook>=4.4.1->widgetsnbextension~=3.6.10->ipywidgets<8,>=7.7.0->escher) (1.3.0)\n",
            "Requirement already satisfied: types-python-dateutil>=2.8.10 in /usr/local/lib/python3.10/dist-packages (from arrow>=0.15.0->isoduration->jsonschema[format-nongpl]>=4.18.0->jupyter-events>=0.9.0->jupyter-server<3,>=1.8->notebook-shim>=0.2.3->nbclassic>=0.4.7->notebook>=4.4.1->widgetsnbextension~=3.6.10->ipywidgets<8,>=7.7.0->escher) (2.9.0.20241206)\n",
            "Downloading Escher-1.8.1-py3-none-any.whl (1.5 MB)\n",
            "\u001b[2K   \u001b[90m━━━━━━━━━━━━━━━━━━━━━━━━━━━━━━━━━━━━━━━━\u001b[0m \u001b[32m1.5/1.5 MB\u001b[0m \u001b[31m10.2 MB/s\u001b[0m eta \u001b[36m0:00:00\u001b[0m00:01\u001b[0m00:01\u001b[0m\n",
            "\u001b[?25hDownloading cobra-0.29.1-py2.py3-none-any.whl (1.2 MB)\n",
            "\u001b[2K   \u001b[90m━━━━━━━━━━━━━━━━━━━━━━━━━━━━━━━━━━━━━━━━\u001b[0m \u001b[32m1.2/1.2 MB\u001b[0m \u001b[31m45.8 MB/s\u001b[0m eta \u001b[36m0:00:00\u001b[0m\n",
            "\u001b[?25hDownloading ipywidgets-7.8.5-py2.py3-none-any.whl (124 kB)\n",
            "\u001b[2K   \u001b[90m━━━━━━━━━━━━━━━━━━━━━━━━━━━━━━━━━━━━━━━━\u001b[0m \u001b[32m124.1/124.1 kB\u001b[0m \u001b[31m6.0 MB/s\u001b[0m eta \u001b[36m0:00:00\u001b[0m\n",
            "\u001b[?25hDownloading appdirs-1.4.4-py2.py3-none-any.whl (9.6 kB)\n",
            "Downloading depinfo-2.2.0-py3-none-any.whl (24 kB)\n",
            "Downloading diskcache-5.6.3-py3-none-any.whl (45 kB)\n",
            "\u001b[2K   \u001b[90m━━━━━━━━━━━━━━━━━━━━━━━━━━━━━━━━━━━━━━━━\u001b[0m \u001b[32m45.5/45.5 kB\u001b[0m \u001b[31m1.8 MB/s\u001b[0m eta \u001b[36m0:00:00\u001b[0m\n",
            "\u001b[?25hDownloading jupyterlab_widgets-1.1.11-py3-none-any.whl (246 kB)\n",
            "\u001b[2K   \u001b[90m━━━━━━━━━━━━━━━━━━━━━━━━━━━━━━━━━━━━━━━━\u001b[0m \u001b[32m246.9/246.9 kB\u001b[0m \u001b[31m13.6 MB/s\u001b[0m eta \u001b[36m0:00:00\u001b[0m\n",
            "\u001b[?25hDownloading optlang-1.8.3-py2.py3-none-any.whl (141 kB)\n",
            "\u001b[2K   \u001b[90m━━━━━━━━━━━━━━━━━━━━━━━━━━━━━━━━━━━━━━━━\u001b[0m \u001b[32m141.8/141.8 kB\u001b[0m \u001b[31m7.5 MB/s\u001b[0m eta \u001b[36m0:00:00\u001b[0m\n",
            "\u001b[?25hDownloading python_libsbml-5.20.4-cp310-cp310-manylinux_2_17_x86_64.manylinux2014_x86_64.whl (8.0 MB)\n",
            "\u001b[2K   \u001b[90m━━━━━━━━━━━━━━━━━━━━━━━━━━━━━━━━━━━━━━━━\u001b[0m \u001b[32m8.0/8.0 MB\u001b[0m \u001b[31m2.5 MB/s\u001b[0m eta \u001b[36m0:00:00\u001b[0m00:01\u001b[0m00:01\u001b[0mmm\n",
            "\u001b[?25hDownloading ruamel.yaml-0.18.10-py3-none-any.whl (117 kB)\n",
            "\u001b[2K   \u001b[90m━━━━━━━━━━━━━━━━━━━━━━━━━━━━━━━━━━━━━━━━\u001b[0m \u001b[32m117.7/117.7 kB\u001b[0m \u001b[31m5.6 MB/s\u001b[0m eta \u001b[36m0:00:00\u001b[0m\n",
            "\u001b[?25hDownloading swiglpk-5.0.12-cp310-cp310-manylinux_2_17_x86_64.manylinux2014_x86_64.whl (2.3 MB)\n",
            "\u001b[2K   \u001b[90m━━━━━━━━━━━━━━━━━━━━━━━━━━━━━━━━━━━━━━━━\u001b[0m \u001b[32m2.3/2.3 MB\u001b[0m \u001b[31m9.1 MB/s\u001b[0m eta \u001b[36m0:00:00\u001b[0m:00:01\u001b[0m00:01\u001b[0mm\n",
            "\u001b[?25hDownloading widgetsnbextension-3.6.10-py2.py3-none-any.whl (1.6 MB)\n",
            "\u001b[2K   \u001b[90m━━━━━━━━━━━━━━━━━━━━━━━━━━━━━━━━━━━━━━━━\u001b[0m \u001b[32m1.6/1.6 MB\u001b[0m \u001b[31m41.0 MB/s\u001b[0m eta \u001b[36m0:00:00\u001b[0m:00:01\u001b[0m\n",
            "\u001b[?25hDownloading ruamel.yaml.clib-0.2.12-cp310-cp310-manylinux_2_17_x86_64.manylinux2014_x86_64.whl (722 kB)\n",
            "\u001b[2K   \u001b[90m━━━━━━━━━━━━━━━━━━━━━━━━━━━━━━━━━━━━━━━━\u001b[0m \u001b[32m722.2/722.2 kB\u001b[0m \u001b[31m28.7 MB/s\u001b[0m eta \u001b[36m0:00:00\u001b[0m\n",
            "\u001b[?25hInstalling collected packages: swiglpk, python-libsbml, appdirs, ruamel.yaml.clib, jupyterlab-widgets, diskcache, depinfo, ruamel.yaml, optlang, widgetsnbextension, ipywidgets, cobra, escher\n",
            "  Attempting uninstall: jupyterlab-widgets\n",
            "    Found existing installation: jupyterlab_widgets 3.0.13\n",
            "    Uninstalling jupyterlab_widgets-3.0.13:\n",
            "      Successfully uninstalled jupyterlab_widgets-3.0.13\n",
            "  Attempting uninstall: widgetsnbextension\n",
            "    Found existing installation: widgetsnbextension 4.0.13\n",
            "    Uninstalling widgetsnbextension-4.0.13:\n",
            "      Successfully uninstalled widgetsnbextension-4.0.13\n",
            "  Attempting uninstall: ipywidgets\n",
            "    Found existing installation: ipywidgets 8.1.5\n",
            "    Uninstalling ipywidgets-8.1.5:\n",
            "      Successfully uninstalled ipywidgets-8.1.5\n",
            "Successfully installed appdirs-1.4.4 cobra-0.29.1 depinfo-2.2.0 diskcache-5.6.3 escher-1.8.1 ipywidgets-7.8.5 jupyterlab-widgets-1.1.11 optlang-1.8.3 python-libsbml-5.20.4 ruamel.yaml-0.18.10 ruamel.yaml.clib-0.2.12 swiglpk-5.0.12 widgetsnbextension-3.6.10\n",
            "Note: you may need to restart the kernel to use updated packages.\n"
          ]
        }
      ],
      "source": [
        "!pip install escher"
      ]
    },
    {
      "cell_type": "code",
      "execution_count": null,
      "metadata": {
        "execution": {
          "iopub.execute_input": "2025-01-26T19:19:32.901938Z",
          "iopub.status.busy": "2025-01-26T19:19:32.901609Z",
          "iopub.status.idle": "2025-01-26T19:19:33.342605Z",
          "shell.execute_reply": "2025-01-26T19:19:33.341622Z",
          "shell.execute_reply.started": "2025-01-26T19:19:32.90191Z"
        },
        "id": "WL3lXaPVs07k",
        "outputId": "b957e894-4909-463d-a378-2161668f517f",
        "trusted": true
      },
      "outputs": [
        {
          "name": "stdout",
          "output_type": "stream",
          "text": [
            "Known nbextensions:\n",
            "  config dir: /root/.jupyter/nbconfig\n",
            "    notebook section\n",
            "      escher/extension \u001b[32m enabled \u001b[0m\n",
            "      - Validating: \u001b[32mOK\u001b[0m\n",
            "  config dir: /usr/local/etc/jupyter/nbconfig\n",
            "    notebook section\n",
            "      bqplot/extension \u001b[32m enabled \u001b[0m\n",
            "      - Validating: \u001b[32mOK\u001b[0m\n",
            "      catboost-widget/extension \u001b[32m enabled \u001b[0m\n",
            "      - Validating: \u001b[32mOK\u001b[0m\n",
            "      escher/extension \u001b[32m enabled \u001b[0m\n",
            "      - Validating: \u001b[32mOK\u001b[0m\n",
            "      ipyevents/extension \u001b[32m enabled \u001b[0m\n",
            "      - Validating: problems found:\n",
            "        - require? \u001b[31m X\u001b[0m ipyevents/extension\n",
            "      ipytree/extension \u001b[32m enabled \u001b[0m\n",
            "      - Validating: \u001b[32mOK\u001b[0m\n",
            "      jupyter-leaflet/extension \u001b[32m enabled \u001b[0m\n",
            "      - Validating: \u001b[32mOK\u001b[0m\n",
            "      jupyter-matplotlib/extension \u001b[32m enabled \u001b[0m\n",
            "      - Validating: \u001b[32mOK\u001b[0m\n",
            "      jupyterlab-plotly/extension \u001b[32m enabled \u001b[0m\n",
            "      - Validating: \u001b[32mOK\u001b[0m\n",
            "      jupyter-js-widgets/extension \u001b[32m enabled \u001b[0m\n",
            "      - Validating: \u001b[32mOK\u001b[0m\n",
            "    tree section\n",
            "      ipyparallel/main \u001b[32m enabled \u001b[0m\n",
            "      - Validating: \u001b[32mOK\u001b[0m\n"
          ]
        }
      ],
      "source": [
        "!jupyter nbextension list"
      ]
    },
    {
      "cell_type": "markdown",
      "metadata": {
        "id": "G-6JGImfs07l"
      },
      "source": [
        "Remarquer ici que l'extension escher/extension pour les Jupyter notebooks est activée."
      ]
    },
    {
      "cell_type": "code",
      "execution_count": null,
      "metadata": {
        "execution": {
          "iopub.execute_input": "2025-01-26T19:19:33.344552Z",
          "iopub.status.busy": "2025-01-26T19:19:33.344253Z",
          "iopub.status.idle": "2025-01-26T19:19:36.184967Z",
          "shell.execute_reply": "2025-01-26T19:19:36.183761Z",
          "shell.execute_reply.started": "2025-01-26T19:19:33.344525Z"
        },
        "id": "Rm0bNZqfs07l",
        "outputId": "d2dad770-bcf7-4cc6-ea09-d8ef7cd7d50f",
        "trusted": true
      },
      "outputs": [
        {
          "name": "stdout",
          "output_type": "stream",
          "text": [
            "Enabling notebook extension escher/extension...\n",
            "Paths used for configuration of notebook: \n",
            "    \t/root/.jupyter/nbconfig/notebook.json\n",
            "Paths used for configuration of notebook: \n",
            "    \t\n",
            "      - Validating: \u001b[32mOK\u001b[0m\n",
            "Paths used for configuration of notebook: \n",
            "    \t/root/.jupyter/nbconfig/notebook.json\n"
          ]
        }
      ],
      "source": [
        "!jupyter nbextension enable --py escher"
      ]
    },
    {
      "cell_type": "code",
      "execution_count": null,
      "metadata": {
        "execution": {
          "iopub.execute_input": "2025-01-26T19:19:36.186581Z",
          "iopub.status.busy": "2025-01-26T19:19:36.186245Z",
          "iopub.status.idle": "2025-01-26T19:20:50.589853Z",
          "shell.execute_reply": "2025-01-26T19:20:50.588538Z",
          "shell.execute_reply.started": "2025-01-26T19:19:36.186544Z"
        },
        "id": "OnzJAk2rs07l",
        "outputId": "f6a73735-9d0b-42d3-ab1f-d66f6dae07e8",
        "trusted": true
      },
      "outputs": [
        {
          "name": "stdout",
          "output_type": "stream",
          "text": [
            "\u001b[33m(Deprecated) Installing extensions with the jupyter labextension install command is now deprecated and will be removed in a future major version of JupyterLab.\n",
            "\n",
            "Users should manage prebuilt extensions with package managers like pip and conda, and extension authors are encouraged to distribute their extensions as prebuilt packages \u001b[0m\n",
            "Building jupyterlab assets (production, minimized)\n",
            "An error occurred.\n",
            "RuntimeError: JupyterLab failed to build\n",
            "See the log file for details:  /tmp/jupyterlab-debug-s2u6t3qh.log\n"
          ]
        }
      ],
      "source": [
        "!jupyter labextension install escher"
      ]
    },
    {
      "cell_type": "markdown",
      "metadata": {
        "id": "Yy01w7Mms07m"
      },
      "source": [
        "## https://github.com/jfoust-zymergen/escher/tree/python-3105) Visualisons un modèle métabolique"
      ]
    },
    {
      "cell_type": "code",
      "execution_count": null,
      "metadata": {
        "execution": {
          "iopub.execute_input": "2025-01-26T19:20:56.880362Z",
          "iopub.status.busy": "2025-01-26T19:20:56.879991Z",
          "iopub.status.idle": "2025-01-26T19:20:56.884725Z",
          "shell.execute_reply": "2025-01-26T19:20:56.883451Z",
          "shell.execute_reply.started": "2025-01-26T19:20:56.880334Z"
        },
        "id": "SMi8cqqYs07m",
        "trusted": true
      },
      "outputs": [],
      "source": [
        "import escher\n",
        "from escher import Builder\n",
        "import cobra"
      ]
    },
    {
      "cell_type": "code",
      "execution_count": null,
      "metadata": {
        "execution": {
          "iopub.execute_input": "2025-01-26T19:20:57.059993Z",
          "iopub.status.busy": "2025-01-26T19:20:57.059636Z",
          "iopub.status.idle": "2025-01-26T19:20:57.066386Z",
          "shell.execute_reply": "2025-01-26T19:20:57.065302Z",
          "shell.execute_reply.started": "2025-01-26T19:20:57.059963Z"
        },
        "id": "aQyvxBwas07m",
        "trusted": true
      },
      "outputs": [],
      "source": [
        "builder = Builder()"
      ]
    },
    {
      "cell_type": "code",
      "execution_count": null,
      "metadata": {
        "colab": {
          "referenced_widgets": [
            "1730b208c5f64df1a29adaf7f7bd3956"
          ]
        },
        "execution": {
          "iopub.execute_input": "2025-01-26T19:20:57.220133Z",
          "iopub.status.busy": "2025-01-26T19:20:57.219794Z",
          "iopub.status.idle": "2025-01-26T19:20:57.226409Z",
          "shell.execute_reply": "2025-01-26T19:20:57.225421Z",
          "shell.execute_reply.started": "2025-01-26T19:20:57.220106Z"
        },
        "id": "fC6_JfGBs07n",
        "outputId": "6fa89812-ee4d-4bb9-cfff-f7a66e6730fa",
        "trusted": true
      },
      "outputs": [
        {
          "data": {
            "application/vnd.jupyter.widget-view+json": {
              "model_id": "1730b208c5f64df1a29adaf7f7bd3956",
              "version_major": 2,
              "version_minor": 0
            },
            "text/plain": [
              "Builder()"
            ]
          },
          "metadata": {},
          "output_type": "display_data"
        }
      ],
      "source": [
        "builder"
      ]
    },
    {
      "cell_type": "code",
      "execution_count": null,
      "metadata": {
        "execution": {
          "iopub.execute_input": "2025-01-26T19:20:52.515366Z",
          "iopub.status.busy": "2025-01-26T19:20:52.514951Z",
          "iopub.status.idle": "2025-01-26T19:20:52.710408Z",
          "shell.execute_reply": "2025-01-26T19:20:52.708941Z",
          "shell.execute_reply.started": "2025-01-26T19:20:52.515327Z"
        },
        "id": "gSyzBINns07n",
        "outputId": "e429702b-2a6e-41b9-f07d-f4fa6f4d5a36",
        "trusted": true
      },
      "outputs": [
        {
          "name": "stdout",
          "output_type": "stream",
          "text": [
            "File ‘e_coli_core.json’ already there; not retrieving.\n",
            "\n"
          ]
        }
      ],
      "source": [
        "!wget -nc http://bigg.ucsd.edu/static/models/e_coli_core.json"
      ]
    },
    {
      "cell_type": "code",
      "execution_count": null,
      "metadata": {
        "execution": {
          "iopub.execute_input": "2025-01-26T19:20:52.713158Z",
          "iopub.status.busy": "2025-01-26T19:20:52.712671Z",
          "iopub.status.idle": "2025-01-26T19:20:52.751326Z",
          "shell.execute_reply": "2025-01-26T19:20:52.75023Z",
          "shell.execute_reply.started": "2025-01-26T19:20:52.713108Z"
        },
        "id": "qlg0MXQHs07o",
        "trusted": true
      },
      "outputs": [],
      "source": [
        "builder = Builder(\n",
        "    model_json='iAB_RBC_283.json'\n",
        ")"
      ]
    },
    {
      "cell_type": "code",
      "execution_count": null,
      "metadata": {
        "execution": {
          "iopub.execute_input": "2025-01-26T19:21:52.070825Z",
          "iopub.status.busy": "2025-01-26T19:21:52.070357Z",
          "iopub.status.idle": "2025-01-26T19:21:52.07656Z",
          "shell.execute_reply": "2025-01-26T19:21:52.07524Z",
          "shell.execute_reply.started": "2025-01-26T19:21:52.070787Z"
        },
        "id": "txWrVkrvs07o",
        "outputId": "9c5c7a63-5966-40d0-84e9-1275010837a7",
        "trusted": true
      },
      "outputs": [
        {
          "name": "stdout",
          "output_type": "stream",
          "text": [
            "<module 'escher' from '/usr/local/lib/python3.10/dist-packages/escher/__init__.py'>\n"
          ]
        }
      ],
      "source": [
        "print(escher)"
      ]
    },
    {
      "cell_type": "code",
      "execution_count": 1,
      "metadata": {
        "colab": {
          "base_uri": "https://localhost:8080/"
        },
        "execution": {
          "iopub.execute_input": "2025-01-26T19:23:13.191962Z",
          "iopub.status.busy": "2025-01-26T19:23:13.191586Z",
          "iopub.status.idle": "2025-01-26T19:23:13.331264Z",
          "shell.execute_reply": "2025-01-26T19:23:13.329922Z",
          "shell.execute_reply.started": "2025-01-26T19:23:13.191933Z"
        },
        "id": "6bgHqnv3s07p",
        "outputId": "2bd4c62b-7a40-4c86-9519-a3ecbdd876cd",
        "trusted": true
      },
      "outputs": [
        {
          "name": "stdout",
          "output_type": "stream",
          "text": [
            "Python 3.11.11\n"
          ]
        }
      ],
      "source": [
        "!python --version"
      ]
    },
    {
      "cell_type": "code",
      "execution_count": null,
      "metadata": {
        "colab": {
          "referenced_widgets": [
            "ea7f1fe0b56242a789e5b2caf9e62841"
          ]
        },
        "execution": {
          "iopub.execute_input": "2025-01-26T19:20:52.825193Z",
          "iopub.status.busy": "2025-01-26T19:20:52.824785Z",
          "iopub.status.idle": "2025-01-26T19:20:53.014847Z",
          "shell.execute_reply": "2025-01-26T19:20:53.013772Z",
          "shell.execute_reply.started": "2025-01-26T19:20:52.825153Z"
        },
        "id": "1suj29Vds07p",
        "outputId": "a6ae2ee0-348d-4ba6-dfc0-944996fcc713",
        "trusted": true
      },
      "outputs": [
        {
          "data": {
            "application/vnd.jupyter.widget-view+json": {
              "model_id": "ea7f1fe0b56242a789e5b2caf9e62841",
              "version_major": 2,
              "version_minor": 0
            },
            "text/plain": [
              "Builder()"
            ]
          },
          "metadata": {},
          "output_type": "display_data"
        }
      ],
      "source": [
        "builder"
      ]
    },
    {
      "cell_type": "code",
      "execution_count": null,
      "metadata": {
        "id": "QAvtM9Bms07p",
        "trusted": true
      },
      "outputs": [],
      "source": []
    },
    {
      "cell_type": "code",
      "execution_count": null,
      "metadata": {
        "id": "YIYcw0nDs07q",
        "trusted": true
      },
      "outputs": [],
      "source": []
    }
  ],
  "metadata": {
    "colab": {
      "name": "Modélisation du métabolisme",
      "provenance": []
    },
    "kaggle": {
      "accelerator": "none",
      "dataSources": [],
      "isGpuEnabled": false,
      "isInternetEnabled": true,
      "language": "python",
      "sourceType": "notebook"
    },
    "kernelspec": {
      "display_name": "Python 3",
      "language": "python",
      "name": "python3"
    },
    "language_info": {
      "codemirror_mode": {
        "name": "ipython",
        "version": 3
      },
      "file_extension": ".py",
      "mimetype": "text/x-python",
      "name": "python",
      "nbconvert_exporter": "python",
      "pygments_lexer": "ipython3",
      "version": "3.10.12"
    }
  },
  "nbformat": 4,
  "nbformat_minor": 0
}
