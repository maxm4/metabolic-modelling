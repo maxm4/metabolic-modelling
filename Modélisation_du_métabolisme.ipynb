{
 "cells": [
  {
   "cell_type": "markdown",
   "metadata": {
    "id": "tLdx41ZWs07a"
   },
   "source": [
    "# Atelier de modélisation du métabolisme\n",
    "\n",
    "### Maxime Mahout"
   ]
  },
  {
   "cell_type": "markdown",
   "metadata": {
    "execution": {
     "iopub.execute_input": "2025-01-26T18:14:48.289788Z",
     "iopub.status.busy": "2025-01-26T18:14:48.289359Z",
     "iopub.status.idle": "2025-01-26T18:14:48.294279Z",
     "shell.execute_reply": "2025-01-26T18:14:48.293054Z",
     "shell.execute_reply.started": "2025-01-26T18:14:48.289755Z"
    },
    "id": "lyyz5SB0s07c"
   },
   "source": [
    "## 1) Qu'est-ce que le métabolisme ?\n",
    "\n",
    "L'ensemble des réactions qui se déroulent au sein d'une cellule (source image: Wikipedia)."
   ]
  },
  {
   "cell_type": "markdown",
   "metadata": {
    "id": "hPB2bh_fs07c"
   },
   "source": [
    "![img](https://upload.wikimedia.org/wikipedia/commons/thumb/6/6e/Metabolic_Metro_Map.svg/800px-Metabolic_Metro_Map.svg.png)"
   ]
  },
  {
   "cell_type": "markdown",
   "metadata": {
    "id": "AMhhOINTs07d"
   },
   "source": [
    "### → Réseaux métaboliques:\n",
    "* noeuds: métabolites\n",
    "* arêtes: réaction\n",
    "* pondération: stoechiométrie\n",
    "\n",
    "\\begin{equation}\n",
    "\\text{ex: } 2~ADP \\rightarrow ATP + AMP\n",
    "\\end{equation}"
   ]
  },
  {
   "cell_type": "markdown",
   "metadata": {
    "id": "usxwG6nJs07e"
   },
   "source": [
    "## 2) Qu'est-ce qu'un modèle du métabolisme ?\n",
    "\n",
    "Exemple: Mahout, Schwartz, Attal, Bakkar, Peres, 2024:\n",
    "\n",
    "https://doi.org/10.1371/journal.pone.0313962"
   ]
  },
  {
   "cell_type": "markdown",
   "metadata": {
    "id": "cPpVOIa6s07f"
   },
   "source": [
    "![img](https://journals.plos.org/plosone/article/figure/image?size=large&id=10.1371/journal.pone.0313962.g007)"
   ]
  },
  {
   "cell_type": "markdown",
   "metadata": {
    "id": "-lkFSI-ws07g"
   },
   "source": [
    "Un modèle en sciences est une réduction d'un objet réel en une maquette que l'on peut analyser pour faire des prédictions que l'on espère avérées sur cet objet réel.\n",
    "\n",
    "Ici, par exemple nous faisons des hypothèses sur la formation du stroma tumoral à partir d'un modèle réduit du métabolisme principal de la cellule cancéreuse."
   ]
  },
  {
   "cell_type": "markdown",
   "metadata": {
    "id": "TOReeLzMs07g"
   },
   "source": [
    "## 3) Pourquoi modéliser le métabolisme ?\n",
    "\n",
    "Comme en bio-statistique, on utilise les modèles afin de répondre à des questions scientifiques pour lesquelles on a formulé des hypothèses.\n",
    "\n",
    "Egalement nous pouvons partir dépourvus d'une hypothèse et tester des propriétés sur des modèles pré-existants en espérant faire émerger des découvertes.\n"
   ]
  },
  {
   "cell_type": "markdown",
   "metadata": {
    "id": "XuCVGzw3s07h"
   },
   "source": [
    "## 4) Comment modéliser le métabolisme ?\n",
    "\n",
    "Il existe plusieurs façons de modéliser le métabolisme et sa complexité. Nous pouvons utiliser des approches 1) dynamiques ou 2) à l'état stationnaire pour modéliser les réactions biochimiques.\n",
    "\n",
    "Les méthodes à l'état stationnaire, c'est à dire où la concentration en métabolite ne varie pas au cours du temps, telles que Flux Balance Analysis, sont les plus faciles d'accès.\n",
    "\n",
    "Plus globalement afin d'obtenir des prédictions précises les modèles doivent respecter les principes de la \"biologie des systèmes\", une science qui s'attèle à représenter le système biologique dans toute sa complexité.\n",
    "\n",
    "Autrement dit, le modèle biologique doit pouvoir intégrer le système \"cellule\" à travers tous ses niveaux: gène, ADN, ARN, molécules, chimie, protéine, enzyme, lipides, etc. et pourra être confirmé par tout autant d'analyses, génomique, transcriptomique, protéomique, métabolomique, etc. cf. https://www.nature.com/articles/nrm1857"
   ]
  },
  {
   "cell_type": "markdown",
   "metadata": {
    "id": "nihrk3HSs07i"
   },
   "source": [
    "## 5) Avec quelle méthode commencer ?\n",
    "\n",
    "Je préconise la méthode \"[Flux Balance Analysis](https://doi.org/10.1038/nbt.1614)\" (FBA) et de partir \"hypothesis-free\" sur des modèles \"à l'échelle du génome\" préexistants, tels que ceux présents sur la base de données [BiGG](http://bigg.ucsd.edu/). Un modèle dit à l'échelle du génome est reconstruit à partir d'un génome et associe gènes aux réactions.\n",
    "\n",
    "Afin de tester cela, nous pouvons installer l'outil `cobrapy` [(documentation)](https://cobrapy.readthedocs.io/) et tester le modèle par défaut `e_coli_core` (cf. [reference](https://europepmc.org/article/med/26443778)). \n",
    "\n",
    "Nous utiliserons `escher` [(documentation)](https://escher.readthedocs.io/en/latest/escher-python.html) pour la visualisation des réseaux métaboliques."
   ]
  },
  {
   "cell_type": "code",
   "execution_count": 1,
   "metadata": {},
   "outputs": [
    {
     "name": "stdout",
     "output_type": "stream",
     "text": [
      "cobra                    0.26.2\r\n",
      "Escher                   1.7.3\r\n"
     ]
    }
   ],
   "source": [
    "!pip list | grep -e \"cobra\" -e \"Escher\""
   ]
  },
  {
   "cell_type": "code",
   "execution_count": 2,
   "metadata": {
    "execution": {
     "iopub.execute_input": "2025-01-26T19:19:32.901938Z",
     "iopub.status.busy": "2025-01-26T19:19:32.901609Z",
     "iopub.status.idle": "2025-01-26T19:19:33.342605Z",
     "shell.execute_reply": "2025-01-26T19:19:33.341622Z",
     "shell.execute_reply.started": "2025-01-26T19:19:32.90191Z"
    },
    "id": "WL3lXaPVs07k",
    "outputId": "b957e894-4909-463d-a378-2161668f517f"
   },
   "outputs": [
    {
     "name": "stdout",
     "output_type": "stream",
     "text": [
      "Known nbextensions:\r\n",
      "  config dir: /home/maxime/anaconda3/envs/escher-viz/etc/jupyter/nbconfig\r\n",
      "    notebook section\r\n",
      "      escher/extension \u001b[32m enabled \u001b[0m\r\n",
      "      - Validating: \u001b[32mOK\u001b[0m\r\n",
      "      jupyter-js-widgets/extension \u001b[32m enabled \u001b[0m\r\n",
      "      - Validating: \u001b[32mOK\u001b[0m\r\n",
      "  config dir: /home/maxime/.jupyter/nbconfig\r\n",
      "    notebook section\r\n",
      "      jupyter-js-widgets/extension \u001b[32m enabled \u001b[0m\r\n",
      "      - Validating: \u001b[32mOK\u001b[0m\r\n",
      "  config dir: /home/maxime/.local/etc/jupyter/nbconfig\r\n",
      "    notebook section\r\n",
      "      nbextensions_configurator/config_menu/main \u001b[32m enabled \u001b[0m\r\n",
      "      - Validating: problems found:\r\n",
      "        - require? \u001b[31m X\u001b[0m nbextensions_configurator/config_menu/main\r\n",
      "      jupyter-js-widgets/extension \u001b[32m enabled \u001b[0m\r\n",
      "      - Validating: \u001b[32mOK\u001b[0m\r\n",
      "    tree section\r\n",
      "      nbextensions_configurator/tree_tab/main \u001b[32m enabled \u001b[0m\r\n",
      "      - Validating: problems found:\r\n",
      "        - require? \u001b[31m X\u001b[0m nbextensions_configurator/tree_tab/main\r\n",
      "  config dir: /etc/jupyter/nbconfig\r\n",
      "    notebook section\r\n",
      "      jupyter-js-widgets/extension \u001b[32m enabled \u001b[0m\r\n",
      "      - Validating: \u001b[32mOK\u001b[0m\r\n"
     ]
    }
   ],
   "source": [
    "!jupyter nbextension list"
   ]
  },
  {
   "cell_type": "markdown",
   "metadata": {
    "id": "G-6JGImfs07l"
   },
   "source": [
    "Remarquer ici que l'extension escher/extension pour les Jupyter notebooks est activée."
   ]
  },
  {
   "cell_type": "markdown",
   "metadata": {
    "id": "Yy01w7Mms07m"
   },
   "source": [
    "## 6) Visualisons un modèle métabolique"
   ]
  },
  {
   "cell_type": "markdown",
   "metadata": {},
   "source": [
    "Le modèle `e_coli_core` est un modèle simplifié du métabolisme central de la bactérie *Escherichia coli*.\n",
    "\n",
    "Il possède 72 metabolites, 95 réactions, et a été reconstruit depuis le génome à partir de 137 gènes."
   ]
  },
  {
   "cell_type": "code",
   "execution_count": 3,
   "metadata": {
    "execution": {
     "iopub.execute_input": "2025-01-26T19:20:56.880362Z",
     "iopub.status.busy": "2025-01-26T19:20:56.879991Z",
     "iopub.status.idle": "2025-01-26T19:20:56.884725Z",
     "shell.execute_reply": "2025-01-26T19:20:56.883451Z",
     "shell.execute_reply.started": "2025-01-26T19:20:56.880334Z"
    },
    "id": "SMi8cqqYs07m"
   },
   "outputs": [],
   "source": [
    "import escher\n",
    "from escher import Builder\n",
    "import cobra"
   ]
  },
  {
   "cell_type": "code",
   "execution_count": 4,
   "metadata": {
    "execution": {
     "iopub.execute_input": "2025-01-26T19:20:52.515366Z",
     "iopub.status.busy": "2025-01-26T19:20:52.514951Z",
     "iopub.status.idle": "2025-01-26T19:20:52.710408Z",
     "shell.execute_reply": "2025-01-26T19:20:52.708941Z",
     "shell.execute_reply.started": "2025-01-26T19:20:52.515327Z"
    },
    "id": "gSyzBINns07n",
    "outputId": "e429702b-2a6e-41b9-f07d-f4fa6f4d5a36"
   },
   "outputs": [
    {
     "name": "stdout",
     "output_type": "stream",
     "text": [
      "Fichier «e_coli_core.json» déjà présent ; pas de récupération.\n",
      "\n",
      "Fichier «e_coli_core.xml» déjà présent ; pas de récupération.\n",
      "\n"
     ]
    }
   ],
   "source": [
    "!wget -nc http://bigg.ucsd.edu/static/models/e_coli_core.json\n",
    "!wget -nc http://bigg.ucsd.edu/static/models/e_coli_core.xml"
   ]
  },
  {
   "cell_type": "code",
   "execution_count": 5,
   "metadata": {
    "execution": {
     "iopub.execute_input": "2025-01-26T19:20:52.713158Z",
     "iopub.status.busy": "2025-01-26T19:20:52.712671Z",
     "iopub.status.idle": "2025-01-26T19:20:52.751326Z",
     "shell.execute_reply": "2025-01-26T19:20:52.75023Z",
     "shell.execute_reply.started": "2025-01-26T19:20:52.713108Z"
    },
    "id": "qlg0MXQHs07o"
   },
   "outputs": [
    {
     "name": "stdout",
     "output_type": "stream",
     "text": [
      "Downloading Map from https://escher.github.io/1-0-0/6/maps/Escherichia%20coli/e_coli_core.Core%20metabolism.json\n",
      "Downloading Model from https://escher.github.io/1-0-0/6/models/Escherichia%20coli/e_coli_core.json\n"
     ]
    }
   ],
   "source": [
    "builder = Builder(\n",
    "    map_name='e_coli_core.Core metabolism',\n",
    "    model_name='e_coli_core',\n",
    ")"
   ]
  },
  {
   "cell_type": "code",
   "execution_count": 6,
   "metadata": {
    "colab": {
     "referenced_widgets": [
      "1730b208c5f64df1a29adaf7f7bd3956"
     ]
    },
    "execution": {
     "iopub.execute_input": "2025-01-26T19:20:57.220133Z",
     "iopub.status.busy": "2025-01-26T19:20:57.219794Z",
     "iopub.status.idle": "2025-01-26T19:20:57.226409Z",
     "shell.execute_reply": "2025-01-26T19:20:57.225421Z",
     "shell.execute_reply.started": "2025-01-26T19:20:57.220106Z"
    },
    "id": "fC6_JfGBs07n",
    "outputId": "6fa89812-ee4d-4bb9-cfff-f7a66e6730fa"
   },
   "outputs": [
    {
     "data": {
      "application/vnd.jupyter.widget-view+json": {
       "model_id": "328ea7062c394b0ea69d05aaab739daa",
       "version_major": 2,
       "version_minor": 0
      },
      "text/plain": [
       "Builder()"
      ]
     },
     "metadata": {},
     "output_type": "display_data"
    }
   ],
   "source": [
    "builder"
   ]
  },
  {
   "cell_type": "markdown",
   "metadata": {},
   "source": [
    "La croissance de la bactérie est modélisée par une réaction appelée `BIOMASS_Ecoli_core`, réaction de synthèse de la biomasse. Cette réaction est calculée afin que son flux en métabolites soit plus ou moins proportionnelle au taux de croissance expérimental.\n",
    "\n",
    "Ce modèle est donc adapté pour la méthode Flux Balance Analysis (FBA), c'est à dire l'analyse à l'état stationnaire des flux du réseau de réactions, à l'aide d'une optimisation linéaire avec comme fonction objective la croissance de la cellule."
   ]
  },
  {
   "cell_type": "code",
   "execution_count": 102,
   "metadata": {},
   "outputs": [],
   "source": [
    "model = cobra.io.read_sbml_model('e_coli_core.xml')"
   ]
  },
  {
   "cell_type": "code",
   "execution_count": 103,
   "metadata": {},
   "outputs": [
    {
     "data": {
      "text/html": [
       "\n",
       "        <table>\n",
       "            <tr>\n",
       "                <td><strong>Name</strong></td>\n",
       "                <td>e_coli_core</td>\n",
       "            </tr><tr>\n",
       "                <td><strong>Memory address</strong></td>\n",
       "                <td>7fc2b6bb4400</td>\n",
       "            </tr><tr>\n",
       "                <td><strong>Number of metabolites</strong></td>\n",
       "                <td>72</td>\n",
       "            </tr><tr>\n",
       "                <td><strong>Number of reactions</strong></td>\n",
       "                <td>95</td>\n",
       "            </tr><tr>\n",
       "                <td><strong>Number of genes</strong></td>\n",
       "                <td>137</td>\n",
       "            </tr><tr>\n",
       "                <td><strong>Number of groups</strong></td>\n",
       "                <td>0</td>\n",
       "            </tr><tr>\n",
       "                <td><strong>Objective expression</strong></td>\n",
       "                <td>1.0*BIOMASS_Ecoli_core_w_GAM - 1.0*BIOMASS_Ecoli_core_w_GAM_reverse_712e5</td>\n",
       "            </tr><tr>\n",
       "                <td><strong>Compartments</strong></td>\n",
       "                <td>extracellular space, cytosol</td>\n",
       "            </tr>\n",
       "          </table>"
      ],
      "text/plain": [
       "<Model e_coli_core at 0x7fc2b6bb4400>"
      ]
     },
     "execution_count": 103,
     "metadata": {},
     "output_type": "execute_result"
    }
   ],
   "source": [
    "model"
   ]
  },
  {
   "cell_type": "markdown",
   "metadata": {},
   "source": [
    "## 7) Visualisons l'effet d'une mutation d'un gène sur le métabolisme\n",
    "\n",
    "### a) Quel taux de croissance pour la bactérie *E. coli* wild type ?"
   ]
  },
  {
   "cell_type": "code",
   "execution_count": 7,
   "metadata": {},
   "outputs": [],
   "source": [
    "from copy import copy"
   ]
  },
  {
   "cell_type": "code",
   "execution_count": 8,
   "metadata": {},
   "outputs": [],
   "source": [
    "growth_rates = {}"
   ]
  },
  {
   "cell_type": "code",
   "execution_count": null,
   "metadata": {},
   "outputs": [],
   "source": [
    "model = cobra.io.read_sbml_model('e_coli_core.xml')"
   ]
  },
  {
   "cell_type": "code",
   "execution_count": 10,
   "metadata": {},
   "outputs": [],
   "source": [
    "fluxes = model.optimize()"
   ]
  },
  {
   "cell_type": "code",
   "execution_count": 11,
   "metadata": {},
   "outputs": [
    {
     "name": "stdout",
     "output_type": "stream",
     "text": [
      "Downloading Map from https://escher.github.io/1-0-0/6/maps/Escherichia%20coli/e_coli_core.Core%20metabolism.json\n",
      "Downloading Model from https://escher.github.io/1-0-0/6/models/Escherichia%20coli/e_coli_core.json\n"
     ]
    }
   ],
   "source": [
    "builder = Builder(\n",
    "    map_name='e_coli_core.Core metabolism',\n",
    "    model_name='e_coli_core',\n",
    ")"
   ]
  },
  {
   "cell_type": "code",
   "execution_count": 12,
   "metadata": {},
   "outputs": [],
   "source": [
    "builder.reaction_data = fluxes.fluxes"
   ]
  },
  {
   "cell_type": "code",
   "execution_count": 13,
   "metadata": {},
   "outputs": [
    {
     "data": {
      "application/vnd.jupyter.widget-view+json": {
       "model_id": "7cf3a61c6bff403da5ac837843ceb3d9",
       "version_major": 2,
       "version_minor": 0
      },
      "text/plain": [
       "Builder(reaction_data={'PFK': 7.477381962160285, 'PFL': 0.0, 'PGI': 4.860861146496822, 'PGK': -16.023526143167…"
      ]
     },
     "metadata": {},
     "output_type": "display_data"
    }
   ],
   "source": [
    "builder"
   ]
  },
  {
   "cell_type": "code",
   "execution_count": 14,
   "metadata": {},
   "outputs": [
    {
     "data": {
      "text/plain": [
       "0.8739215069684302"
      ]
     },
     "execution_count": 14,
     "metadata": {},
     "output_type": "execute_result"
    }
   ],
   "source": [
    "fluxes.fluxes['BIOMASS_Ecoli_core_w_GAM']"
   ]
  },
  {
   "cell_type": "code",
   "execution_count": 15,
   "metadata": {},
   "outputs": [],
   "source": [
    "growth_rates['WT'] = fluxes.fluxes['BIOMASS_Ecoli_core_w_GAM']"
   ]
  },
  {
   "cell_type": "markdown",
   "metadata": {},
   "source": [
    "Le taux de croissance simulé de la bactérie *E. coli* WT est de ~ 0.873 h⁻¹."
   ]
  },
  {
   "cell_type": "markdown",
   "metadata": {},
   "source": [
    "### b) Quel taux de croissance pour la bactérie *E. coli* avec knock-out du gène *pgi* ?"
   ]
  },
  {
   "cell_type": "markdown",
   "metadata": {},
   "source": [
    "Voir la fiche UniProt: https://www.uniprot.org/uniprotkb/P0A6T1/entry."
   ]
  },
  {
   "cell_type": "code",
   "execution_count": 16,
   "metadata": {},
   "outputs": [],
   "source": [
    "model = cobra.io.read_sbml_model('e_coli_core.xml')"
   ]
  },
  {
   "cell_type": "code",
   "execution_count": 17,
   "metadata": {},
   "outputs": [
    {
     "data": {
      "text/html": [
       "\n",
       "        <table>\n",
       "            <tr>\n",
       "                <td><strong>Reaction identifier</strong></td><td>PGI</td>\n",
       "            </tr><tr>\n",
       "                <td><strong>Name</strong></td><td>Glucose-6-phosphate isomerase</td>\n",
       "            </tr><tr>\n",
       "                <td><strong>Memory address</strong></td>\n",
       "                <td>0x7fc2eda64790</td>\n",
       "            </tr><tr>\n",
       "                <td><strong>Stoichiometry</strong></td>\n",
       "                <td>\n",
       "                    <p style='text-align:right'>g6p_c <=> f6p_c</p>\n",
       "                    <p style='text-align:right'>D-Glucose 6-phosphate <=> D-Fructose 6-phosphate</p>\n",
       "                </td>\n",
       "            </tr><tr>\n",
       "                <td><strong>GPR</strong></td><td>b4025</td>\n",
       "            </tr><tr>\n",
       "                <td><strong>Lower bound</strong></td><td>-1000.0</td>\n",
       "            </tr><tr>\n",
       "                <td><strong>Upper bound</strong></td><td>1000.0</td>\n",
       "            </tr>\n",
       "        </table>\n",
       "        "
      ],
      "text/plain": [
       "<Reaction PGI at 0x7fc2eda64790>"
      ]
     },
     "execution_count": 17,
     "metadata": {},
     "output_type": "execute_result"
    }
   ],
   "source": [
    "model.reactions.get_by_id('PGI') # bounds (-1000.0, 1000.0)"
   ]
  },
  {
   "cell_type": "code",
   "execution_count": 18,
   "metadata": {},
   "outputs": [],
   "source": [
    "for gene in list(model.reactions.get_by_id('PGI').genes):\n",
    "    gene.knock_out() # b4025"
   ]
  },
  {
   "cell_type": "code",
   "execution_count": 74,
   "metadata": {},
   "outputs": [
    {
     "data": {
      "text/plain": [
       "(-1.0, 1.0)"
      ]
     },
     "execution_count": 74,
     "metadata": {},
     "output_type": "execute_result"
    }
   ],
   "source": [
    "model.reactions.get_by_id('PGI').bounds # bounds were changed to (0, 0)"
   ]
  },
  {
   "cell_type": "code",
   "execution_count": 20,
   "metadata": {},
   "outputs": [
    {
     "name": "stdout",
     "output_type": "stream",
     "text": [
      "Downloading Map from https://escher.github.io/1-0-0/6/maps/Escherichia%20coli/e_coli_core.Core%20metabolism.json\n",
      "Downloading Model from https://escher.github.io/1-0-0/6/models/Escherichia%20coli/e_coli_core.json\n"
     ]
    }
   ],
   "source": [
    "builder = Builder(\n",
    "    map_name='e_coli_core.Core metabolism',\n",
    "    model_name='e_coli_core',\n",
    ")"
   ]
  },
  {
   "cell_type": "code",
   "execution_count": 21,
   "metadata": {},
   "outputs": [],
   "source": [
    "fluxes = model.optimize()"
   ]
  },
  {
   "cell_type": "code",
   "execution_count": 22,
   "metadata": {},
   "outputs": [],
   "source": [
    "builder.reaction_data = fluxes.fluxes"
   ]
  },
  {
   "cell_type": "code",
   "execution_count": 23,
   "metadata": {},
   "outputs": [
    {
     "data": {
      "application/vnd.jupyter.widget-view+json": {
       "model_id": "cff485750cc940f3a3162aae37fe1ed6",
       "version_major": 2,
       "version_minor": 0
      },
      "text/plain": [
       "Builder(reaction_data={'PFK': 5.867064429485861, 'PFL': 0.0, 'PGI': 0.0, 'PGK': -14.431112198431936, 'PGL': 9.…"
      ]
     },
     "metadata": {},
     "output_type": "display_data"
    }
   ],
   "source": [
    "builder"
   ]
  },
  {
   "cell_type": "code",
   "execution_count": 24,
   "metadata": {},
   "outputs": [
    {
     "data": {
      "text/plain": [
       "0.8631595522084179"
      ]
     },
     "execution_count": 24,
     "metadata": {},
     "output_type": "execute_result"
    }
   ],
   "source": [
    "fluxes.fluxes['BIOMASS_Ecoli_core_w_GAM']"
   ]
  },
  {
   "cell_type": "code",
   "execution_count": 25,
   "metadata": {},
   "outputs": [],
   "source": [
    "growth_rates['pgi-'] = fluxes.fluxes['BIOMASS_Ecoli_core_w_GAM']"
   ]
  },
  {
   "cell_type": "markdown",
   "metadata": {},
   "source": [
    "Le taux de croissance simulé de la bactérie *E. coli* avec *pgi*- est de ~ 0.8632 h⁻¹."
   ]
  },
  {
   "cell_type": "markdown",
   "metadata": {},
   "source": [
    "### c) Quel taux de croissance pour la bactérie *E. coli* avec knock-out du gène *zwf* (G6PDH) ?"
   ]
  },
  {
   "cell_type": "markdown",
   "metadata": {},
   "source": [
    "Voir la fiche UniProt: https://www.uniprot.org/uniprotkb/P0AC53/entry."
   ]
  },
  {
   "cell_type": "code",
   "execution_count": 26,
   "metadata": {},
   "outputs": [],
   "source": [
    "model = cobra.io.read_sbml_model('e_coli_core.xml')"
   ]
  },
  {
   "cell_type": "code",
   "execution_count": 27,
   "metadata": {},
   "outputs": [
    {
     "data": {
      "text/html": [
       "\n",
       "        <table>\n",
       "            <tr>\n",
       "                <td><strong>Reaction identifier</strong></td><td>G6PDH2r</td>\n",
       "            </tr><tr>\n",
       "                <td><strong>Name</strong></td><td>Glucose 6-phosphate dehydrogenase</td>\n",
       "            </tr><tr>\n",
       "                <td><strong>Memory address</strong></td>\n",
       "                <td>0x7fc2edcaf820</td>\n",
       "            </tr><tr>\n",
       "                <td><strong>Stoichiometry</strong></td>\n",
       "                <td>\n",
       "                    <p style='text-align:right'>g6p_c + nadp_c <=> 6pgl_c + h_c + nadph_c</p>\n",
       "                    <p style='text-align:right'>D-Glucose 6-phosphate + Nicotinamide adenine dinucleotide phosphate <=> 6-phospho-D-glucono-1,5-lactone + H+ + Nicotinamide adenine dinucleotide phosphate - reduced</p>\n",
       "                </td>\n",
       "            </tr><tr>\n",
       "                <td><strong>GPR</strong></td><td>b1852</td>\n",
       "            </tr><tr>\n",
       "                <td><strong>Lower bound</strong></td><td>-1000.0</td>\n",
       "            </tr><tr>\n",
       "                <td><strong>Upper bound</strong></td><td>1000.0</td>\n",
       "            </tr>\n",
       "        </table>\n",
       "        "
      ],
      "text/plain": [
       "<Reaction G6PDH2r at 0x7fc2edcaf820>"
      ]
     },
     "execution_count": 27,
     "metadata": {},
     "output_type": "execute_result"
    }
   ],
   "source": [
    "model.reactions.get_by_id('G6PDH2r') # bounds (-1000.0, 1000.0)"
   ]
  },
  {
   "cell_type": "code",
   "execution_count": 28,
   "metadata": {},
   "outputs": [],
   "source": [
    "for gene in list(model.reactions.get_by_id('G6PDH2r').genes):\n",
    "    gene.knock_out() # b1852"
   ]
  },
  {
   "cell_type": "code",
   "execution_count": 75,
   "metadata": {},
   "outputs": [
    {
     "data": {
      "text/plain": [
       "(-1.0, 1.0)"
      ]
     },
     "execution_count": 75,
     "metadata": {},
     "output_type": "execute_result"
    }
   ],
   "source": [
    "model.reactions.get_by_id('G6PDH2r').bounds # bounds were changed to (0, 0)"
   ]
  },
  {
   "cell_type": "code",
   "execution_count": 30,
   "metadata": {},
   "outputs": [
    {
     "name": "stdout",
     "output_type": "stream",
     "text": [
      "Downloading Map from https://escher.github.io/1-0-0/6/maps/Escherichia%20coli/e_coli_core.Core%20metabolism.json\n",
      "Downloading Model from https://escher.github.io/1-0-0/6/models/Escherichia%20coli/e_coli_core.json\n"
     ]
    }
   ],
   "source": [
    "builder = Builder(\n",
    "    map_name='e_coli_core.Core metabolism',\n",
    "    model_name='e_coli_core',\n",
    ")"
   ]
  },
  {
   "cell_type": "code",
   "execution_count": 31,
   "metadata": {},
   "outputs": [],
   "source": [
    "fluxes = model.optimize()"
   ]
  },
  {
   "cell_type": "code",
   "execution_count": 32,
   "metadata": {},
   "outputs": [],
   "source": [
    "builder.reaction_data = fluxes.fluxes"
   ]
  },
  {
   "cell_type": "code",
   "execution_count": 33,
   "metadata": {},
   "outputs": [
    {
     "data": {
      "application/vnd.jupyter.widget-view+json": {
       "model_id": "b93805cf20a8428d8f280a0adb1e1806",
       "version_major": 2,
       "version_minor": 0
      },
      "text/plain": [
       "Builder(reaction_data={'PFK': 9.14076490103637, 'PFL': 0.0, 'PGI': 9.82291827155168, 'PGK': -17.70372507934551…"
      ]
     },
     "metadata": {},
     "output_type": "display_data"
    }
   ],
   "source": [
    "builder"
   ]
  },
  {
   "cell_type": "code",
   "execution_count": 34,
   "metadata": {},
   "outputs": [
    {
     "data": {
      "text/plain": [
       "0.8638133095040007"
      ]
     },
     "execution_count": 34,
     "metadata": {},
     "output_type": "execute_result"
    }
   ],
   "source": [
    "fluxes.fluxes['BIOMASS_Ecoli_core_w_GAM']"
   ]
  },
  {
   "cell_type": "code",
   "execution_count": 35,
   "metadata": {},
   "outputs": [],
   "source": [
    "growth_rates['zwf-'] = fluxes.fluxes['BIOMASS_Ecoli_core_w_GAM']"
   ]
  },
  {
   "cell_type": "markdown",
   "metadata": {},
   "source": [
    "Le taux de croissance simulé de la bactérie *E. coli* avec *zwf*- est de ~ 0.8638 h⁻¹."
   ]
  },
  {
   "cell_type": "markdown",
   "metadata": {},
   "source": [
    "### d) Quel taux de croissance pour la bactérie *E. coli* avec knock-outs de *zwf* et *pgi* ?"
   ]
  },
  {
   "cell_type": "code",
   "execution_count": 36,
   "metadata": {},
   "outputs": [],
   "source": [
    "model = cobra.io.read_sbml_model('e_coli_core.xml')"
   ]
  },
  {
   "cell_type": "code",
   "execution_count": 37,
   "metadata": {},
   "outputs": [],
   "source": [
    "for gene in list(model.reactions.get_by_id('PGI').genes):\n",
    "    gene.knock_out() # b4025"
   ]
  },
  {
   "cell_type": "code",
   "execution_count": 38,
   "metadata": {},
   "outputs": [],
   "source": [
    "for gene in list(model.reactions.get_by_id('G6PDH2r').genes):\n",
    "    gene.knock_out() # b1852"
   ]
  },
  {
   "cell_type": "code",
   "execution_count": 39,
   "metadata": {},
   "outputs": [
    {
     "name": "stderr",
     "output_type": "stream",
     "text": [
      "/home/maxime/anaconda3/envs/escher-viz/lib/python3.10/site-packages/cobra/util/solver.py:554: UserWarning: Solver status is 'infeasible'.\n",
      "  warn(f\"Solver status is '{status}'.\", UserWarning)\n"
     ]
    }
   ],
   "source": [
    "fluxes = model.optimize()"
   ]
  },
  {
   "cell_type": "code",
   "execution_count": 40,
   "metadata": {},
   "outputs": [
    {
     "data": {
      "text/plain": [
       "0.0"
      ]
     },
     "execution_count": 40,
     "metadata": {},
     "output_type": "execute_result"
    }
   ],
   "source": [
    "fluxes.fluxes['BIOMASS_Ecoli_core_w_GAM']"
   ]
  },
  {
   "cell_type": "code",
   "execution_count": 41,
   "metadata": {},
   "outputs": [],
   "source": [
    "growth_rates['pgi-, zwf-'] = fluxes.fluxes['BIOMASS_Ecoli_core_w_GAM']"
   ]
  },
  {
   "cell_type": "markdown",
   "metadata": {},
   "source": [
    "Une absence de solution (problème \"**irrésoluble**\") traduit une impossibilité pour le modèle de produire de la biomasse, donc un flux de biomasse de zéro. "
   ]
  },
  {
   "cell_type": "markdown",
   "metadata": {},
   "source": [
    "### e) En résumé"
   ]
  },
  {
   "cell_type": "code",
   "execution_count": 42,
   "metadata": {},
   "outputs": [],
   "source": [
    "import matplotlib.pyplot as plt\n",
    "import seaborn as sns\n",
    "import numpy as np"
   ]
  },
  {
   "cell_type": "code",
   "execution_count": 43,
   "metadata": {},
   "outputs": [
    {
     "data": {
      "image/png": "[encoded data removed]",
      "text/plain": [
       "<Figure size 640x480 with 1 Axes>"
      ]
     },
     "metadata": {},
     "output_type": "display_data"
    }
   ],
   "source": [
    "data = [growth_rates.keys(), growth_rates.values()]\n",
    "arr = np.array([list(growth_rates.values())])\n",
    "plt.imshow(arr, cmap=\"PiYG\")\n",
    "\n",
    "ax = plt.gca()\n",
    "\n",
    "# Show all ticks and label them with the respective list entries\n",
    "ax.set_xticks(range(len(growth_rates)), labels=growth_rates.keys(),\n",
    "              rotation=45, ha=\"right\", rotation_mode=\"anchor\")\n",
    "ax.set_yticks([])\n",
    "\n",
    "# Turn spines off and create white grid.\n",
    "ax.spines[:].set_visible(False)\n",
    "ax.grid(which=\"minor\", color=\"w\", linestyle='-', linewidth=3)\n",
    "ax.tick_params(which=\"minor\", bottom=False, left=False)\n",
    "\n",
    "# Loop over data dimensions and create text annotations.\n",
    "for i in range(len(growth_rates.keys())):\n",
    "    for j in range(1):\n",
    "        text = ax.text(i, j, round(arr[j, i], 3),\n",
    "                       ha=\"center\", va=\"center\", color=\"w\")\n",
    "\n",
    "plt.show()"
   ]
  },
  {
   "cell_type": "markdown",
   "metadata": {},
   "source": [
    "## 7) Et si l'on intègre des données omiques ?"
   ]
  },
  {
   "cell_type": "markdown",
   "metadata": {},
   "source": [
    "Reprenons la même expérience, mais au lieu d'utiliser de faire des \"knock-out\", supposons que nous avons des données omiques dans deux conditions.\n",
    "\n",
    "Dans la première condition, C1, *zwf* est **sous-exprimé**. Les données de transcriptomiques et protéomiques valident cette hypothèse.\n",
    "\n",
    "Dans la seconde condition, C2, *pgi* est **sous-exprimé**. Les données de transcriptomiques et protéomiques valident aussi cette hypothèse."
   ]
  },
  {
   "cell_type": "markdown",
   "metadata": {},
   "source": [
    "![img](https://raw.githubusercontent.com/maxm4/metabolic-modelling/refs/heads/main/img/expression.png)"
   ]
  },
  {
   "cell_type": "markdown",
   "metadata": {},
   "source": [
    "L'enjeu ici est d'intégrer ces observations dans le modèle du métabolisme. Nous devons donc refléter cette donnée sur les bornes des flux des réactions.\n",
    "\n",
    "La borne par défaut de toutes les réactions est (-1000.0, 1000.0) mais la borne d'EX_glc_e (-10.0, 0) force les valeurs de flux autour de l'intervalle [0.1, 10].\n",
    "\n",
    "C1 et C2 se traduissent donc par des bornes (-1.0, 1.0) au lieu de (-1000.0, 1000.0) pour respectivement G6PDH et PGI.\n",
    "\n",
    "En d'autres termes, au niveau du modèle, nous allons faire des *knock-down* au lieu de *knock-out*."
   ]
  },
  {
   "cell_type": "markdown",
   "metadata": {},
   "source": [
    "### a) Taux de croissance pour la bactérie *E. coli* wild type"
   ]
  },
  {
   "cell_type": "code",
   "execution_count": 44,
   "metadata": {},
   "outputs": [],
   "source": [
    "model = cobra.io.read_sbml_model('e_coli_core.xml')"
   ]
  },
  {
   "cell_type": "code",
   "execution_count": 45,
   "metadata": {},
   "outputs": [],
   "source": [
    "fluxes = model.optimize()"
   ]
  },
  {
   "cell_type": "code",
   "execution_count": 46,
   "metadata": {},
   "outputs": [
    {
     "data": {
      "text/plain": [
       "0.8739215069684302"
      ]
     },
     "execution_count": 46,
     "metadata": {},
     "output_type": "execute_result"
    }
   ],
   "source": [
    "fluxes.fluxes['BIOMASS_Ecoli_core_w_GAM']"
   ]
  },
  {
   "cell_type": "code",
   "execution_count": 47,
   "metadata": {},
   "outputs": [],
   "source": [
    "growth_rates = {}"
   ]
  },
  {
   "cell_type": "code",
   "execution_count": 48,
   "metadata": {},
   "outputs": [],
   "source": [
    "growth_rates['WT'] = fluxes.fluxes['BIOMASS_Ecoli_core_w_GAM']"
   ]
  },
  {
   "cell_type": "markdown",
   "metadata": {},
   "source": [
    "### b) Taux de croissance en condition C1 (*zwf* sous-exprimé)"
   ]
  },
  {
   "cell_type": "code",
   "execution_count": 49,
   "metadata": {},
   "outputs": [],
   "source": [
    "model = cobra.io.read_sbml_model('e_coli_core.xml')"
   ]
  },
  {
   "cell_type": "code",
   "execution_count": 50,
   "metadata": {},
   "outputs": [],
   "source": [
    "model.reactions.get_by_id('G6PDH2r').bounds = (-1.0, 1.0) # set the bounds for condition C1"
   ]
  },
  {
   "cell_type": "code",
   "execution_count": 51,
   "metadata": {},
   "outputs": [
    {
     "name": "stdout",
     "output_type": "stream",
     "text": [
      "Downloading Map from https://escher.github.io/1-0-0/6/maps/Escherichia%20coli/e_coli_core.Core%20metabolism.json\n",
      "Downloading Model from https://escher.github.io/1-0-0/6/models/Escherichia%20coli/e_coli_core.json\n"
     ]
    }
   ],
   "source": [
    "builder = Builder(\n",
    "    map_name='e_coli_core.Core metabolism',\n",
    "    model_name='e_coli_core',\n",
    ")"
   ]
  },
  {
   "cell_type": "code",
   "execution_count": 52,
   "metadata": {},
   "outputs": [],
   "source": [
    "fluxes = model.optimize()"
   ]
  },
  {
   "cell_type": "code",
   "execution_count": 53,
   "metadata": {},
   "outputs": [],
   "source": [
    "builder.reaction_data = fluxes.fluxes"
   ]
  },
  {
   "cell_type": "code",
   "execution_count": 54,
   "metadata": {},
   "outputs": [
    {
     "data": {
      "application/vnd.jupyter.widget-view+json": {
       "model_id": "9a3c63046a3f43eea41f58e52942c580",
       "version_major": 2,
       "version_minor": 0
      },
      "text/plain": [
       "Builder(reaction_data={'PFK': 8.80540441961081, 'PFL': 0.0, 'PGI': 8.822500491960943, 'PGK': -17.3649742655923…"
      ]
     },
     "metadata": {},
     "output_type": "display_data"
    }
   ],
   "source": [
    "builder"
   ]
  },
  {
   "cell_type": "code",
   "execution_count": 55,
   "metadata": {},
   "outputs": [
    {
     "data": {
      "text/plain": [
       "0.8658512587271099"
      ]
     },
     "execution_count": 55,
     "metadata": {},
     "output_type": "execute_result"
    }
   ],
   "source": [
    "fluxes.fluxes['BIOMASS_Ecoli_core_w_GAM']"
   ]
  },
  {
   "cell_type": "code",
   "execution_count": 56,
   "metadata": {},
   "outputs": [],
   "source": [
    "growth_rates['C1'] = fluxes.fluxes['BIOMASS_Ecoli_core_w_GAM']"
   ]
  },
  {
   "cell_type": "markdown",
   "metadata": {},
   "source": [
    "### c) Taux de croissance en condition C2 (*pgi* sous-exprimé)"
   ]
  },
  {
   "cell_type": "code",
   "execution_count": 57,
   "metadata": {},
   "outputs": [],
   "source": [
    "model = cobra.io.read_sbml_model('e_coli_core.xml')"
   ]
  },
  {
   "cell_type": "code",
   "execution_count": 58,
   "metadata": {},
   "outputs": [],
   "source": [
    "model.reactions.get_by_id('PGI').bounds = (-1.0, 1.0) # set the bounds for condition C2"
   ]
  },
  {
   "cell_type": "code",
   "execution_count": 59,
   "metadata": {},
   "outputs": [
    {
     "name": "stdout",
     "output_type": "stream",
     "text": [
      "Downloading Map from https://escher.github.io/1-0-0/6/maps/Escherichia%20coli/e_coli_core.Core%20metabolism.json\n",
      "Downloading Model from https://escher.github.io/1-0-0/6/models/Escherichia%20coli/e_coli_core.json\n"
     ]
    }
   ],
   "source": [
    "builder = Builder(\n",
    "    map_name='e_coli_core.Core metabolism',\n",
    "    model_name='e_coli_core',\n",
    ")"
   ]
  },
  {
   "cell_type": "code",
   "execution_count": 60,
   "metadata": {},
   "outputs": [],
   "source": [
    "fluxes = model.optimize()"
   ]
  },
  {
   "cell_type": "code",
   "execution_count": 61,
   "metadata": {},
   "outputs": [],
   "source": [
    "builder.reaction_data = fluxes.fluxes"
   ]
  },
  {
   "cell_type": "code",
   "execution_count": 62,
   "metadata": {},
   "outputs": [
    {
     "data": {
      "application/vnd.jupyter.widget-view+json": {
       "model_id": "639c1f792d5946e580c4720a02fb75e0",
       "version_major": 2,
       "version_minor": 0
      },
      "text/plain": [
       "Builder(reaction_data={'PFK': 6.19834678545996, 'PFL': 0.0, 'PGI': 1.0, 'PGK': -14.758711341205911, 'PGL': 8.8…"
      ]
     },
     "metadata": {},
     "output_type": "display_data"
    }
   ],
   "source": [
    "builder"
   ]
  },
  {
   "cell_type": "code",
   "execution_count": 63,
   "metadata": {},
   "outputs": [
    {
     "data": {
      "text/plain": [
       "0.8653735538915904"
      ]
     },
     "execution_count": 63,
     "metadata": {},
     "output_type": "execute_result"
    }
   ],
   "source": [
    "fluxes.fluxes['BIOMASS_Ecoli_core_w_GAM']"
   ]
  },
  {
   "cell_type": "code",
   "execution_count": 64,
   "metadata": {},
   "outputs": [],
   "source": [
    "growth_rates['C2'] = fluxes.fluxes['BIOMASS_Ecoli_core_w_GAM']"
   ]
  },
  {
   "cell_type": "markdown",
   "metadata": {},
   "source": [
    "### d) Taux de croissance en condition C1+C2 (*zwf* et *pgi* sous-exprimés)"
   ]
  },
  {
   "cell_type": "code",
   "execution_count": 65,
   "metadata": {},
   "outputs": [],
   "source": [
    "model = cobra.io.read_sbml_model('e_coli_core.xml')"
   ]
  },
  {
   "cell_type": "code",
   "execution_count": 66,
   "metadata": {},
   "outputs": [],
   "source": [
    "model.reactions.get_by_id('G6PDH2r').bounds = (-1.0, 1.0) # set the bounds for condition C1\n",
    "model.reactions.get_by_id('PGI').bounds = (-1.0, 1.0) # set the bounds for condition C2"
   ]
  },
  {
   "cell_type": "code",
   "execution_count": 67,
   "metadata": {},
   "outputs": [
    {
     "name": "stdout",
     "output_type": "stream",
     "text": [
      "Downloading Map from https://escher.github.io/1-0-0/6/maps/Escherichia%20coli/e_coli_core.Core%20metabolism.json\n",
      "Downloading Model from https://escher.github.io/1-0-0/6/models/Escherichia%20coli/e_coli_core.json\n"
     ]
    }
   ],
   "source": [
    "builder = Builder(\n",
    "    map_name='e_coli_core.Core metabolism',\n",
    "    model_name='e_coli_core',\n",
    ")"
   ]
  },
  {
   "cell_type": "code",
   "execution_count": 68,
   "metadata": {},
   "outputs": [],
   "source": [
    "fluxes = model.optimize()"
   ]
  },
  {
   "cell_type": "code",
   "execution_count": 69,
   "metadata": {},
   "outputs": [],
   "source": [
    "builder.reaction_data = fluxes.fluxes"
   ]
  },
  {
   "cell_type": "code",
   "execution_count": 70,
   "metadata": {},
   "outputs": [
    {
     "data": {
      "application/vnd.jupyter.widget-view+json": {
       "model_id": "f7e5120dd357454085afc2bb35e79100",
       "version_major": 2,
       "version_minor": 0
      },
      "text/plain": [
       "Builder(reaction_data={'PFK': 1.5546713439501678, 'PFL': 0.0, 'PGI': 1.0, 'PGK': -3.3478125650286974, 'PGL': 1…"
      ]
     },
     "metadata": {},
     "output_type": "display_data"
    }
   ],
   "source": [
    "builder"
   ]
  },
  {
   "cell_type": "code",
   "execution_count": 71,
   "metadata": {},
   "outputs": [
    {
     "data": {
      "text/plain": [
       "0.14182008701595414"
      ]
     },
     "execution_count": 71,
     "metadata": {},
     "output_type": "execute_result"
    }
   ],
   "source": [
    "fluxes.fluxes['BIOMASS_Ecoli_core_w_GAM']"
   ]
  },
  {
   "cell_type": "markdown",
   "metadata": {},
   "source": [
    "### e) En résumé"
   ]
  },
  {
   "cell_type": "code",
   "execution_count": 72,
   "metadata": {},
   "outputs": [],
   "source": [
    "growth_rates['C1 + C2'] = fluxes.fluxes['BIOMASS_Ecoli_core_w_GAM']"
   ]
  },
  {
   "cell_type": "code",
   "execution_count": 73,
   "metadata": {},
   "outputs": [
    {
     "data": {
      "image/png": "[encoded data removed]",
      "text/plain": [
       "<Figure size 640x480 with 1 Axes>"
      ]
     },
     "metadata": {},
     "output_type": "display_data"
    }
   ],
   "source": [
    "data = [growth_rates.keys(), growth_rates.values()]\n",
    "arr = np.array([list(growth_rates.values())])\n",
    "plt.imshow(arr, cmap=\"PiYG\")\n",
    "\n",
    "ax = plt.gca()\n",
    "\n",
    "# Show all ticks and label them with the respective list entries\n",
    "ax.set_xticks(range(len(growth_rates)), labels=growth_rates.keys(),\n",
    "              rotation=45, ha=\"right\", rotation_mode=\"anchor\")\n",
    "ax.set_yticks([])\n",
    "\n",
    "# Turn spines off and create white grid.\n",
    "ax.spines[:].set_visible(False)\n",
    "ax.grid(which=\"minor\", color=\"w\", linestyle='-', linewidth=3)\n",
    "ax.tick_params(which=\"minor\", bottom=False, left=False)\n",
    "\n",
    "# Loop over data dimensions and create text annotations.\n",
    "for i in range(len(growth_rates.keys())):\n",
    "    for j in range(1):\n",
    "        text = ax.text(i, j, round(arr[j, i], 3),\n",
    "                       ha=\"center\", va=\"center\", color=\"w\")\n",
    "\n",
    "plt.show()"
   ]
  },
  {
   "cell_type": "markdown",
   "metadata": {},
   "source": [
    "## 8) Que se passe-t-il sur un plus grand modèle ?"
   ]
  },
  {
   "cell_type": "markdown",
   "metadata": {},
   "source": [
    "Nous allons maintenant charger le modèle à l'échelle du génome de *E. coli* nommé iJO1366.\n",
    "\n",
    "Il possède 1366 gènes, 2583 réactions, et 1805 métabolites."
   ]
  },
  {
   "cell_type": "code",
   "execution_count": 436,
   "metadata": {},
   "outputs": [
    {
     "name": "stdout",
     "output_type": "stream",
     "text": [
      "Fichier «iJO1366.xml» déjà présent ; pas de récupération.\r\n",
      "\r\n"
     ]
    }
   ],
   "source": [
    "!wget -nc http://bigg.ucsd.edu/static/models/iJO1366.xml"
   ]
  },
  {
   "cell_type": "code",
   "execution_count": 437,
   "metadata": {},
   "outputs": [],
   "source": [
    "model = cobra.io.read_sbml_model('iJO1366.xml')"
   ]
  },
  {
   "cell_type": "code",
   "execution_count": 438,
   "metadata": {},
   "outputs": [
    {
     "data": {
      "text/html": [
       "\n",
       "        <table>\n",
       "            <tr>\n",
       "                <td><strong>Name</strong></td>\n",
       "                <td>iJO1366</td>\n",
       "            </tr><tr>\n",
       "                <td><strong>Memory address</strong></td>\n",
       "                <td>7fc2bbb116f0</td>\n",
       "            </tr><tr>\n",
       "                <td><strong>Number of metabolites</strong></td>\n",
       "                <td>1805</td>\n",
       "            </tr><tr>\n",
       "                <td><strong>Number of reactions</strong></td>\n",
       "                <td>2583</td>\n",
       "            </tr><tr>\n",
       "                <td><strong>Number of genes</strong></td>\n",
       "                <td>1367</td>\n",
       "            </tr><tr>\n",
       "                <td><strong>Number of groups</strong></td>\n",
       "                <td>0</td>\n",
       "            </tr><tr>\n",
       "                <td><strong>Objective expression</strong></td>\n",
       "                <td>1.0*BIOMASS_Ec_iJO1366_core_53p95M - 1.0*BIOMASS_Ec_iJO1366_core_53p95M_reverse_5c8b1</td>\n",
       "            </tr><tr>\n",
       "                <td><strong>Compartments</strong></td>\n",
       "                <td>cytosol, extracellular space, periplasm</td>\n",
       "            </tr>\n",
       "          </table>"
      ],
      "text/plain": [
       "<Model iJO1366 at 0x7fc2bbb116f0>"
      ]
     },
     "execution_count": 438,
     "metadata": {},
     "output_type": "execute_result"
    }
   ],
   "source": [
    "model"
   ]
  },
  {
   "cell_type": "code",
   "execution_count": 439,
   "metadata": {},
   "outputs": [
    {
     "name": "stdout",
     "output_type": "stream",
     "text": [
      "Downloading Model from https://escher.github.io/1-0-0/6/models/Escherichia%20coli/iJO1366.json\n"
     ]
    }
   ],
   "source": [
    "builder = Builder(\n",
    "    map_json='iJO1366.Central metabolism.adapted.json',\n",
    "    model_name='iJO1366',\n",
    ")"
   ]
  },
  {
   "cell_type": "code",
   "execution_count": 440,
   "metadata": {},
   "outputs": [],
   "source": [
    "fluxes = model.optimize()"
   ]
  },
  {
   "cell_type": "code",
   "execution_count": 441,
   "metadata": {},
   "outputs": [],
   "source": [
    "builder.reaction_data = fluxes.fluxes"
   ]
  },
  {
   "cell_type": "code",
   "execution_count": 442,
   "metadata": {},
   "outputs": [
    {
     "data": {
      "application/vnd.jupyter.widget-view+json": {
       "model_id": "6c0c56de8f5843d9becb365b8f726948",
       "version_major": 2,
       "version_minor": 0
      },
      "text/plain": [
       "Builder(reaction_data={'EX_cm_e': -0.0, 'EX_cmp_e': 0.0, 'EX_co2_e': 19.67522263566323, 'EX_cobalt2_e': -2.455…"
      ]
     },
     "metadata": {},
     "output_type": "display_data"
    }
   ],
   "source": [
    "builder"
   ]
  },
  {
   "cell_type": "markdown",
   "metadata": {},
   "source": [
    "### a) Récupérons le taux de croissance wild type"
   ]
  },
  {
   "cell_type": "code",
   "execution_count": 443,
   "metadata": {},
   "outputs": [
    {
     "data": {
      "text/html": [
       "<h3>Objective</h3><p>1.0 BIOMASS_Ec_iJO1366_core_53p95M = 0.9823718127269788</p><h4>Uptake</h4><table border=\"1\" class=\"dataframe\">\n",
       "  <thead>\n",
       "    <tr style=\"text-align: right;\">\n",
       "      <th>Metabolite</th>\n",
       "      <th>Reaction</th>\n",
       "      <th>Flux</th>\n",
       "      <th>C-Number</th>\n",
       "      <th>C-Flux</th>\n",
       "    </tr>\n",
       "  </thead>\n",
       "  <tbody>\n",
       "    <tr>\n",
       "      <td>ca2_e</td>\n",
       "      <td>EX_ca2_e</td>\n",
       "      <td>0.005113</td>\n",
       "      <td>0</td>\n",
       "      <td>0.00%</td>\n",
       "    </tr>\n",
       "    <tr>\n",
       "      <td>cl_e</td>\n",
       "      <td>EX_cl_e</td>\n",
       "      <td>0.005113</td>\n",
       "      <td>0</td>\n",
       "      <td>0.00%</td>\n",
       "    </tr>\n",
       "    <tr>\n",
       "      <td>cobalt2_e</td>\n",
       "      <td>EX_cobalt2_e</td>\n",
       "      <td>2.456E-05</td>\n",
       "      <td>0</td>\n",
       "      <td>0.00%</td>\n",
       "    </tr>\n",
       "    <tr>\n",
       "      <td>cu2_e</td>\n",
       "      <td>EX_cu2_e</td>\n",
       "      <td>0.0006965</td>\n",
       "      <td>0</td>\n",
       "      <td>0.00%</td>\n",
       "    </tr>\n",
       "    <tr>\n",
       "      <td>fe2_e</td>\n",
       "      <td>EX_fe2_e</td>\n",
       "      <td>0.01578</td>\n",
       "      <td>0</td>\n",
       "      <td>0.00%</td>\n",
       "    </tr>\n",
       "    <tr>\n",
       "      <td>glc__D_e</td>\n",
       "      <td>EX_glc__D_e</td>\n",
       "      <td>10</td>\n",
       "      <td>6</td>\n",
       "      <td>100.00%</td>\n",
       "    </tr>\n",
       "    <tr>\n",
       "      <td>k_e</td>\n",
       "      <td>EX_k_e</td>\n",
       "      <td>0.1918</td>\n",
       "      <td>0</td>\n",
       "      <td>0.00%</td>\n",
       "    </tr>\n",
       "    <tr>\n",
       "      <td>mg2_e</td>\n",
       "      <td>EX_mg2_e</td>\n",
       "      <td>0.008522</td>\n",
       "      <td>0</td>\n",
       "      <td>0.00%</td>\n",
       "    </tr>\n",
       "    <tr>\n",
       "      <td>mn2_e</td>\n",
       "      <td>EX_mn2_e</td>\n",
       "      <td>0.0006788</td>\n",
       "      <td>0</td>\n",
       "      <td>0.00%</td>\n",
       "    </tr>\n",
       "    <tr>\n",
       "      <td>mobd_e</td>\n",
       "      <td>EX_mobd_e</td>\n",
       "      <td>0.0001267</td>\n",
       "      <td>0</td>\n",
       "      <td>0.00%</td>\n",
       "    </tr>\n",
       "    <tr>\n",
       "      <td>nh4_e</td>\n",
       "      <td>EX_nh4_e</td>\n",
       "      <td>10.61</td>\n",
       "      <td>0</td>\n",
       "      <td>0.00%</td>\n",
       "    </tr>\n",
       "    <tr>\n",
       "      <td>ni2_e</td>\n",
       "      <td>EX_ni2_e</td>\n",
       "      <td>0.0003173</td>\n",
       "      <td>0</td>\n",
       "      <td>0.00%</td>\n",
       "    </tr>\n",
       "    <tr>\n",
       "      <td>o2_e</td>\n",
       "      <td>EX_o2_e</td>\n",
       "      <td>17.58</td>\n",
       "      <td>0</td>\n",
       "      <td>0.00%</td>\n",
       "    </tr>\n",
       "    <tr>\n",
       "      <td>pi_e</td>\n",
       "      <td>EX_pi_e</td>\n",
       "      <td>0.9476</td>\n",
       "      <td>0</td>\n",
       "      <td>0.00%</td>\n",
       "    </tr>\n",
       "    <tr>\n",
       "      <td>so4_e</td>\n",
       "      <td>EX_so4_e</td>\n",
       "      <td>0.2478</td>\n",
       "      <td>0</td>\n",
       "      <td>0.00%</td>\n",
       "    </tr>\n",
       "    <tr>\n",
       "      <td>zn2_e</td>\n",
       "      <td>EX_zn2_e</td>\n",
       "      <td>0.000335</td>\n",
       "      <td>0</td>\n",
       "      <td>0.00%</td>\n",
       "    </tr>\n",
       "  </tbody>\n",
       "</table><h4>Secretion</h4><table border=\"1\" class=\"dataframe\">\n",
       "  <thead>\n",
       "    <tr style=\"text-align: right;\">\n",
       "      <th>Metabolite</th>\n",
       "      <th>Reaction</th>\n",
       "      <th>Flux</th>\n",
       "      <th>C-Number</th>\n",
       "      <th>C-Flux</th>\n",
       "    </tr>\n",
       "  </thead>\n",
       "  <tbody>\n",
       "    <tr>\n",
       "      <td>4crsol_c</td>\n",
       "      <td>DM_4crsol_c</td>\n",
       "      <td>-0.0002191</td>\n",
       "      <td>7</td>\n",
       "      <td>0.01%</td>\n",
       "    </tr>\n",
       "    <tr>\n",
       "      <td>5drib_c</td>\n",
       "      <td>DM_5drib_c</td>\n",
       "      <td>-0.000221</td>\n",
       "      <td>5</td>\n",
       "      <td>0.01%</td>\n",
       "    </tr>\n",
       "    <tr>\n",
       "      <td>amob_c</td>\n",
       "      <td>DM_amob_c</td>\n",
       "      <td>-1.965E-06</td>\n",
       "      <td>15</td>\n",
       "      <td>0.00%</td>\n",
       "    </tr>\n",
       "    <tr>\n",
       "      <td>mththf_c</td>\n",
       "      <td>DM_mththf_c</td>\n",
       "      <td>-0.0004401</td>\n",
       "      <td>5</td>\n",
       "      <td>0.01%</td>\n",
       "    </tr>\n",
       "    <tr>\n",
       "      <td>co2_e</td>\n",
       "      <td>EX_co2_e</td>\n",
       "      <td>-19.68</td>\n",
       "      <td>1</td>\n",
       "      <td>99.98%</td>\n",
       "    </tr>\n",
       "    <tr>\n",
       "      <td>h2o_e</td>\n",
       "      <td>EX_h2o_e</td>\n",
       "      <td>-45.62</td>\n",
       "      <td>0</td>\n",
       "      <td>0.00%</td>\n",
       "    </tr>\n",
       "    <tr>\n",
       "      <td>h_e</td>\n",
       "      <td>EX_h_e</td>\n",
       "      <td>-9.026</td>\n",
       "      <td>0</td>\n",
       "      <td>0.00%</td>\n",
       "    </tr>\n",
       "    <tr>\n",
       "      <td>meoh_e</td>\n",
       "      <td>EX_meoh_e</td>\n",
       "      <td>-1.965E-06</td>\n",
       "      <td>1</td>\n",
       "      <td>0.00%</td>\n",
       "    </tr>\n",
       "  </tbody>\n",
       "</table>"
      ],
      "text/plain": [
       "<cobra.summary.model_summary.ModelSummary at 0x7fc2c05d9d20>"
      ]
     },
     "execution_count": 443,
     "metadata": {},
     "output_type": "execute_result"
    }
   ],
   "source": [
    "model.summary()"
   ]
  },
  {
   "cell_type": "code",
   "execution_count": 444,
   "metadata": {},
   "outputs": [],
   "source": [
    "growth_rates = {}"
   ]
  },
  {
   "cell_type": "code",
   "execution_count": 445,
   "metadata": {},
   "outputs": [
    {
     "data": {
      "text/plain": [
       "0.9823718127269788"
      ]
     },
     "execution_count": 445,
     "metadata": {},
     "output_type": "execute_result"
    }
   ],
   "source": [
    "fluxes.fluxes['BIOMASS_Ec_iJO1366_core_53p95M']"
   ]
  },
  {
   "cell_type": "code",
   "execution_count": 446,
   "metadata": {},
   "outputs": [
    {
     "data": {
      "text/plain": [
       "[(<Reaction EX_glc__D_e at 0x7fc2ce759ed0>, (-10.0, 1000.0)),\n",
       " (<Reaction EX_cbl1_e at 0x7fc2ce798250>, (-0.01, 1000.0))]"
      ]
     },
     "execution_count": 446,
     "metadata": {},
     "output_type": "execute_result"
    }
   ],
   "source": [
    "[(ex, ex.bounds) for ex in model.exchanges if ex.bounds[0] not in [0, -1000]]"
   ]
  },
  {
   "cell_type": "code",
   "execution_count": 447,
   "metadata": {},
   "outputs": [
    {
     "data": {
      "text/plain": [
       "-10.0"
      ]
     },
     "execution_count": 447,
     "metadata": {},
     "output_type": "execute_result"
    }
   ],
   "source": [
    "fluxes.fluxes['EX_glc__D_e']"
   ]
  },
  {
   "cell_type": "markdown",
   "metadata": {},
   "source": [
    "Notons que la seule entrée de carbone qui semble être autorisée est le glucose.\n",
    "\n",
    "Les entrées `cobra` sont toujours caractérisées par des valeurs de flux négatives pour les réactions dites \"d'échange\" (e.g: `EX_metabolite_e`)."
   ]
  },
  {
   "cell_type": "code",
   "execution_count": 448,
   "metadata": {},
   "outputs": [],
   "source": [
    "growth_rates['glc'] = {}"
   ]
  },
  {
   "cell_type": "code",
   "execution_count": 449,
   "metadata": {},
   "outputs": [],
   "source": [
    "growth_rates['glc']['WT'] = fluxes.fluxes['BIOMASS_Ec_iJO1366_core_53p95M']"
   ]
  },
  {
   "cell_type": "markdown",
   "metadata": {},
   "source": [
    "### b) Quel est cette fois-ci le taux de croissance après knock-outs de *zwf* et *pgi* ?"
   ]
  },
  {
   "cell_type": "markdown",
   "metadata": {},
   "source": [
    "On peut \"knock-out\" les réactions directement sans passer par leur gènes."
   ]
  },
  {
   "cell_type": "code",
   "execution_count": 450,
   "metadata": {},
   "outputs": [],
   "source": [
    "model.reactions.get_by_id('PGI').knock_out()"
   ]
  },
  {
   "cell_type": "code",
   "execution_count": 451,
   "metadata": {
    "scrolled": true
   },
   "outputs": [],
   "source": [
    "model.reactions.get_by_id('G6PDH2r').knock_out()"
   ]
  },
  {
   "cell_type": "code",
   "execution_count": 452,
   "metadata": {},
   "outputs": [
    {
     "data": {
      "text/html": [
       "<strong><em>Optimal</em> solution with objective value 0.965</strong><br><div>\n",
       "<style scoped>\n",
       "    .dataframe tbody tr th:only-of-type {\n",
       "        vertical-align: middle;\n",
       "    }\n",
       "\n",
       "    .dataframe tbody tr th {\n",
       "        vertical-align: top;\n",
       "    }\n",
       "\n",
       "    .dataframe thead th {\n",
       "        text-align: right;\n",
       "    }\n",
       "</style>\n",
       "<table border=\"1\" class=\"dataframe\">\n",
       "  <thead>\n",
       "    <tr style=\"text-align: right;\">\n",
       "      <th></th>\n",
       "      <th>fluxes</th>\n",
       "      <th>reduced_costs</th>\n",
       "    </tr>\n",
       "  </thead>\n",
       "  <tbody>\n",
       "    <tr>\n",
       "      <th>EX_cm_e</th>\n",
       "      <td>-0.000000</td>\n",
       "      <td>0.000000e+00</td>\n",
       "    </tr>\n",
       "    <tr>\n",
       "      <th>EX_cmp_e</th>\n",
       "      <td>0.000000</td>\n",
       "      <td>-2.957929e-01</td>\n",
       "    </tr>\n",
       "    <tr>\n",
       "      <th>EX_co2_e</th>\n",
       "      <td>20.370751</td>\n",
       "      <td>0.000000e+00</td>\n",
       "    </tr>\n",
       "    <tr>\n",
       "      <th>EX_cobalt2_e</th>\n",
       "      <td>-0.000024</td>\n",
       "      <td>0.000000e+00</td>\n",
       "    </tr>\n",
       "    <tr>\n",
       "      <th>DM_4crsol_c</th>\n",
       "      <td>0.000215</td>\n",
       "      <td>0.000000e+00</td>\n",
       "    </tr>\n",
       "    <tr>\n",
       "      <th>...</th>\n",
       "      <td>...</td>\n",
       "      <td>...</td>\n",
       "    </tr>\n",
       "    <tr>\n",
       "      <th>RNDR4</th>\n",
       "      <td>0.000000</td>\n",
       "      <td>-4.033540e-03</td>\n",
       "    </tr>\n",
       "    <tr>\n",
       "      <th>RNDR4b</th>\n",
       "      <td>0.000000</td>\n",
       "      <td>-4.033540e-03</td>\n",
       "    </tr>\n",
       "    <tr>\n",
       "      <th>RNTR1c2</th>\n",
       "      <td>0.025261</td>\n",
       "      <td>1.387779e-17</td>\n",
       "    </tr>\n",
       "    <tr>\n",
       "      <th>RNTR2c2</th>\n",
       "      <td>0.026083</td>\n",
       "      <td>1.387779e-17</td>\n",
       "    </tr>\n",
       "    <tr>\n",
       "      <th>RNTR3c2</th>\n",
       "      <td>0.026083</td>\n",
       "      <td>-1.387779e-17</td>\n",
       "    </tr>\n",
       "  </tbody>\n",
       "</table>\n",
       "<p>2583 rows × 2 columns</p>\n",
       "</div>"
      ],
      "text/plain": [
       "<Solution 0.965 at 0x7fc2ae633160>"
      ]
     },
     "execution_count": 452,
     "metadata": {},
     "output_type": "execute_result"
    }
   ],
   "source": [
    "model.optimize()"
   ]
  },
  {
   "cell_type": "code",
   "execution_count": 453,
   "metadata": {},
   "outputs": [],
   "source": [
    "fluxes = model.optimize()"
   ]
  },
  {
   "cell_type": "code",
   "execution_count": 454,
   "metadata": {},
   "outputs": [
    {
     "data": {
      "text/plain": [
       "0.9654276947610319"
      ]
     },
     "execution_count": 454,
     "metadata": {},
     "output_type": "execute_result"
    }
   ],
   "source": [
    "fluxes.fluxes['BIOMASS_Ec_iJO1366_core_53p95M']"
   ]
  },
  {
   "cell_type": "code",
   "execution_count": 455,
   "metadata": {},
   "outputs": [],
   "source": [
    "growth_rates['glc']['pgi-, zwf-'] = fluxes.fluxes['BIOMASS_Ec_iJO1366_core_53p95M']"
   ]
  },
  {
   "cell_type": "markdown",
   "metadata": {},
   "source": [
    "Cette fois-ci, pas de \"solution infeasible\". Que se passe-t-il ? Quelle est la différence ?"
   ]
  },
  {
   "cell_type": "code",
   "execution_count": 456,
   "metadata": {},
   "outputs": [
    {
     "name": "stdout",
     "output_type": "stream",
     "text": [
      "Downloading Model from https://escher.github.io/1-0-0/6/models/Escherichia%20coli/iJO1366.json\n"
     ]
    }
   ],
   "source": [
    "builder = Builder(\n",
    "    map_json='iJO1366.Central metabolism.adapted.json',\n",
    "    model_name='iJO1366',\n",
    ")"
   ]
  },
  {
   "cell_type": "code",
   "execution_count": 457,
   "metadata": {},
   "outputs": [],
   "source": [
    "builder.reaction_data = fluxes.fluxes"
   ]
  },
  {
   "cell_type": "code",
   "execution_count": 458,
   "metadata": {},
   "outputs": [
    {
     "data": {
      "application/vnd.jupyter.widget-view+json": {
       "model_id": "3808fad3a93b40138853c3c3efc771b3",
       "version_major": 2,
       "version_minor": 0
      },
      "text/plain": [
       "Builder(reaction_data={'EX_cm_e': -0.0, 'EX_cmp_e': 0.0, 'EX_co2_e': 20.37075133035921, 'EX_cobalt2_e': -2.413…"
      ]
     },
     "metadata": {},
     "output_type": "display_data"
    }
   ],
   "source": [
    "builder"
   ]
  },
  {
   "cell_type": "markdown",
   "metadata": {},
   "source": [
    "On observe que le chemin emprunté utilise une nouvelle réaction qui n'était pas dans le modèle `core`: HEX7. \n",
    "    \n",
    "Essayons de bloquer l'entrée de glucose afin de voir si le modèle s'adapte."
   ]
  },
  {
   "cell_type": "code",
   "execution_count": 459,
   "metadata": {},
   "outputs": [],
   "source": [
    "model = cobra.io.read_sbml_model('iJO1366.xml')"
   ]
  },
  {
   "cell_type": "code",
   "execution_count": 460,
   "metadata": {},
   "outputs": [],
   "source": [
    "model.reactions.get_by_id('PGI').knock_out()"
   ]
  },
  {
   "cell_type": "code",
   "execution_count": 461,
   "metadata": {},
   "outputs": [],
   "source": [
    "model.reactions.get_by_id('G6PDH2r').knock_out()"
   ]
  },
  {
   "cell_type": "code",
   "execution_count": 462,
   "metadata": {},
   "outputs": [],
   "source": [
    "model.reactions.get_by_id('EX_glc__D_e').knock_out()"
   ]
  },
  {
   "cell_type": "code",
   "execution_count": 463,
   "metadata": {},
   "outputs": [
    {
     "name": "stderr",
     "output_type": "stream",
     "text": [
      "/home/maxime/anaconda3/envs/escher-viz/lib/python3.10/site-packages/cobra/util/solver.py:554: UserWarning: Solver status is 'infeasible'.\n",
      "  warn(f\"Solver status is '{status}'.\", UserWarning)\n"
     ]
    }
   ],
   "source": [
    "fluxes = model.optimize()"
   ]
  },
  {
   "cell_type": "markdown",
   "metadata": {},
   "source": [
    "De nouveau \"infeasible\". Pourtant le modèle pourrait importer directement du fructose si on l'ajoutait dans son milieu.\n",
    "\n",
    "Regardons le milieu de croissance du modèle."
   ]
  },
  {
   "cell_type": "code",
   "execution_count": 464,
   "metadata": {
    "scrolled": false
   },
   "outputs": [
    {
     "data": {
      "text/plain": [
       "[(<Reaction EX_co2_e at 0x7fc2b05fadd0>, (-1000.0, 1000.0)),\n",
       " (<Reaction EX_cobalt2_e at 0x7fc2b05fafe0>, (-1000.0, 1000.0)),\n",
       " (<Reaction EX_h_e at 0x7fc2a576ed70>, (-1000.0, 1000.0)),\n",
       " (<Reaction EX_h2o_e at 0x7fc2a5770400>, (-1000.0, 1000.0)),\n",
       " (<Reaction EX_k_e at 0x7fc2a5771cc0>, (-1000.0, 1000.0)),\n",
       " (<Reaction EX_cu2_e at 0x7fc2a5773040>, (-1000.0, 1000.0)),\n",
       " (<Reaction EX_mg2_e at 0x7fc2a576a5c0>, (-1000.0, 1000.0)),\n",
       " (<Reaction EX_mn2_e at 0x7fc2a5769cc0>, (-1000.0, 1000.0)),\n",
       " (<Reaction EX_mobd_e at 0x7fc2a5769ba0>, (-1000.0, 1000.0)),\n",
       " (<Reaction EX_na1_e at 0x7fc2a57698d0>, (-1000.0, 1000.0)),\n",
       " (<Reaction EX_nh4_e at 0x7fc2a57697e0>, (-1000.0, 1000.0)),\n",
       " (<Reaction EX_ca2_e at 0x7fc2a5769510>, (-1000.0, 1000.0)),\n",
       " (<Reaction EX_cbl1_e at 0x7fc2a5769420>, (-0.01, 1000.0)),\n",
       " (<Reaction EX_ni2_e at 0x7fc2a57691e0>, (-1000.0, 1000.0)),\n",
       " (<Reaction EX_o2_e at 0x7fc2a5768bb0>, (-1000.0, 1000.0)),\n",
       " (<Reaction EX_cl_e at 0x7fc2a57685b0>, (-1000.0, 1000.0)),\n",
       " (<Reaction EX_pi_e at 0x7fc2a5768520>, (-1000.0, 1000.0)),\n",
       " (<Reaction EX_zn2_e at 0x7fc2a4ccebc0>, (-1000.0, 1000.0)),\n",
       " (<Reaction EX_sel_e at 0x7fc2a4ccc5e0>, (-1000.0, 1000.0)),\n",
       " (<Reaction EX_slnt_e at 0x7fc2a4ccfd90>, (-1000.0, 1000.0)),\n",
       " (<Reaction EX_so4_e at 0x7fc2a4ccef50>, (-1000.0, 1000.0)),\n",
       " (<Reaction EX_tungs_e at 0x7fc2a4c00190>, (-1000.0, 1000.0)),\n",
       " (<Reaction EX_fe2_e at 0x7fc2a4c9a0b0>, (-1000.0, 1000.0)),\n",
       " (<Reaction EX_fe3_e at 0x7fc2a4c98df0>, (-1000.0, 1000.0))]"
      ]
     },
     "execution_count": 464,
     "metadata": {},
     "output_type": "execute_result"
    }
   ],
   "source": [
    "[(ex, ex.bounds) for ex in model.exchanges if ex.bounds[0] not in [0]]"
   ]
  },
  {
   "cell_type": "markdown",
   "metadata": {},
   "source": [
    "L'entrée du fructose n'est pas permise par le modèle. Remplaçons l'entrée de glucose par une entrée de fructose."
   ]
  },
  {
   "cell_type": "markdown",
   "metadata": {},
   "source": [
    "### c) Croissance sur milieu de fructose - après knock-outs de *zwf* et *pgi*"
   ]
  },
  {
   "cell_type": "code",
   "execution_count": 465,
   "metadata": {},
   "outputs": [],
   "source": [
    "model = cobra.io.read_sbml_model('iJO1366.xml')"
   ]
  },
  {
   "cell_type": "code",
   "execution_count": 466,
   "metadata": {},
   "outputs": [],
   "source": [
    "model.reactions.get_by_id('EX_glc__D_e').bounds = (0, 1000.0)\n",
    "model.reactions.get_by_id('EX_fru_e').bounds = (-10.0, 1000.0)"
   ]
  },
  {
   "cell_type": "code",
   "execution_count": 467,
   "metadata": {},
   "outputs": [],
   "source": [
    "fluxes = model.optimize()"
   ]
  },
  {
   "cell_type": "code",
   "execution_count": 468,
   "metadata": {},
   "outputs": [
    {
     "data": {
      "text/plain": [
       "0.9823718127269881"
      ]
     },
     "execution_count": 468,
     "metadata": {},
     "output_type": "execute_result"
    }
   ],
   "source": [
    "fluxes.fluxes['BIOMASS_Ec_iJO1366_core_53p95M']"
   ]
  },
  {
   "cell_type": "code",
   "execution_count": 469,
   "metadata": {},
   "outputs": [],
   "source": [
    "growth_rates['fru'] = {}\n",
    "growth_rates['fru']['WT'] = fluxes.fluxes['BIOMASS_Ec_iJO1366_core_53p95M']"
   ]
  },
  {
   "cell_type": "code",
   "execution_count": 470,
   "metadata": {},
   "outputs": [],
   "source": [
    "model.reactions.get_by_id('PGI').knock_out()\n",
    "model.reactions.get_by_id('G6PDH2r').knock_out()"
   ]
  },
  {
   "cell_type": "code",
   "execution_count": 471,
   "metadata": {},
   "outputs": [
    {
     "name": "stdout",
     "output_type": "stream",
     "text": [
      "Downloading Model from https://escher.github.io/1-0-0/6/models/Escherichia%20coli/iJO1366.json\n"
     ]
    }
   ],
   "source": [
    "builder = Builder(\n",
    "    map_json='iJO1366.Central metabolism.adapted.json',\n",
    "    model_name='iJO1366',\n",
    ")"
   ]
  },
  {
   "cell_type": "code",
   "execution_count": 472,
   "metadata": {},
   "outputs": [],
   "source": [
    "fluxes = model.optimize()"
   ]
  },
  {
   "cell_type": "code",
   "execution_count": 473,
   "metadata": {},
   "outputs": [],
   "source": [
    "builder.reaction_data = fluxes.fluxes"
   ]
  },
  {
   "cell_type": "code",
   "execution_count": 474,
   "metadata": {},
   "outputs": [
    {
     "data": {
      "application/vnd.jupyter.widget-view+json": {
       "model_id": "09dce74423364e989634ed13a98f601f",
       "version_major": 2,
       "version_minor": 0
      },
      "text/plain": [
       "Builder(reaction_data={'EX_cm_e': -0.0, 'EX_cmp_e': 0.0, 'EX_co2_e': 19.95682560788539, 'EX_cobalt2_e': -2.438…"
      ]
     },
     "metadata": {},
     "output_type": "display_data"
    }
   ],
   "source": [
    "builder"
   ]
  },
  {
   "cell_type": "code",
   "execution_count": 475,
   "metadata": {},
   "outputs": [
    {
     "data": {
      "text/plain": [
       "0.9755115436722572"
      ]
     },
     "execution_count": 475,
     "metadata": {},
     "output_type": "execute_result"
    }
   ],
   "source": [
    "fluxes.fluxes['BIOMASS_Ec_iJO1366_core_53p95M']"
   ]
  },
  {
   "cell_type": "code",
   "execution_count": 476,
   "metadata": {
    "scrolled": false
   },
   "outputs": [],
   "source": [
    "growth_rates['fru']['pgi-, zwf-'] = fluxes.fluxes['BIOMASS_Ec_iJO1366_core_53p95M']"
   ]
  },
  {
   "cell_type": "markdown",
   "metadata": {},
   "source": [
    "### d) Croissance sur milieu de fructose-6-P - après knock-outs de *zwf* et *pgi*"
   ]
  },
  {
   "cell_type": "code",
   "execution_count": 477,
   "metadata": {},
   "outputs": [],
   "source": [
    "model = cobra.io.read_sbml_model('iJO1366.xml')"
   ]
  },
  {
   "cell_type": "code",
   "execution_count": 478,
   "metadata": {},
   "outputs": [],
   "source": [
    "model.reactions.get_by_id('EX_glc__D_e').bounds = (0, 1000.0)\n",
    "model.reactions.get_by_id('EX_f6p_e').bounds = (-10.0, 1000.0)"
   ]
  },
  {
   "cell_type": "code",
   "execution_count": 479,
   "metadata": {},
   "outputs": [],
   "source": [
    "fluxes = model.optimize()"
   ]
  },
  {
   "cell_type": "code",
   "execution_count": 480,
   "metadata": {},
   "outputs": [
    {
     "data": {
      "text/plain": [
       "1.0134792165498763"
      ]
     },
     "execution_count": 480,
     "metadata": {},
     "output_type": "execute_result"
    }
   ],
   "source": [
    "fluxes.fluxes['BIOMASS_Ec_iJO1366_core_53p95M']"
   ]
  },
  {
   "cell_type": "code",
   "execution_count": 481,
   "metadata": {},
   "outputs": [],
   "source": [
    "growth_rates['f6p'] = {}\n",
    "growth_rates['f6p']['WT'] = fluxes.fluxes['BIOMASS_Ec_iJO1366_core_53p95M']"
   ]
  },
  {
   "cell_type": "code",
   "execution_count": 482,
   "metadata": {},
   "outputs": [
    {
     "name": "stdout",
     "output_type": "stream",
     "text": [
      "Downloading Model from https://escher.github.io/1-0-0/6/models/Escherichia%20coli/iJO1366.json\n"
     ]
    }
   ],
   "source": [
    "builder = Builder(\n",
    "    map_json='iJO1366.Central metabolism.adapted.json',\n",
    "    model_name='iJO1366',\n",
    ")"
   ]
  },
  {
   "cell_type": "code",
   "execution_count": 483,
   "metadata": {},
   "outputs": [],
   "source": [
    "builder.reaction_data = fluxes.fluxes"
   ]
  },
  {
   "cell_type": "code",
   "execution_count": 484,
   "metadata": {},
   "outputs": [
    {
     "data": {
      "application/vnd.jupyter.widget-view+json": {
       "model_id": "34e8b2c5782a4e9e9441176b2436d819",
       "version_major": 2,
       "version_minor": 0
      },
      "text/plain": [
       "Builder(reaction_data={'EX_cm_e': -0.0, 'EX_cmp_e': 0.0, 'EX_co2_e': 18.398313916083275, 'EX_cobalt2_e': -2.53…"
      ]
     },
     "metadata": {},
     "output_type": "display_data"
    }
   ],
   "source": [
    "builder"
   ]
  },
  {
   "cell_type": "code",
   "execution_count": 485,
   "metadata": {},
   "outputs": [],
   "source": [
    "model.reactions.get_by_id('PGI').knock_out()\n",
    "model.reactions.get_by_id('G6PDH2r').knock_out()"
   ]
  },
  {
   "cell_type": "code",
   "execution_count": 486,
   "metadata": {},
   "outputs": [],
   "source": [
    "fluxes = model.optimize()"
   ]
  },
  {
   "cell_type": "code",
   "execution_count": 487,
   "metadata": {},
   "outputs": [
    {
     "data": {
      "text/plain": [
       "1.0057630904059476"
      ]
     },
     "execution_count": 487,
     "metadata": {},
     "output_type": "execute_result"
    }
   ],
   "source": [
    "fluxes.fluxes['BIOMASS_Ec_iJO1366_core_53p95M']"
   ]
  },
  {
   "cell_type": "code",
   "execution_count": 488,
   "metadata": {},
   "outputs": [],
   "source": [
    "growth_rates['f6p']['pgi-, zwf-'] = fluxes.fluxes['BIOMASS_Ec_iJO1366_core_53p95M']"
   ]
  },
  {
   "cell_type": "markdown",
   "metadata": {},
   "source": [
    "## e) En résumé"
   ]
  },
  {
   "cell_type": "code",
   "execution_count": 489,
   "metadata": {},
   "outputs": [
    {
     "data": {
      "image/png": "[encoded data removed]",
      "text/plain": [
       "<Figure size 640x480 with 1 Axes>"
      ]
     },
     "metadata": {},
     "output_type": "display_data"
    }
   ],
   "source": [
    "data = [growth_rates.keys(), growth_rates.values()]\n",
    "arr = np.array([list(v.values()) for gr, v in growth_rates.items()])\n",
    "plt.imshow(arr, cmap=\"PiYG\")\n",
    "\n",
    "ax = plt.gca()\n",
    "\n",
    "# Show all ticks and label them with the respective list entries\n",
    "ax.set_xticks(range(len(growth_rates['glc'])), labels=growth_rates['glc'].keys(),\n",
    "              rotation=45, ha=\"right\", rotation_mode=\"anchor\")\n",
    "ax.set_yticks(range(len(growth_rates)), labels=growth_rates.keys(),\n",
    "              rotation=45, ha=\"right\", rotation_mode=\"anchor\")\n",
    "\n",
    "# Turn spines off and create white grid.\n",
    "ax.spines[:].set_visible(False)\n",
    "ax.grid(which=\"minor\", color=\"w\", linestyle='-', linewidth=3)\n",
    "ax.tick_params(which=\"minor\", bottom=False, left=False)\n",
    "\n",
    "# Loop over data dimensions and create text annotations.\n",
    "for i in range(len(growth_rates.keys())):\n",
    "    for j in range(len(growth_rates['glc'].keys())):\n",
    "        text = ax.text(j, i, round(arr[i,j], 3),\n",
    "                       ha=\"center\", va=\"center\", color=\"w\")\n",
    "\n",
    "plt.show()"
   ]
  },
  {
   "cell_type": "code",
   "execution_count": 490,
   "metadata": {},
   "outputs": [
    {
     "data": {
      "text/plain": [
       "{'glc': {'WT': 0.9823718127269788, 'pgi-, zwf-': 0.9654276947610319},\n",
       " 'fru': {'WT': 0.9823718127269881, 'pgi-, zwf-': 0.9755115436722572},\n",
       " 'f6p': {'WT': 1.0134792165498763, 'pgi-, zwf-': 1.0057630904059476}}"
      ]
     },
     "execution_count": 490,
     "metadata": {},
     "output_type": "execute_result"
    }
   ],
   "source": [
    "growth_rates"
   ]
  },
  {
   "cell_type": "code",
   "execution_count": null,
   "metadata": {},
   "outputs": [],
   "source": []
  }
 ],
 "metadata": {
  "colab": {
   "name": "Modélisation du métabolisme",
   "provenance": []
  },
  "kaggle": {
   "accelerator": "none",
   "dataSources": [],
   "isGpuEnabled": false,
   "isInternetEnabled": true,
   "language": "python",
   "sourceType": "notebook"
  },
  "kernelspec": {
   "display_name": "Python 3 (ipykernel)",
   "language": "python",
   "name": "python3"
  },
  "language_info": {
   "codemirror_mode": {
    "name": "ipython",
    "version": 3
   },
   "file_extension": ".py",
   "mimetype": "text/x-python",
   "name": "python",
   "nbconvert_exporter": "python",
   "pygments_lexer": "ipython3",
   "version": "3.10.8"
  }
 },
 "nbformat": 4,
 "nbformat_minor": 1
}
