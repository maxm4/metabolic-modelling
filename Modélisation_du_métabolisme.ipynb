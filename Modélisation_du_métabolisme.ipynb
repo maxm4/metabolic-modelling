{
 "cells": [
  {
   "cell_type": "markdown",
   "metadata": {
    "id": "tLdx41ZWs07a"
   },
   "source": [
    "# Atelier de modélisation du métabolisme\n",
    "\n",
    "### Maxime Mahout"
   ]
  },
  {
   "cell_type": "markdown",
   "metadata": {
    "execution": {
     "iopub.execute_input": "2025-01-26T18:14:48.289788Z",
     "iopub.status.busy": "2025-01-26T18:14:48.289359Z",
     "iopub.status.idle": "2025-01-26T18:14:48.294279Z",
     "shell.execute_reply": "2025-01-26T18:14:48.293054Z",
     "shell.execute_reply.started": "2025-01-26T18:14:48.289755Z"
    },
    "id": "lyyz5SB0s07c"
   },
   "source": [
    "## 1) Qu'est-ce que le métabolisme ?\n",
    "\n",
    "L'ensemble des réactions qui se déroulent au sein d'une cellule (source image: Wikipedia)."
   ]
  },
  {
   "cell_type": "markdown",
   "metadata": {
    "id": "hPB2bh_fs07c"
   },
   "source": [
    "![img](https://upload.wikimedia.org/wikipedia/commons/thumb/6/6e/Metabolic_Metro_Map.svg/800px-Metabolic_Metro_Map.svg.png)"
   ]
  },
  {
   "cell_type": "markdown",
   "metadata": {
    "id": "AMhhOINTs07d"
   },
   "source": [
    "### → Réseaux métaboliques:\n",
    "* noeuds: métabolites\n",
    "* arêtes: réaction\n",
    "* pondération: stoechiométrie\n",
    "\n",
    "\\begin{equation}\n",
    "\\text{ex: } 2~ADP \\rightarrow ATP + AMP\n",
    "\\end{equation}"
   ]
  },
  {
   "cell_type": "markdown",
   "metadata": {
    "id": "usxwG6nJs07e"
   },
   "source": [
    "## 2) Qu'est-ce qu'un modèle du métabolisme ?\n",
    "\n",
    "Exemple: Mahout, Schwartz, Attal, Bakkar, Peres, 2024:\n",
    "\n",
    "https://doi.org/10.1371/journal.pone.0313962"
   ]
  },
  {
   "cell_type": "markdown",
   "metadata": {
    "id": "cPpVOIa6s07f"
   },
   "source": [
    "![img](https://journals.plos.org/plosone/article/figure/image?size=large&id=10.1371/journal.pone.0313962.g007)"
   ]
  },
  {
   "cell_type": "markdown",
   "metadata": {
    "id": "-lkFSI-ws07g"
   },
   "source": [
    "Un modèle en sciences est une réduction d'un objet réel en une maquette que l'on peut analyser pour faire des prédictions que l'on espère avérées sur cet objet réel.\n",
    "\n",
    "Ici, par exemple nous faisons des hypothèses sur la formation du stroma tumoral à partir d'un modèle réduit du métabolisme principal de la cellule cancéreuse."
   ]
  },
  {
   "cell_type": "markdown",
   "metadata": {
    "id": "TOReeLzMs07g"
   },
   "source": [
    "## 3) Pourquoi modéliser le métabolisme ?\n",
    "\n",
    "Comme en bio-statistique, on utilise les modèles afin de répondre à des questions scientifiques pour lesquelles on a formulé des hypothèses.\n",
    "\n",
    "Egalement nous pouvons partir dépourvus d'une hypothèse et tester des propriétés sur des modèles pré-existants en espérant faire émerger des découvertes.\n"
   ]
  },
  {
   "cell_type": "markdown",
   "metadata": {
    "id": "XuCVGzw3s07h"
   },
   "source": [
    "## 4) Comment modéliser le métabolisme ?\n",
    "\n",
    "Il existe plusieurs façons de modéliser le métabolisme et sa complexité. Nous pouvons utiliser des approches 1) dynamiques ou 2) à l'état stationnaire pour modéliser les réactions biochimiques.\n",
    "\n",
    "Les méthodes à l'état stationnaire, c'est à dire où la concentration en métabolite ne varie pas au cours du temps, telles que Flux Balance Analysis, sont les plus faciles d'accès.\n",
    "\n",
    "Plus globalement afin d'obtenir des prédictions précises les modèles doivent respecter les principes de la \"biologie des systèmes\", une science qui s'attèle à représenter le système biologique dans toute sa complexité.\n",
    "\n",
    "Autrement dit, le modèle biologique doit pouvoir intégrer le système \"cellule\" à travers tous ses niveaux: gène, ADN, ARN, molécules, chimie, protéine, enzyme, lipides, etc. et pourra être confirmé par tout autant d'analyses, génomique, transcriptomique, protéomique, métabolomique, etc. cf. https://www.nature.com/articles/nrm1857"
   ]
  },
  {
   "cell_type": "markdown",
   "metadata": {
    "id": "nihrk3HSs07i"
   },
   "source": [
    "## 5) Avec quelle méthode commencer ?\n",
    "\n",
    "Je préconise la méthode \"[Flux Balance Analysis](https://doi.org/10.1038/nbt.1614)\" (FBA) et de partir \"hypothesis-free\" sur des modèles \"à l'échelle du génome\" préexistants, tels que ceux présents sur la base de données [BiGG](http://bigg.ucsd.edu/). Un modèle dit à l'échelle du génome est reconstruit à partir d'un génome et associe gènes aux réactions.\n",
    "\n",
    "Afin de tester cela, nous pouvons installer l'outil `cobrapy` [(documentation)](https://cobrapy.readthedocs.io/) et tester le modèle par défaut `e_coli_core` (cf. [reference](https://europepmc.org/article/med/26443778)). \n",
    "\n",
    "Nous utiliserons `escher` [(documentation)](https://escher.readthedocs.io/en/latest/escher-python.html) pour la visualisation des réseaux métaboliques."
   ]
  },
  {
   "cell_type": "code",
   "execution_count": 1,
   "metadata": {},
   "outputs": [
    {
     "name": "stdout",
     "output_type": "stream",
     "text": [
      "cobra                    0.26.2\r\n",
      "Escher                   1.7.3\r\n"
     ]
    }
   ],
   "source": [
    "!pip list | grep -e \"cobra\" -e \"Escher\""
   ]
  },
  {
   "cell_type": "code",
   "execution_count": 2,
   "metadata": {
    "execution": {
     "iopub.execute_input": "2025-01-26T19:19:32.901938Z",
     "iopub.status.busy": "2025-01-26T19:19:32.901609Z",
     "iopub.status.idle": "2025-01-26T19:19:33.342605Z",
     "shell.execute_reply": "2025-01-26T19:19:33.341622Z",
     "shell.execute_reply.started": "2025-01-26T19:19:32.90191Z"
    },
    "id": "WL3lXaPVs07k",
    "outputId": "b957e894-4909-463d-a378-2161668f517f"
   },
   "outputs": [
    {
     "name": "stdout",
     "output_type": "stream",
     "text": [
      "Known nbextensions:\r\n",
      "  config dir: /home/maxime/anaconda3/envs/escher-viz/etc/jupyter/nbconfig\r\n",
      "    notebook section\r\n",
      "      escher/extension \u001b[32m enabled \u001b[0m\r\n",
      "      - Validating: \u001b[32mOK\u001b[0m\r\n",
      "      jupyter-js-widgets/extension \u001b[32m enabled \u001b[0m\r\n",
      "      - Validating: \u001b[32mOK\u001b[0m\r\n",
      "  config dir: /home/maxime/.jupyter/nbconfig\r\n",
      "    notebook section\r\n",
      "      jupyter-js-widgets/extension \u001b[32m enabled \u001b[0m\r\n",
      "      - Validating: \u001b[32mOK\u001b[0m\r\n",
      "  config dir: /home/maxime/.local/etc/jupyter/nbconfig\r\n",
      "    notebook section\r\n",
      "      nbextensions_configurator/config_menu/main \u001b[32m enabled \u001b[0m\r\n",
      "      - Validating: problems found:\r\n",
      "        - require? \u001b[31m X\u001b[0m nbextensions_configurator/config_menu/main\r\n",
      "      jupyter-js-widgets/extension \u001b[32m enabled \u001b[0m\r\n",
      "      - Validating: \u001b[32mOK\u001b[0m\r\n",
      "    tree section\r\n",
      "      nbextensions_configurator/tree_tab/main \u001b[32m enabled \u001b[0m\r\n",
      "      - Validating: problems found:\r\n",
      "        - require? \u001b[31m X\u001b[0m nbextensions_configurator/tree_tab/main\r\n",
      "  config dir: /etc/jupyter/nbconfig\r\n",
      "    notebook section\r\n",
      "      jupyter-js-widgets/extension \u001b[32m enabled \u001b[0m\r\n",
      "      - Validating: \u001b[32mOK\u001b[0m\r\n"
     ]
    }
   ],
   "source": [
    "!jupyter nbextension list"
   ]
  },
  {
   "cell_type": "markdown",
   "metadata": {
    "id": "G-6JGImfs07l"
   },
   "source": [
    "Remarquer ici que l'extension escher/extension pour les Jupyter notebooks est activée."
   ]
  },
  {
   "cell_type": "markdown",
   "metadata": {
    "id": "Yy01w7Mms07m"
   },
   "source": [
    "## 6) Visualisons un modèle métabolique"
   ]
  },
  {
   "cell_type": "markdown",
   "metadata": {},
   "source": [
    "Le modèle `e_coli_core` est un modèle simplifié du métabolisme central de la bactérie *Escherichia coli*."
   ]
  },
  {
   "cell_type": "code",
   "execution_count": 3,
   "metadata": {
    "execution": {
     "iopub.execute_input": "2025-01-26T19:20:56.880362Z",
     "iopub.status.busy": "2025-01-26T19:20:56.879991Z",
     "iopub.status.idle": "2025-01-26T19:20:56.884725Z",
     "shell.execute_reply": "2025-01-26T19:20:56.883451Z",
     "shell.execute_reply.started": "2025-01-26T19:20:56.880334Z"
    },
    "id": "SMi8cqqYs07m"
   },
   "outputs": [],
   "source": [
    "import escher\n",
    "from escher import Builder\n",
    "import cobra"
   ]
  },
  {
   "cell_type": "code",
   "execution_count": 4,
   "metadata": {
    "execution": {
     "iopub.execute_input": "2025-01-26T19:20:52.515366Z",
     "iopub.status.busy": "2025-01-26T19:20:52.514951Z",
     "iopub.status.idle": "2025-01-26T19:20:52.710408Z",
     "shell.execute_reply": "2025-01-26T19:20:52.708941Z",
     "shell.execute_reply.started": "2025-01-26T19:20:52.515327Z"
    },
    "id": "gSyzBINns07n",
    "outputId": "e429702b-2a6e-41b9-f07d-f4fa6f4d5a36"
   },
   "outputs": [
    {
     "name": "stdout",
     "output_type": "stream",
     "text": [
      "Fichier «e_coli_core.json» déjà présent ; pas de récupération.\n",
      "\n",
      "Fichier «e_coli_core.xml» déjà présent ; pas de récupération.\n",
      "\n"
     ]
    }
   ],
   "source": [
    "!wget -nc http://bigg.ucsd.edu/static/models/e_coli_core.json\n",
    "!wget -nc http://bigg.ucsd.edu/static/models/e_coli_core.xml"
   ]
  },
  {
   "cell_type": "code",
   "execution_count": 5,
   "metadata": {
    "execution": {
     "iopub.execute_input": "2025-01-26T19:20:52.713158Z",
     "iopub.status.busy": "2025-01-26T19:20:52.712671Z",
     "iopub.status.idle": "2025-01-26T19:20:52.751326Z",
     "shell.execute_reply": "2025-01-26T19:20:52.75023Z",
     "shell.execute_reply.started": "2025-01-26T19:20:52.713108Z"
    },
    "id": "qlg0MXQHs07o"
   },
   "outputs": [
    {
     "name": "stdout",
     "output_type": "stream",
     "text": [
      "Downloading Map from https://escher.github.io/1-0-0/6/maps/Escherichia%20coli/e_coli_core.Core%20metabolism.json\n",
      "Downloading Model from https://escher.github.io/1-0-0/6/models/Escherichia%20coli/e_coli_core.json\n"
     ]
    }
   ],
   "source": [
    "builder = Builder(\n",
    "    map_name='e_coli_core.Core metabolism',\n",
    "    model_name='e_coli_core',\n",
    ")"
   ]
  },
  {
   "cell_type": "code",
   "execution_count": 6,
   "metadata": {
    "colab": {
     "referenced_widgets": [
      "1730b208c5f64df1a29adaf7f7bd3956"
     ]
    },
    "execution": {
     "iopub.execute_input": "2025-01-26T19:20:57.220133Z",
     "iopub.status.busy": "2025-01-26T19:20:57.219794Z",
     "iopub.status.idle": "2025-01-26T19:20:57.226409Z",
     "shell.execute_reply": "2025-01-26T19:20:57.225421Z",
     "shell.execute_reply.started": "2025-01-26T19:20:57.220106Z"
    },
    "id": "fC6_JfGBs07n",
    "outputId": "6fa89812-ee4d-4bb9-cfff-f7a66e6730fa"
   },
   "outputs": [
    {
     "data": {
      "application/vnd.jupyter.widget-view+json": {
       "model_id": "12b4b900df8842ab8f7a47edec040334",
       "version_major": 2,
       "version_minor": 0
      },
      "text/plain": [
       "Builder()"
      ]
     },
     "metadata": {},
     "output_type": "display_data"
    }
   ],
   "source": [
    "builder"
   ]
  },
  {
   "cell_type": "markdown",
   "metadata": {},
   "source": [
    "La croissance de la bactérie est modélisée par une réaction appelée `BIOMASS_Ecoli_core`, réaction de synthèse de la biomasse. Cette réaction est calculée afin que son flux en métabolites soit plus ou moins proportionnelle au taux de croissance expérimental.\n",
    "\n",
    "Ce modèle est donc adapté pour la méthode Flux Balance Analysis (FBA), c'est à dire l'analyse à l'état stationnaire des flux du réseau de réactions, à l'aide d'une optimisation linéaire avec comme fonction objective la croissance de la cellule."
   ]
  },
  {
   "cell_type": "markdown",
   "metadata": {},
   "source": [
    "## 7) Visualisons l'effet d'une mutation d'un gène sur le métabolisme\n",
    "\n",
    "### a) Quel taux de croissance pour la bactérie *E. coli* wild type ?"
   ]
  },
  {
   "cell_type": "code",
   "execution_count": 7,
   "metadata": {},
   "outputs": [],
   "source": [
    "from copy import copy"
   ]
  },
  {
   "cell_type": "code",
   "execution_count": 8,
   "metadata": {},
   "outputs": [],
   "source": [
    "growth_rates = {}"
   ]
  },
  {
   "cell_type": "code",
   "execution_count": 9,
   "metadata": {},
   "outputs": [],
   "source": [
    "model = cobra.io.read_sbml_model('e_coli_core.xml')"
   ]
  },
  {
   "cell_type": "code",
   "execution_count": 10,
   "metadata": {},
   "outputs": [],
   "source": [
    "fluxes = model.optimize()"
   ]
  },
  {
   "cell_type": "code",
   "execution_count": 11,
   "metadata": {},
   "outputs": [
    {
     "name": "stdout",
     "output_type": "stream",
     "text": [
      "Downloading Map from https://escher.github.io/1-0-0/6/maps/Escherichia%20coli/e_coli_core.Core%20metabolism.json\n",
      "Downloading Model from https://escher.github.io/1-0-0/6/models/Escherichia%20coli/e_coli_core.json\n"
     ]
    }
   ],
   "source": [
    "builder = Builder(\n",
    "    map_name='e_coli_core.Core metabolism',\n",
    "    model_name='e_coli_core',\n",
    ")"
   ]
  },
  {
   "cell_type": "code",
   "execution_count": 12,
   "metadata": {},
   "outputs": [],
   "source": [
    "builder.reaction_data = fluxes.fluxes"
   ]
  },
  {
   "cell_type": "code",
   "execution_count": 13,
   "metadata": {},
   "outputs": [
    {
     "data": {
      "application/vnd.jupyter.widget-view+json": {
       "model_id": "af4593d2c292429db72606dc25911d00",
       "version_major": 2,
       "version_minor": 0
      },
      "text/plain": [
       "Builder(reaction_data={'PFK': 7.477381962160285, 'PFL': 0.0, 'PGI': 4.860861146496822, 'PGK': -16.023526143167…"
      ]
     },
     "metadata": {},
     "output_type": "display_data"
    }
   ],
   "source": [
    "builder"
   ]
  },
  {
   "cell_type": "code",
   "execution_count": 14,
   "metadata": {},
   "outputs": [
    {
     "data": {
      "text/plain": [
       "0.8739215069684302"
      ]
     },
     "execution_count": 14,
     "metadata": {},
     "output_type": "execute_result"
    }
   ],
   "source": [
    "fluxes.fluxes['BIOMASS_Ecoli_core_w_GAM']"
   ]
  },
  {
   "cell_type": "code",
   "execution_count": 15,
   "metadata": {},
   "outputs": [],
   "source": [
    "growth_rates['WT'] = fluxes.fluxes['BIOMASS_Ecoli_core_w_GAM']"
   ]
  },
  {
   "cell_type": "markdown",
   "metadata": {},
   "source": [
    "Le taux de croissance simulé de la bactérie *E. coli* WT est de ~ 0.873 h⁻¹."
   ]
  },
  {
   "cell_type": "markdown",
   "metadata": {},
   "source": [
    "### b) Quel taux de croissance pour la bactérie *E. coli* avec knock-out du gène *pgi* ?"
   ]
  },
  {
   "cell_type": "markdown",
   "metadata": {},
   "source": [
    "Voir la fiche UniProt: https://www.uniprot.org/uniprotkb/P0A6T1/entry."
   ]
  },
  {
   "cell_type": "code",
   "execution_count": 16,
   "metadata": {},
   "outputs": [],
   "source": [
    "model = cobra.io.read_sbml_model('e_coli_core.xml')"
   ]
  },
  {
   "cell_type": "code",
   "execution_count": 17,
   "metadata": {},
   "outputs": [
    {
     "data": {
      "text/html": [
       "\n",
       "        <table>\n",
       "            <tr>\n",
       "                <td><strong>Reaction identifier</strong></td><td>PGI</td>\n",
       "            </tr><tr>\n",
       "                <td><strong>Name</strong></td><td>Glucose-6-phosphate isomerase</td>\n",
       "            </tr><tr>\n",
       "                <td><strong>Memory address</strong></td>\n",
       "                <td>0x7fa8ac884460</td>\n",
       "            </tr><tr>\n",
       "                <td><strong>Stoichiometry</strong></td>\n",
       "                <td>\n",
       "                    <p style='text-align:right'>g6p_c <=> f6p_c</p>\n",
       "                    <p style='text-align:right'>D-Glucose 6-phosphate <=> D-Fructose 6-phosphate</p>\n",
       "                </td>\n",
       "            </tr><tr>\n",
       "                <td><strong>GPR</strong></td><td>b4025</td>\n",
       "            </tr><tr>\n",
       "                <td><strong>Lower bound</strong></td><td>-1000.0</td>\n",
       "            </tr><tr>\n",
       "                <td><strong>Upper bound</strong></td><td>1000.0</td>\n",
       "            </tr>\n",
       "        </table>\n",
       "        "
      ],
      "text/plain": [
       "<Reaction PGI at 0x7fa8ac884460>"
      ]
     },
     "execution_count": 17,
     "metadata": {},
     "output_type": "execute_result"
    }
   ],
   "source": [
    "model.reactions.get_by_id('PGI') # bounds (-1000.0, 1000.0)"
   ]
  },
  {
   "cell_type": "code",
   "execution_count": 18,
   "metadata": {},
   "outputs": [],
   "source": [
    "for gene in list(model.reactions.get_by_id('PGI').genes):\n",
    "    gene.knock_out() # b4025"
   ]
  },
  {
   "cell_type": "code",
   "execution_count": 19,
   "metadata": {},
   "outputs": [
    {
     "data": {
      "text/html": [
       "\n",
       "        <table>\n",
       "            <tr>\n",
       "                <td><strong>Reaction identifier</strong></td><td>PGI</td>\n",
       "            </tr><tr>\n",
       "                <td><strong>Name</strong></td><td>Glucose-6-phosphate isomerase</td>\n",
       "            </tr><tr>\n",
       "                <td><strong>Memory address</strong></td>\n",
       "                <td>0x7fa8ac884460</td>\n",
       "            </tr><tr>\n",
       "                <td><strong>Stoichiometry</strong></td>\n",
       "                <td>\n",
       "                    <p style='text-align:right'>g6p_c --> f6p_c</p>\n",
       "                    <p style='text-align:right'>D-Glucose 6-phosphate --> D-Fructose 6-phosphate</p>\n",
       "                </td>\n",
       "            </tr><tr>\n",
       "                <td><strong>GPR</strong></td><td>b4025</td>\n",
       "            </tr><tr>\n",
       "                <td><strong>Lower bound</strong></td><td>0</td>\n",
       "            </tr><tr>\n",
       "                <td><strong>Upper bound</strong></td><td>0</td>\n",
       "            </tr>\n",
       "        </table>\n",
       "        "
      ],
      "text/plain": [
       "<Reaction PGI at 0x7fa8ac884460>"
      ]
     },
     "execution_count": 19,
     "metadata": {},
     "output_type": "execute_result"
    }
   ],
   "source": [
    "model.reactions.get_by_id('PGI') # bounds (0, 0)"
   ]
  },
  {
   "cell_type": "code",
   "execution_count": 20,
   "metadata": {},
   "outputs": [
    {
     "name": "stdout",
     "output_type": "stream",
     "text": [
      "Downloading Map from https://escher.github.io/1-0-0/6/maps/Escherichia%20coli/e_coli_core.Core%20metabolism.json\n",
      "Downloading Model from https://escher.github.io/1-0-0/6/models/Escherichia%20coli/e_coli_core.json\n"
     ]
    }
   ],
   "source": [
    "builder = Builder(\n",
    "    map_name='e_coli_core.Core metabolism',\n",
    "    model_name='e_coli_core',\n",
    ")"
   ]
  },
  {
   "cell_type": "code",
   "execution_count": 21,
   "metadata": {},
   "outputs": [],
   "source": [
    "fluxes = model.optimize()"
   ]
  },
  {
   "cell_type": "code",
   "execution_count": 22,
   "metadata": {},
   "outputs": [],
   "source": [
    "builder.reaction_data = fluxes.fluxes"
   ]
  },
  {
   "cell_type": "code",
   "execution_count": 23,
   "metadata": {},
   "outputs": [
    {
     "data": {
      "application/vnd.jupyter.widget-view+json": {
       "model_id": "2ad557bbb44f485899a7fa5837e0b9c2",
       "version_major": 2,
       "version_minor": 0
      },
      "text/plain": [
       "Builder(reaction_data={'PFK': 5.867064429485861, 'PFL': 0.0, 'PGI': 0.0, 'PGK': -14.431112198431936, 'PGL': 9.…"
      ]
     },
     "metadata": {},
     "output_type": "display_data"
    }
   ],
   "source": [
    "builder"
   ]
  },
  {
   "cell_type": "code",
   "execution_count": 24,
   "metadata": {},
   "outputs": [
    {
     "data": {
      "text/plain": [
       "0.8631595522084179"
      ]
     },
     "execution_count": 24,
     "metadata": {},
     "output_type": "execute_result"
    }
   ],
   "source": [
    "fluxes.fluxes['BIOMASS_Ecoli_core_w_GAM']"
   ]
  },
  {
   "cell_type": "code",
   "execution_count": 25,
   "metadata": {},
   "outputs": [],
   "source": [
    "growth_rates['pgi-'] = fluxes.fluxes['BIOMASS_Ecoli_core_w_GAM']"
   ]
  },
  {
   "cell_type": "markdown",
   "metadata": {},
   "source": [
    "Le taux de croissance simulé de la bactérie *E. coli* avec *pgi*- est de ~ 0.8632 h⁻¹."
   ]
  },
  {
   "cell_type": "markdown",
   "metadata": {},
   "source": [
    "### c) Quel taux de croissance pour la bactérie *E. coli* avec knock-out du gène *zwf* (G6PDH) ?"
   ]
  },
  {
   "cell_type": "markdown",
   "metadata": {},
   "source": [
    "Voir la fiche UniProt: https://www.uniprot.org/uniprotkb/P0AC53/entry."
   ]
  },
  {
   "cell_type": "code",
   "execution_count": 26,
   "metadata": {},
   "outputs": [],
   "source": [
    "model = cobra.io.read_sbml_model('e_coli_core.xml')"
   ]
  },
  {
   "cell_type": "code",
   "execution_count": 27,
   "metadata": {},
   "outputs": [
    {
     "data": {
      "text/html": [
       "\n",
       "        <table>\n",
       "            <tr>\n",
       "                <td><strong>Reaction identifier</strong></td><td>G6PDH2r</td>\n",
       "            </tr><tr>\n",
       "                <td><strong>Name</strong></td><td>Glucose 6-phosphate dehydrogenase</td>\n",
       "            </tr><tr>\n",
       "                <td><strong>Memory address</strong></td>\n",
       "                <td>0x7fa8acad2c20</td>\n",
       "            </tr><tr>\n",
       "                <td><strong>Stoichiometry</strong></td>\n",
       "                <td>\n",
       "                    <p style='text-align:right'>g6p_c + nadp_c <=> 6pgl_c + h_c + nadph_c</p>\n",
       "                    <p style='text-align:right'>D-Glucose 6-phosphate + Nicotinamide adenine dinucleotide phosphate <=> 6-phospho-D-glucono-1,5-lactone + H+ + Nicotinamide adenine dinucleotide phosphate - reduced</p>\n",
       "                </td>\n",
       "            </tr><tr>\n",
       "                <td><strong>GPR</strong></td><td>b1852</td>\n",
       "            </tr><tr>\n",
       "                <td><strong>Lower bound</strong></td><td>-1000.0</td>\n",
       "            </tr><tr>\n",
       "                <td><strong>Upper bound</strong></td><td>1000.0</td>\n",
       "            </tr>\n",
       "        </table>\n",
       "        "
      ],
      "text/plain": [
       "<Reaction G6PDH2r at 0x7fa8acad2c20>"
      ]
     },
     "execution_count": 27,
     "metadata": {},
     "output_type": "execute_result"
    }
   ],
   "source": [
    "model.reactions.get_by_id('G6PDH2r') # bounds (-1000.0, 1000.0)"
   ]
  },
  {
   "cell_type": "code",
   "execution_count": 28,
   "metadata": {},
   "outputs": [],
   "source": [
    "for gene in list(model.reactions.get_by_id('G6PDH2r').genes):\n",
    "    gene.knock_out() # b1852"
   ]
  },
  {
   "cell_type": "code",
   "execution_count": 29,
   "metadata": {},
   "outputs": [
    {
     "data": {
      "text/html": [
       "\n",
       "        <table>\n",
       "            <tr>\n",
       "                <td><strong>Reaction identifier</strong></td><td>G6PDH2r</td>\n",
       "            </tr><tr>\n",
       "                <td><strong>Name</strong></td><td>Glucose 6-phosphate dehydrogenase</td>\n",
       "            </tr><tr>\n",
       "                <td><strong>Memory address</strong></td>\n",
       "                <td>0x7fa8acad2c20</td>\n",
       "            </tr><tr>\n",
       "                <td><strong>Stoichiometry</strong></td>\n",
       "                <td>\n",
       "                    <p style='text-align:right'>g6p_c + nadp_c --> 6pgl_c + h_c + nadph_c</p>\n",
       "                    <p style='text-align:right'>D-Glucose 6-phosphate + Nicotinamide adenine dinucleotide phosphate --> 6-phospho-D-glucono-1,5-lactone + H+ + Nicotinamide adenine dinucleotide phosphate - reduced</p>\n",
       "                </td>\n",
       "            </tr><tr>\n",
       "                <td><strong>GPR</strong></td><td>b1852</td>\n",
       "            </tr><tr>\n",
       "                <td><strong>Lower bound</strong></td><td>0</td>\n",
       "            </tr><tr>\n",
       "                <td><strong>Upper bound</strong></td><td>0</td>\n",
       "            </tr>\n",
       "        </table>\n",
       "        "
      ],
      "text/plain": [
       "<Reaction G6PDH2r at 0x7fa8acad2c20>"
      ]
     },
     "execution_count": 29,
     "metadata": {},
     "output_type": "execute_result"
    }
   ],
   "source": [
    "model.reactions.get_by_id('G6PDH2r') # bounds (0, 0)"
   ]
  },
  {
   "cell_type": "code",
   "execution_count": 30,
   "metadata": {},
   "outputs": [
    {
     "name": "stdout",
     "output_type": "stream",
     "text": [
      "Downloading Map from https://escher.github.io/1-0-0/6/maps/Escherichia%20coli/e_coli_core.Core%20metabolism.json\n",
      "Downloading Model from https://escher.github.io/1-0-0/6/models/Escherichia%20coli/e_coli_core.json\n"
     ]
    }
   ],
   "source": [
    "builder = Builder(\n",
    "    map_name='e_coli_core.Core metabolism',\n",
    "    model_name='e_coli_core',\n",
    ")"
   ]
  },
  {
   "cell_type": "code",
   "execution_count": 31,
   "metadata": {},
   "outputs": [],
   "source": [
    "fluxes = model.optimize()"
   ]
  },
  {
   "cell_type": "code",
   "execution_count": 32,
   "metadata": {},
   "outputs": [],
   "source": [
    "builder.reaction_data = fluxes.fluxes"
   ]
  },
  {
   "cell_type": "code",
   "execution_count": 33,
   "metadata": {},
   "outputs": [
    {
     "data": {
      "application/vnd.jupyter.widget-view+json": {
       "model_id": "7e612d40bee54349a6daa25660f18e8b",
       "version_major": 2,
       "version_minor": 0
      },
      "text/plain": [
       "Builder(reaction_data={'PFK': 9.14076490103637, 'PFL': 0.0, 'PGI': 9.82291827155168, 'PGK': -17.70372507934551…"
      ]
     },
     "metadata": {},
     "output_type": "display_data"
    }
   ],
   "source": [
    "builder"
   ]
  },
  {
   "cell_type": "code",
   "execution_count": 34,
   "metadata": {},
   "outputs": [
    {
     "data": {
      "text/plain": [
       "0.8638133095040007"
      ]
     },
     "execution_count": 34,
     "metadata": {},
     "output_type": "execute_result"
    }
   ],
   "source": [
    "fluxes.fluxes['BIOMASS_Ecoli_core_w_GAM']"
   ]
  },
  {
   "cell_type": "code",
   "execution_count": 35,
   "metadata": {},
   "outputs": [],
   "source": [
    "growth_rates['zwf-'] = fluxes.fluxes['BIOMASS_Ecoli_core_w_GAM']"
   ]
  },
  {
   "cell_type": "markdown",
   "metadata": {},
   "source": [
    "Le taux de croissance simulé de la bactérie *E. coli* avec *zwf*- est de ~ 0.8638 h⁻¹."
   ]
  },
  {
   "cell_type": "markdown",
   "metadata": {},
   "source": [
    "### d) Quel taux de croissance pour la bactérie *E. coli* avec knock-outs de *zwf* et *pwi* ?"
   ]
  },
  {
   "cell_type": "code",
   "execution_count": 39,
   "metadata": {},
   "outputs": [],
   "source": [
    "model = cobra.io.read_sbml_model('e_coli_core.xml')"
   ]
  },
  {
   "cell_type": "code",
   "execution_count": 40,
   "metadata": {},
   "outputs": [],
   "source": [
    "for gene in list(model.reactions.get_by_id('PGI').genes):\n",
    "    gene.knock_out() # b4025"
   ]
  },
  {
   "cell_type": "code",
   "execution_count": 41,
   "metadata": {},
   "outputs": [],
   "source": [
    "for gene in list(model.reactions.get_by_id('G6PDH2r').genes):\n",
    "    gene.knock_out() # b1852"
   ]
  },
  {
   "cell_type": "code",
   "execution_count": 43,
   "metadata": {},
   "outputs": [
    {
     "name": "stderr",
     "output_type": "stream",
     "text": [
      "/home/maxime/anaconda3/envs/escher-viz/lib/python3.10/site-packages/cobra/util/solver.py:554: UserWarning: Solver status is 'infeasible'.\n",
      "  warn(f\"Solver status is '{status}'.\", UserWarning)\n"
     ]
    }
   ],
   "source": [
    "fluxes = model.optimize()"
   ]
  },
  {
   "cell_type": "code",
   "execution_count": 44,
   "metadata": {},
   "outputs": [
    {
     "data": {
      "text/plain": [
       "0.0"
      ]
     },
     "execution_count": 44,
     "metadata": {},
     "output_type": "execute_result"
    }
   ],
   "source": [
    "fluxes.fluxes['BIOMASS_Ecoli_core_w_GAM']"
   ]
  },
  {
   "cell_type": "code",
   "execution_count": 45,
   "metadata": {},
   "outputs": [],
   "source": [
    "growth_rates['pgi-, zwf-'] = fluxes.fluxes['BIOMASS_Ecoli_core_w_GAM']"
   ]
  },
  {
   "cell_type": "markdown",
   "metadata": {},
   "source": [
    "Une absence de solution (problème \"irrésoluble\") traduit une impossibilité pour le modèle de produire de la biomasse, donc un flux de biomasse de zéro. "
   ]
  },
  {
   "cell_type": "markdown",
   "metadata": {},
   "source": [
    "## 7) Et si l'on intègre des données omiques ?"
   ]
  },
  {
   "cell_type": "markdown",
   "metadata": {},
   "source": [
    "Reprenons la même expérience, mais au lieu d'utiliser de faire des \"knock-out\", supposons que nous avons des données omiques dans deux conditions.\n",
    "\n",
    "Dans la première condition, C1, *zwf* est **sous-exprimé**. Les données de transcriptomiques et protéomiques valident cette hypothèse.\n",
    "\n",
    "Dans la seconde condition, C2, *pgi* est **sous-exprimé**. Les données de transcriptomiques et protéomiques valident aussi cette hypothèse."
   ]
  },
  {
   "cell_type": "markdown",
   "metadata": {},
   "source": [
    "![img](https://raw.githubusercontent.com/maxm4/metabolic-modelling/refs/heads/main/img/expression.png)"
   ]
  },
  {
   "cell_type": "markdown",
   "metadata": {},
   "source": [
    "L'enjeu ici est d'intégrer ces observations dans le modèle du métabolisme. Nous devons donc refléter cette donnée sur les bornes des flux des réactions.\n",
    "\n",
    "La borne par défaut de toutes les réactions est (-1000.0, 1000.0) mais la borne d'EX_glc_e (-10.0, 0) force les valeurs de flux autour de l'intervalle [0.1, 10].\n",
    "\n",
    "C1 se traduit donc par des bornes (-1.0, 1.0) au lieu de (-1000.0, 1000.0) pour G6PDH.\n",
    "\n",
    "Et C2 se traduit donc par des bornes (-1.0, 1.0) au lieu de (-1000.0, 1000.0) pour PGI."
   ]
  },
  {
   "cell_type": "code",
   "execution_count": null,
   "metadata": {},
   "outputs": [],
   "source": []
  }
 ],
 "metadata": {
  "colab": {
   "name": "Modélisation du métabolisme",
   "provenance": []
  },
  "kaggle": {
   "accelerator": "none",
   "dataSources": [],
   "isGpuEnabled": false,
   "isInternetEnabled": true,
   "language": "python",
   "sourceType": "notebook"
  },
  "kernelspec": {
   "display_name": "Python 3 (ipykernel)",
   "language": "python",
   "name": "python3"
  },
  "language_info": {
   "codemirror_mode": {
    "name": "ipython",
    "version": 3
   },
   "file_extension": ".py",
   "mimetype": "text/x-python",
   "name": "python",
   "nbconvert_exporter": "python",
   "pygments_lexer": "ipython3",
   "version": "3.10.8"
  }
 },
 "nbformat": 4,
 "nbformat_minor": 1
}
