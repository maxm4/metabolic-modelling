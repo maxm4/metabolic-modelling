{
 "cells": [
  {
   "cell_type": "markdown",
   "metadata": {
    "id": "tLdx41ZWs07a"
   },
   "source": [
    "# Atelier de modélisation du métabolisme\n",
    "\n",
    "### Maxime Mahout"
   ]
  },
  {
   "cell_type": "markdown",
   "metadata": {
    "execution": {
     "iopub.execute_input": "2025-01-26T18:14:48.289788Z",
     "iopub.status.busy": "2025-01-26T18:14:48.289359Z",
     "iopub.status.idle": "2025-01-26T18:14:48.294279Z",
     "shell.execute_reply": "2025-01-26T18:14:48.293054Z",
     "shell.execute_reply.started": "2025-01-26T18:14:48.289755Z"
    },
    "id": "lyyz5SB0s07c"
   },
   "source": [
    "## 1) Qu'est-ce que le métabolisme ?\n",
    "\n",
    "L'ensemble des réactions qui se déroulent au sein d'une cellule."
   ]
  },
  {
   "cell_type": "markdown",
   "metadata": {
    "id": "hPB2bh_fs07c"
   },
   "source": [
    "![img](https://upload.wikimedia.org/wikipedia/commons/thumb/6/6e/Metabolic_Metro_Map.svg/800px-Metabolic_Metro_Map.svg.png)"
   ]
  },
  {
   "cell_type": "markdown",
   "metadata": {
    "id": "AMhhOINTs07d"
   },
   "source": [
    "### -> Réseaux métaboliques:\n",
    "* noeuds: métabolites\n",
    "* arêtes: réaction\n",
    "* pondération: stoechiométrie\n",
    "\n",
    "\\begin{equation}\n",
    "\\text{ex: } 2~ADP \\rightarrow ATP + AMP\n",
    "\\end{equation}"
   ]
  },
  {
   "cell_type": "markdown",
   "metadata": {
    "id": "usxwG6nJs07e"
   },
   "source": [
    "## 2) Qu'est-ce qu'un modèle du métabolisme ?\n",
    "\n",
    "Exemple: Mahout, Schwartz, Attal, Bakkar, Peres, 2024:\n",
    "\n",
    "https://doi.org/10.1371/journal.pone.0313962"
   ]
  },
  {
   "cell_type": "markdown",
   "metadata": {
    "id": "cPpVOIa6s07f"
   },
   "source": [
    "![img](https://journals.plos.org/plosone/article/figure/image?size=large&id=10.1371/journal.pone.0313962.g007)"
   ]
  },
  {
   "cell_type": "markdown",
   "metadata": {
    "id": "-lkFSI-ws07g"
   },
   "source": [
    "Un modèle en sciences est une réduction d'un objet réel en une maquette que l'on peut analyser pour faire des prédictions que l'on espère avérées sur cet objet réel.\n",
    "\n",
    "Ici, par exemple nous faisons des hypothèses sur la formation du stroma tumoral à partir d'un modèle réduit du métabolisme principal de la cellule cancéreuse."
   ]
  },
  {
   "cell_type": "markdown",
   "metadata": {
    "id": "TOReeLzMs07g"
   },
   "source": [
    "## 3) Pourquoi modéliser le métabolisme ?\n",
    "\n",
    "Comme en bio-statistique, on utilise les modèles afin de répondre à des questions scientifiques pour lesquelles on a formulé des hypothèses.\n",
    "\n",
    "Egalement nous pouvons partir dépourvus d'une hypothèse et tester des propriétés sur des modèles pré-existants en espérant faire émerger des découvertes.\n"
   ]
  },
  {
   "cell_type": "markdown",
   "metadata": {
    "id": "XuCVGzw3s07h"
   },
   "source": [
    "## 4) Comment modéliser le métabolisme ?\n",
    "\n",
    "Il existe plusieurs façons de modéliser le métabolisme et sa complexité. Nous pouvons utiliser des approches 1) dynamiques ou 2) à l'état stationnaire pour modéliser les réactions biochimiques.\n",
    "\n",
    "Les méthodes à l'état stationnaire, c'est à dire où la concentration en métabolite ne varie pas au cours du temps, telles que Flux Balance Analysis, sont les plus faciles d'accès.\n",
    "\n",
    "Plus globalement afin d'obtenir des prédictions précises les modèles doivent respecter les principes de la \"biologie des systèmes\", une science qui s'attèle à représenter le système biologique dans toute sa complexité.\n",
    "\n",
    "Autrement dit, le modèle biologique doit pouvoir intégrer le système \"cellule\" à travers tous ses niveaux: gène, ADN, ARN, molécules, chimie, protéine, enzyme, lipides, etc. et pourra être confirmé par tout autant d'analyses, génomique, transcriptomique, protéomique, métabolomique, etc. cf. https://www.nature.com/articles/nrm1857"
   ]
  },
  {
   "cell_type": "markdown",
   "metadata": {
    "id": "nihrk3HSs07i"
   },
   "source": [
    "## 5) Avec quelle méthode commencer ?\n",
    "\n",
    "Je préconise la méthode \"[Flux Balance Analysis](https://doi.org/10.1038/nbt.1614)\" (FBA) et de partir \"hypothesis-free\" sur des modèles \"à l'échelle du génome\" préexistants, tels que ceux présents sur la base de données http://bigg.ucsd.edu/.\n",
    "\n",
    "Afin de tester cela, nous pouvons installer l'outil `cobrapy` [(documentation)](https://cobrapy.readthedocs.io/) et tester le modèle par défaut `e_coli_core` (cf. [reference](https://europepmc.org/article/med/26443778)). Ainsi que `escher` [(documentation)](https://escher.readthedocs.io/en/latest/escher-python.html) pour la visualisation."
   ]
  },
  {
   "cell_type": "code",
   "execution_count": 16,
   "metadata": {},
   "outputs": [
    {
     "name": "stdout",
     "output_type": "stream",
     "text": [
      "cobra                    0.26.2\r\n",
      "Escher                   1.7.3\r\n"
     ]
    }
   ],
   "source": [
    "!pip list | grep -e \"cobra\" -e \"escher\""
   ]
  },
  {
   "cell_type": "code",
   "execution_count": null,
   "metadata": {
    "execution": {
     "iopub.execute_input": "2025-01-26T19:19:32.901938Z",
     "iopub.status.busy": "2025-01-26T19:19:32.901609Z",
     "iopub.status.idle": "2025-01-26T19:19:33.342605Z",
     "shell.execute_reply": "2025-01-26T19:19:33.341622Z",
     "shell.execute_reply.started": "2025-01-26T19:19:32.90191Z"
    },
    "id": "WL3lXaPVs07k",
    "outputId": "b957e894-4909-463d-a378-2161668f517f"
   },
   "outputs": [
    {
     "name": "stdout",
     "output_type": "stream",
     "text": [
      "Known nbextensions:\n",
      "  config dir: /root/.jupyter/nbconfig\n",
      "    notebook section\n",
      "      escher/extension \u001b[32m enabled \u001b[0m\n",
      "      - Validating: \u001b[32mOK\u001b[0m\n",
      "  config dir: /usr/local/etc/jupyter/nbconfig\n",
      "    notebook section\n",
      "      bqplot/extension \u001b[32m enabled \u001b[0m\n",
      "      - Validating: \u001b[32mOK\u001b[0m\n",
      "      catboost-widget/extension \u001b[32m enabled \u001b[0m\n",
      "      - Validating: \u001b[32mOK\u001b[0m\n",
      "      escher/extension \u001b[32m enabled \u001b[0m\n",
      "      - Validating: \u001b[32mOK\u001b[0m\n",
      "      ipyevents/extension \u001b[32m enabled \u001b[0m\n",
      "      - Validating: problems found:\n",
      "        - require? \u001b[31m X\u001b[0m ipyevents/extension\n",
      "      ipytree/extension \u001b[32m enabled \u001b[0m\n",
      "      - Validating: \u001b[32mOK\u001b[0m\n",
      "      jupyter-leaflet/extension \u001b[32m enabled \u001b[0m\n",
      "      - Validating: \u001b[32mOK\u001b[0m\n",
      "      jupyter-matplotlib/extension \u001b[32m enabled \u001b[0m\n",
      "      - Validating: \u001b[32mOK\u001b[0m\n",
      "      jupyterlab-plotly/extension \u001b[32m enabled \u001b[0m\n",
      "      - Validating: \u001b[32mOK\u001b[0m\n",
      "      jupyter-js-widgets/extension \u001b[32m enabled \u001b[0m\n",
      "      - Validating: \u001b[32mOK\u001b[0m\n",
      "    tree section\n",
      "      ipyparallel/main \u001b[32m enabled \u001b[0m\n",
      "      - Validating: \u001b[32mOK\u001b[0m\n"
     ]
    }
   ],
   "source": [
    "!jupyter nbextension list"
   ]
  },
  {
   "cell_type": "markdown",
   "metadata": {
    "id": "G-6JGImfs07l"
   },
   "source": [
    "Remarquer ici que l'extension escher/extension pour les Jupyter notebooks est activée."
   ]
  },
  {
   "cell_type": "markdown",
   "metadata": {
    "id": "Yy01w7Mms07m"
   },
   "source": [
    "## 6) Visualisons un modèle métabolique"
   ]
  },
  {
   "cell_type": "code",
   "execution_count": 4,
   "metadata": {
    "execution": {
     "iopub.execute_input": "2025-01-26T19:20:56.880362Z",
     "iopub.status.busy": "2025-01-26T19:20:56.879991Z",
     "iopub.status.idle": "2025-01-26T19:20:56.884725Z",
     "shell.execute_reply": "2025-01-26T19:20:56.883451Z",
     "shell.execute_reply.started": "2025-01-26T19:20:56.880334Z"
    },
    "id": "SMi8cqqYs07m"
   },
   "outputs": [],
   "source": [
    "import escher\n",
    "from escher import Builder\n",
    "import cobra"
   ]
  },
  {
   "cell_type": "code",
   "execution_count": 5,
   "metadata": {
    "execution": {
     "iopub.execute_input": "2025-01-26T19:20:57.059993Z",
     "iopub.status.busy": "2025-01-26T19:20:57.059636Z",
     "iopub.status.idle": "2025-01-26T19:20:57.066386Z",
     "shell.execute_reply": "2025-01-26T19:20:57.065302Z",
     "shell.execute_reply.started": "2025-01-26T19:20:57.059963Z"
    },
    "id": "aQyvxBwas07m"
   },
   "outputs": [],
   "source": [
    "builder = Builder()"
   ]
  },
  {
   "cell_type": "code",
   "execution_count": 6,
   "metadata": {
    "colab": {
     "referenced_widgets": [
      "1730b208c5f64df1a29adaf7f7bd3956"
     ]
    },
    "execution": {
     "iopub.execute_input": "2025-01-26T19:20:57.220133Z",
     "iopub.status.busy": "2025-01-26T19:20:57.219794Z",
     "iopub.status.idle": "2025-01-26T19:20:57.226409Z",
     "shell.execute_reply": "2025-01-26T19:20:57.225421Z",
     "shell.execute_reply.started": "2025-01-26T19:20:57.220106Z"
    },
    "id": "fC6_JfGBs07n",
    "outputId": "6fa89812-ee4d-4bb9-cfff-f7a66e6730fa"
   },
   "outputs": [
    {
     "data": {
      "application/vnd.jupyter.widget-view+json": {
       "model_id": "3a8cbcccd10e4eb59f4324be277a3f76",
       "version_major": 2,
       "version_minor": 0
      },
      "text/plain": [
       "Builder()"
      ]
     },
     "metadata": {},
     "output_type": "display_data"
    }
   ],
   "source": [
    "builder"
   ]
  },
  {
   "cell_type": "code",
   "execution_count": null,
   "metadata": {
    "execution": {
     "iopub.execute_input": "2025-01-26T19:20:52.515366Z",
     "iopub.status.busy": "2025-01-26T19:20:52.514951Z",
     "iopub.status.idle": "2025-01-26T19:20:52.710408Z",
     "shell.execute_reply": "2025-01-26T19:20:52.708941Z",
     "shell.execute_reply.started": "2025-01-26T19:20:52.515327Z"
    },
    "id": "gSyzBINns07n",
    "outputId": "e429702b-2a6e-41b9-f07d-f4fa6f4d5a36"
   },
   "outputs": [
    {
     "name": "stdout",
     "output_type": "stream",
     "text": [
      "File ‘e_coli_core.json’ already there; not retrieving.\n",
      "\n"
     ]
    }
   ],
   "source": [
    "!wget -nc http://bigg.ucsd.edu/static/models/e_coli_core.json"
   ]
  },
  {
   "cell_type": "code",
   "execution_count": 8,
   "metadata": {
    "execution": {
     "iopub.execute_input": "2025-01-26T19:20:52.713158Z",
     "iopub.status.busy": "2025-01-26T19:20:52.712671Z",
     "iopub.status.idle": "2025-01-26T19:20:52.751326Z",
     "shell.execute_reply": "2025-01-26T19:20:52.75023Z",
     "shell.execute_reply.started": "2025-01-26T19:20:52.713108Z"
    },
    "id": "qlg0MXQHs07o"
   },
   "outputs": [
    {
     "ename": "ValueError",
     "evalue": "Could not load model_json. Not valid json, url, or filepath",
     "output_type": "error",
     "traceback": [
      "\u001b[0;31m---------------------------------------------------------------------------\u001b[0m",
      "\u001b[0;31mJSONDecodeError\u001b[0m                           Traceback (most recent call last)",
      "File \u001b[0;32m~/anaconda3/envs/escher-viz/lib/python3.10/site-packages/escher/plots.py:139\u001b[0m, in \u001b[0;36m_load_resource\u001b[0;34m(resource, name)\u001b[0m\n\u001b[1;32m    138\u001b[0m \u001b[38;5;28;01mtry\u001b[39;00m:\n\u001b[0;32m--> 139\u001b[0m     _ \u001b[38;5;241m=\u001b[39m \u001b[43mjson\u001b[49m\u001b[38;5;241;43m.\u001b[39;49m\u001b[43mloads\u001b[49m\u001b[43m(\u001b[49m\u001b[43mresource\u001b[49m\u001b[43m)\u001b[49m\n\u001b[1;32m    140\u001b[0m \u001b[38;5;28;01mexcept\u001b[39;00m \u001b[38;5;167;01mValueError\u001b[39;00m \u001b[38;5;28;01mas\u001b[39;00m err:\n",
      "File \u001b[0;32m~/anaconda3/envs/escher-viz/lib/python3.10/json/__init__.py:346\u001b[0m, in \u001b[0;36mloads\u001b[0;34m(s, cls, object_hook, parse_float, parse_int, parse_constant, object_pairs_hook, **kw)\u001b[0m\n\u001b[1;32m    343\u001b[0m \u001b[38;5;28;01mif\u001b[39;00m (\u001b[38;5;28mcls\u001b[39m \u001b[38;5;129;01mis\u001b[39;00m \u001b[38;5;28;01mNone\u001b[39;00m \u001b[38;5;129;01mand\u001b[39;00m object_hook \u001b[38;5;129;01mis\u001b[39;00m \u001b[38;5;28;01mNone\u001b[39;00m \u001b[38;5;129;01mand\u001b[39;00m\n\u001b[1;32m    344\u001b[0m         parse_int \u001b[38;5;129;01mis\u001b[39;00m \u001b[38;5;28;01mNone\u001b[39;00m \u001b[38;5;129;01mand\u001b[39;00m parse_float \u001b[38;5;129;01mis\u001b[39;00m \u001b[38;5;28;01mNone\u001b[39;00m \u001b[38;5;129;01mand\u001b[39;00m\n\u001b[1;32m    345\u001b[0m         parse_constant \u001b[38;5;129;01mis\u001b[39;00m \u001b[38;5;28;01mNone\u001b[39;00m \u001b[38;5;129;01mand\u001b[39;00m object_pairs_hook \u001b[38;5;129;01mis\u001b[39;00m \u001b[38;5;28;01mNone\u001b[39;00m \u001b[38;5;129;01mand\u001b[39;00m \u001b[38;5;129;01mnot\u001b[39;00m kw):\n\u001b[0;32m--> 346\u001b[0m     \u001b[38;5;28;01mreturn\u001b[39;00m \u001b[43m_default_decoder\u001b[49m\u001b[38;5;241;43m.\u001b[39;49m\u001b[43mdecode\u001b[49m\u001b[43m(\u001b[49m\u001b[43ms\u001b[49m\u001b[43m)\u001b[49m\n\u001b[1;32m    347\u001b[0m \u001b[38;5;28;01mif\u001b[39;00m \u001b[38;5;28mcls\u001b[39m \u001b[38;5;129;01mis\u001b[39;00m \u001b[38;5;28;01mNone\u001b[39;00m:\n",
      "File \u001b[0;32m~/anaconda3/envs/escher-viz/lib/python3.10/json/decoder.py:337\u001b[0m, in \u001b[0;36mJSONDecoder.decode\u001b[0;34m(self, s, _w)\u001b[0m\n\u001b[1;32m    333\u001b[0m \u001b[38;5;250m\u001b[39m\u001b[38;5;124;03m\"\"\"Return the Python representation of ``s`` (a ``str`` instance\u001b[39;00m\n\u001b[1;32m    334\u001b[0m \u001b[38;5;124;03mcontaining a JSON document).\u001b[39;00m\n\u001b[1;32m    335\u001b[0m \n\u001b[1;32m    336\u001b[0m \u001b[38;5;124;03m\"\"\"\u001b[39;00m\n\u001b[0;32m--> 337\u001b[0m obj, end \u001b[38;5;241m=\u001b[39m \u001b[38;5;28;43mself\u001b[39;49m\u001b[38;5;241;43m.\u001b[39;49m\u001b[43mraw_decode\u001b[49m\u001b[43m(\u001b[49m\u001b[43ms\u001b[49m\u001b[43m,\u001b[49m\u001b[43m \u001b[49m\u001b[43midx\u001b[49m\u001b[38;5;241;43m=\u001b[39;49m\u001b[43m_w\u001b[49m\u001b[43m(\u001b[49m\u001b[43ms\u001b[49m\u001b[43m,\u001b[49m\u001b[43m \u001b[49m\u001b[38;5;241;43m0\u001b[39;49m\u001b[43m)\u001b[49m\u001b[38;5;241;43m.\u001b[39;49m\u001b[43mend\u001b[49m\u001b[43m(\u001b[49m\u001b[43m)\u001b[49m\u001b[43m)\u001b[49m\n\u001b[1;32m    338\u001b[0m end \u001b[38;5;241m=\u001b[39m _w(s, end)\u001b[38;5;241m.\u001b[39mend()\n",
      "File \u001b[0;32m~/anaconda3/envs/escher-viz/lib/python3.10/json/decoder.py:355\u001b[0m, in \u001b[0;36mJSONDecoder.raw_decode\u001b[0;34m(self, s, idx)\u001b[0m\n\u001b[1;32m    354\u001b[0m \u001b[38;5;28;01mexcept\u001b[39;00m \u001b[38;5;167;01mStopIteration\u001b[39;00m \u001b[38;5;28;01mas\u001b[39;00m err:\n\u001b[0;32m--> 355\u001b[0m     \u001b[38;5;28;01mraise\u001b[39;00m JSONDecodeError(\u001b[38;5;124m\"\u001b[39m\u001b[38;5;124mExpecting value\u001b[39m\u001b[38;5;124m\"\u001b[39m, s, err\u001b[38;5;241m.\u001b[39mvalue) \u001b[38;5;28;01mfrom\u001b[39;00m \u001b[38;5;28mNone\u001b[39m\n\u001b[1;32m    356\u001b[0m \u001b[38;5;28;01mreturn\u001b[39;00m obj, end\n",
      "\u001b[0;31mJSONDecodeError\u001b[0m: Expecting value: line 1 column 1 (char 0)",
      "\nDuring handling of the above exception, another exception occurred:\n",
      "\u001b[0;31mValueError\u001b[0m                                Traceback (most recent call last)",
      "Cell \u001b[0;32mIn[8], line 1\u001b[0m\n\u001b[0;32m----> 1\u001b[0m builder \u001b[38;5;241m=\u001b[39m \u001b[43mBuilder\u001b[49m\u001b[43m(\u001b[49m\n\u001b[1;32m      2\u001b[0m \u001b[43m    \u001b[49m\u001b[43mmodel_json\u001b[49m\u001b[38;5;241;43m=\u001b[39;49m\u001b[38;5;124;43m'\u001b[39;49m\u001b[38;5;124;43me_coli_core.json\u001b[39;49m\u001b[38;5;124;43m'\u001b[39;49m\n\u001b[1;32m      3\u001b[0m \u001b[43m)\u001b[49m\n",
      "File \u001b[0;32m~/anaconda3/envs/escher-viz/lib/python3.10/site-packages/escher/plots.py:551\u001b[0m, in \u001b[0;36mBuilder.__init__\u001b[0;34m(self, map_name, map_json, model, model_name, model_json, **kwargs)\u001b[0m\n\u001b[1;32m    549\u001b[0m     \u001b[38;5;28;01mif\u001b[39;00m model_name:\n\u001b[1;32m    550\u001b[0m         warn(\u001b[38;5;124m'\u001b[39m\u001b[38;5;124mmodel_json overrides model_name\u001b[39m\u001b[38;5;124m'\u001b[39m)\n\u001b[0;32m--> 551\u001b[0m     \u001b[38;5;28;43mself\u001b[39;49m\u001b[38;5;241;43m.\u001b[39;49m\u001b[43mmodel_json\u001b[49m \u001b[38;5;241m=\u001b[39m model_json\n\u001b[1;32m    552\u001b[0m \u001b[38;5;28;01melse\u001b[39;00m:\n\u001b[1;32m    553\u001b[0m     \u001b[38;5;28mself\u001b[39m\u001b[38;5;241m.\u001b[39mmodel_name \u001b[38;5;241m=\u001b[39m model_name\n",
      "File \u001b[0;32m~/anaconda3/envs/escher-viz/lib/python3.10/site-packages/traitlets/traitlets.py:732\u001b[0m, in \u001b[0;36mTraitType.__set__\u001b[0;34m(self, obj, value)\u001b[0m\n\u001b[1;32m    730\u001b[0m     \u001b[38;5;28;01mraise\u001b[39;00m TraitError(\u001b[38;5;124m'\u001b[39m\u001b[38;5;124mThe \u001b[39m\u001b[38;5;124m\"\u001b[39m\u001b[38;5;132;01m%s\u001b[39;00m\u001b[38;5;124m\"\u001b[39m\u001b[38;5;124m trait is read-only.\u001b[39m\u001b[38;5;124m'\u001b[39m \u001b[38;5;241m%\u001b[39m \u001b[38;5;28mself\u001b[39m\u001b[38;5;241m.\u001b[39mname)\n\u001b[1;32m    731\u001b[0m \u001b[38;5;28;01melse\u001b[39;00m:\n\u001b[0;32m--> 732\u001b[0m     \u001b[38;5;28;43mself\u001b[39;49m\u001b[38;5;241;43m.\u001b[39;49m\u001b[43mset\u001b[49m\u001b[43m(\u001b[49m\u001b[43mobj\u001b[49m\u001b[43m,\u001b[49m\u001b[43m \u001b[49m\u001b[43mvalue\u001b[49m\u001b[43m)\u001b[49m\n",
      "File \u001b[0;32m~/anaconda3/envs/escher-viz/lib/python3.10/site-packages/traitlets/traitlets.py:721\u001b[0m, in \u001b[0;36mTraitType.set\u001b[0;34m(self, obj, value)\u001b[0m\n\u001b[1;32m    717\u001b[0m     silent \u001b[38;5;241m=\u001b[39m \u001b[38;5;28;01mFalse\u001b[39;00m\n\u001b[1;32m    718\u001b[0m \u001b[38;5;28;01mif\u001b[39;00m silent \u001b[38;5;129;01mis\u001b[39;00m \u001b[38;5;129;01mnot\u001b[39;00m \u001b[38;5;28;01mTrue\u001b[39;00m:\n\u001b[1;32m    719\u001b[0m     \u001b[38;5;66;03m# we explicitly compare silent to True just in case the equality\u001b[39;00m\n\u001b[1;32m    720\u001b[0m     \u001b[38;5;66;03m# comparison above returns something other than True/False\u001b[39;00m\n\u001b[0;32m--> 721\u001b[0m     \u001b[43mobj\u001b[49m\u001b[38;5;241;43m.\u001b[39;49m\u001b[43m_notify_trait\u001b[49m\u001b[43m(\u001b[49m\u001b[38;5;28;43mself\u001b[39;49m\u001b[38;5;241;43m.\u001b[39;49m\u001b[43mname\u001b[49m\u001b[43m,\u001b[49m\u001b[43m \u001b[49m\u001b[43mold_value\u001b[49m\u001b[43m,\u001b[49m\u001b[43m \u001b[49m\u001b[43mnew_value\u001b[49m\u001b[43m)\u001b[49m\n",
      "File \u001b[0;32m~/anaconda3/envs/escher-viz/lib/python3.10/site-packages/traitlets/traitlets.py:1505\u001b[0m, in \u001b[0;36mHasTraits._notify_trait\u001b[0;34m(self, name, old_value, new_value)\u001b[0m\n\u001b[1;32m   1504\u001b[0m \u001b[38;5;28;01mdef\u001b[39;00m \u001b[38;5;21m_notify_trait\u001b[39m(\u001b[38;5;28mself\u001b[39m, name, old_value, new_value):\n\u001b[0;32m-> 1505\u001b[0m     \u001b[38;5;28;43mself\u001b[39;49m\u001b[38;5;241;43m.\u001b[39;49m\u001b[43mnotify_change\u001b[49m\u001b[43m(\u001b[49m\n\u001b[1;32m   1506\u001b[0m \u001b[43m        \u001b[49m\u001b[43mBunch\u001b[49m\u001b[43m(\u001b[49m\n\u001b[1;32m   1507\u001b[0m \u001b[43m            \u001b[49m\u001b[43mname\u001b[49m\u001b[38;5;241;43m=\u001b[39;49m\u001b[43mname\u001b[49m\u001b[43m,\u001b[49m\n\u001b[1;32m   1508\u001b[0m \u001b[43m            \u001b[49m\u001b[43mold\u001b[49m\u001b[38;5;241;43m=\u001b[39;49m\u001b[43mold_value\u001b[49m\u001b[43m,\u001b[49m\n\u001b[1;32m   1509\u001b[0m \u001b[43m            \u001b[49m\u001b[43mnew\u001b[49m\u001b[38;5;241;43m=\u001b[39;49m\u001b[43mnew_value\u001b[49m\u001b[43m,\u001b[49m\n\u001b[1;32m   1510\u001b[0m \u001b[43m            \u001b[49m\u001b[43mowner\u001b[49m\u001b[38;5;241;43m=\u001b[39;49m\u001b[38;5;28;43mself\u001b[39;49m\u001b[43m,\u001b[49m\n\u001b[1;32m   1511\u001b[0m \u001b[43m            \u001b[49m\u001b[38;5;28;43mtype\u001b[39;49m\u001b[38;5;241;43m=\u001b[39;49m\u001b[38;5;124;43m\"\u001b[39;49m\u001b[38;5;124;43mchange\u001b[39;49m\u001b[38;5;124;43m\"\u001b[39;49m\u001b[43m,\u001b[49m\n\u001b[1;32m   1512\u001b[0m \u001b[43m        \u001b[49m\u001b[43m)\u001b[49m\n\u001b[1;32m   1513\u001b[0m \u001b[43m    \u001b[49m\u001b[43m)\u001b[49m\n",
      "File \u001b[0;32m~/anaconda3/envs/escher-viz/lib/python3.10/site-packages/ipywidgets/widgets/widget.py:686\u001b[0m, in \u001b[0;36mWidget.notify_change\u001b[0;34m(self, change)\u001b[0m\n\u001b[1;32m    683\u001b[0m     \u001b[38;5;28;01mif\u001b[39;00m name \u001b[38;5;129;01min\u001b[39;00m \u001b[38;5;28mself\u001b[39m\u001b[38;5;241m.\u001b[39mkeys \u001b[38;5;129;01mand\u001b[39;00m \u001b[38;5;28mself\u001b[39m\u001b[38;5;241m.\u001b[39m_should_send_property(name, \u001b[38;5;28mgetattr\u001b[39m(\u001b[38;5;28mself\u001b[39m, name)):\n\u001b[1;32m    684\u001b[0m         \u001b[38;5;66;03m# Send new state to front-end\u001b[39;00m\n\u001b[1;32m    685\u001b[0m         \u001b[38;5;28mself\u001b[39m\u001b[38;5;241m.\u001b[39msend_state(key\u001b[38;5;241m=\u001b[39mname)\n\u001b[0;32m--> 686\u001b[0m \u001b[38;5;28;43msuper\u001b[39;49m\u001b[43m(\u001b[49m\u001b[43mWidget\u001b[49m\u001b[43m,\u001b[49m\u001b[43m \u001b[49m\u001b[38;5;28;43mself\u001b[39;49m\u001b[43m)\u001b[49m\u001b[38;5;241;43m.\u001b[39;49m\u001b[43mnotify_change\u001b[49m\u001b[43m(\u001b[49m\u001b[43mchange\u001b[49m\u001b[43m)\u001b[49m\n",
      "File \u001b[0;32m~/anaconda3/envs/escher-viz/lib/python3.10/site-packages/traitlets/traitlets.py:1517\u001b[0m, in \u001b[0;36mHasTraits.notify_change\u001b[0;34m(self, change)\u001b[0m\n\u001b[1;32m   1515\u001b[0m \u001b[38;5;28;01mdef\u001b[39;00m \u001b[38;5;21mnotify_change\u001b[39m(\u001b[38;5;28mself\u001b[39m, change):\n\u001b[1;32m   1516\u001b[0m \u001b[38;5;250m    \u001b[39m\u001b[38;5;124;03m\"\"\"Notify observers of a change event\"\"\"\u001b[39;00m\n\u001b[0;32m-> 1517\u001b[0m     \u001b[38;5;28;01mreturn\u001b[39;00m \u001b[38;5;28;43mself\u001b[39;49m\u001b[38;5;241;43m.\u001b[39;49m\u001b[43m_notify_observers\u001b[49m\u001b[43m(\u001b[49m\u001b[43mchange\u001b[49m\u001b[43m)\u001b[49m\n",
      "File \u001b[0;32m~/anaconda3/envs/escher-viz/lib/python3.10/site-packages/traitlets/traitlets.py:1564\u001b[0m, in \u001b[0;36mHasTraits._notify_observers\u001b[0;34m(self, event)\u001b[0m\n\u001b[1;32m   1561\u001b[0m \u001b[38;5;28;01melif\u001b[39;00m \u001b[38;5;28misinstance\u001b[39m(c, EventHandler) \u001b[38;5;129;01mand\u001b[39;00m c\u001b[38;5;241m.\u001b[39mname \u001b[38;5;129;01mis\u001b[39;00m \u001b[38;5;129;01mnot\u001b[39;00m \u001b[38;5;28;01mNone\u001b[39;00m:\n\u001b[1;32m   1562\u001b[0m     c \u001b[38;5;241m=\u001b[39m \u001b[38;5;28mgetattr\u001b[39m(\u001b[38;5;28mself\u001b[39m, c\u001b[38;5;241m.\u001b[39mname)\n\u001b[0;32m-> 1564\u001b[0m \u001b[43mc\u001b[49m\u001b[43m(\u001b[49m\u001b[43mevent\u001b[49m\u001b[43m)\u001b[49m\n",
      "File \u001b[0;32m~/anaconda3/envs/escher-viz/lib/python3.10/site-packages/escher/plots.py:375\u001b[0m, in \u001b[0;36mBuilder._observe_model_json\u001b[0;34m(self, change)\u001b[0m\n\u001b[1;32m    372\u001b[0m \u001b[38;5;129m@observe\u001b[39m(\u001b[38;5;124m'\u001b[39m\u001b[38;5;124mmodel_json\u001b[39m\u001b[38;5;124m'\u001b[39m)\n\u001b[1;32m    373\u001b[0m \u001b[38;5;28;01mdef\u001b[39;00m \u001b[38;5;21m_observe_model_json\u001b[39m(\u001b[38;5;28mself\u001b[39m, change):\n\u001b[1;32m    374\u001b[0m     \u001b[38;5;28;01mif\u001b[39;00m change\u001b[38;5;241m.\u001b[39mnew:\n\u001b[0;32m--> 375\u001b[0m         \u001b[38;5;28mself\u001b[39m\u001b[38;5;241m.\u001b[39m_loaded_model_json \u001b[38;5;241m=\u001b[39m \u001b[43m_load_resource\u001b[49m\u001b[43m(\u001b[49m\u001b[43mchange\u001b[49m\u001b[38;5;241;43m.\u001b[39;49m\u001b[43mnew\u001b[49m\u001b[43m,\u001b[49m\u001b[43m \u001b[49m\u001b[38;5;124;43m'\u001b[39;49m\u001b[38;5;124;43mmodel_json\u001b[39;49m\u001b[38;5;124;43m'\u001b[39;49m\u001b[43m)\u001b[49m\n\u001b[1;32m    376\u001b[0m     \u001b[38;5;28;01melse\u001b[39;00m:\n\u001b[1;32m    377\u001b[0m         \u001b[38;5;28mself\u001b[39m\u001b[38;5;241m.\u001b[39m_loaded_model_json \u001b[38;5;241m=\u001b[39m \u001b[38;5;28;01mNone\u001b[39;00m\n",
      "File \u001b[0;32m~/anaconda3/envs/escher-viz/lib/python3.10/site-packages/escher/plots.py:141\u001b[0m, in \u001b[0;36m_load_resource\u001b[0;34m(resource, name)\u001b[0m\n\u001b[1;32m    139\u001b[0m     _ \u001b[38;5;241m=\u001b[39m json\u001b[38;5;241m.\u001b[39mloads(resource)\n\u001b[1;32m    140\u001b[0m \u001b[38;5;28;01mexcept\u001b[39;00m \u001b[38;5;167;01mValueError\u001b[39;00m \u001b[38;5;28;01mas\u001b[39;00m err:\n\u001b[0;32m--> 141\u001b[0m     \u001b[38;5;28;01mraise\u001b[39;00m \u001b[38;5;167;01mValueError\u001b[39;00m(\u001b[38;5;124m'\u001b[39m\u001b[38;5;124mCould not load \u001b[39m\u001b[38;5;132;01m%s\u001b[39;00m\u001b[38;5;124m. Not valid json, url, or filepath\u001b[39m\u001b[38;5;124m'\u001b[39m\n\u001b[1;32m    142\u001b[0m                      \u001b[38;5;241m%\u001b[39m name)\n\u001b[1;32m    143\u001b[0m \u001b[38;5;28;01melse\u001b[39;00m:\n\u001b[1;32m    144\u001b[0m     \u001b[38;5;28;01mreturn\u001b[39;00m resource\n",
      "\u001b[0;31mValueError\u001b[0m: Could not load model_json. Not valid json, url, or filepath"
     ]
    }
   ],
   "source": [
    "builder = Builder(\n",
    "    model_json='e_coli_core.json'\n",
    ")"
   ]
  },
  {
   "cell_type": "code",
   "execution_count": null,
   "metadata": {
    "execution": {
     "iopub.execute_input": "2025-01-26T19:21:52.070825Z",
     "iopub.status.busy": "2025-01-26T19:21:52.070357Z",
     "iopub.status.idle": "2025-01-26T19:21:52.07656Z",
     "shell.execute_reply": "2025-01-26T19:21:52.07524Z",
     "shell.execute_reply.started": "2025-01-26T19:21:52.070787Z"
    },
    "id": "txWrVkrvs07o",
    "outputId": "9c5c7a63-5966-40d0-84e9-1275010837a7"
   },
   "outputs": [
    {
     "name": "stdout",
     "output_type": "stream",
     "text": [
      "<module 'escher' from '/usr/local/lib/python3.10/dist-packages/escher/__init__.py'>\n"
     ]
    }
   ],
   "source": [
    "print(escher)"
   ]
  },
  {
   "cell_type": "code",
   "execution_count": 1,
   "metadata": {
    "colab": {
     "base_uri": "https://localhost:8080/"
    },
    "execution": {
     "iopub.execute_input": "2025-01-26T19:23:13.191962Z",
     "iopub.status.busy": "2025-01-26T19:23:13.191586Z",
     "iopub.status.idle": "2025-01-26T19:23:13.331264Z",
     "shell.execute_reply": "2025-01-26T19:23:13.329922Z",
     "shell.execute_reply.started": "2025-01-26T19:23:13.191933Z"
    },
    "id": "6bgHqnv3s07p",
    "outputId": "2bd4c62b-7a40-4c86-9519-a3ecbdd876cd"
   },
   "outputs": [
    {
     "name": "stdout",
     "output_type": "stream",
     "text": [
      "Python 3.11.11\n"
     ]
    }
   ],
   "source": [
    "!python --version"
   ]
  },
  {
   "cell_type": "code",
   "execution_count": null,
   "metadata": {
    "colab": {
     "referenced_widgets": [
      "ea7f1fe0b56242a789e5b2caf9e62841"
     ]
    },
    "execution": {
     "iopub.execute_input": "2025-01-26T19:20:52.825193Z",
     "iopub.status.busy": "2025-01-26T19:20:52.824785Z",
     "iopub.status.idle": "2025-01-26T19:20:53.014847Z",
     "shell.execute_reply": "2025-01-26T19:20:53.013772Z",
     "shell.execute_reply.started": "2025-01-26T19:20:52.825153Z"
    },
    "id": "1suj29Vds07p",
    "outputId": "a6ae2ee0-348d-4ba6-dfc0-944996fcc713"
   },
   "outputs": [
    {
     "data": {
      "application/vnd.jupyter.widget-view+json": {
       "model_id": "ea7f1fe0b56242a789e5b2caf9e62841",
       "version_major": 2,
       "version_minor": 0
      },
      "text/plain": [
       "Builder()"
      ]
     },
     "metadata": {},
     "output_type": "display_data"
    }
   ],
   "source": [
    "builder"
   ]
  },
  {
   "cell_type": "code",
   "execution_count": 1,
   "metadata": {
    "id": "QAvtM9Bms07p"
   },
   "outputs": [
    {
     "name": "stdout",
     "output_type": "stream",
     "text": [
      "Python 3.10.8\r\n"
     ]
    }
   ],
   "source": [
    "!python --version"
   ]
  },
  {
   "cell_type": "code",
   "execution_count": 2,
   "metadata": {
    "id": "YIYcw0nDs07q",
    "scrolled": false
   },
   "outputs": [
    {
     "name": "stdout",
     "output_type": "stream",
     "text": [
      "anyio==3.6.2\r\n",
      "appdirs==1.4.4\r\n",
      "argon2-cffi==21.3.0\r\n",
      "argon2-cffi-bindings==21.2.0\r\n",
      "asttokens==2.2.1\r\n",
      "atomicwrites==1.4.1\r\n",
      "attrs==22.2.0\r\n",
      "backcall==0.2.0\r\n",
      "beautifulsoup4==4.11.1\r\n",
      "bleach==6.0.0\r\n",
      "certifi==2022.12.7\r\n",
      "cffi==1.15.1\r\n",
      "charset-normalizer==3.3.2\r\n",
      "cobra==0.26.2\r\n",
      "comm==0.1.2\r\n",
      "contourpy==1.1.1\r\n",
      "cplex==22.1.0.0\r\n",
      "cycler==0.12.1\r\n",
      "debugpy==1.6.6\r\n",
      "decorator==5.1.1\r\n",
      "defusedxml==0.7.1\r\n",
      "depinfo==1.7.0\r\n",
      "diskcache==5.4.0\r\n",
      "docopt==0.6.2\r\n",
      "entrypoints==0.4\r\n",
      "Escher==1.7.3\r\n",
      "executing==1.2.0\r\n",
      "fastjsonschema==2.16.2\r\n",
      "fonttools==4.43.1\r\n",
      "future==0.18.3\r\n",
      "h11==0.14.0\r\n",
      "httpcore==0.16.3\r\n",
      "httpx==0.23.3\r\n",
      "idna==3.4\r\n",
      "importlib-resources==5.10.2\r\n",
      "ipykernel==6.21.0\r\n",
      "ipython==8.12.3\r\n",
      "ipython-genutils==0.2.0\r\n",
      "ipywidgets==7.7.2\r\n",
      "jedi==0.18.2\r\n",
      "Jinja2==3.1.4\r\n",
      "joblib==1.3.2\r\n",
      "jsonschema==3.2.0\r\n",
      "jupyter-events==0.6.3\r\n",
      "jupyter_client==8.0.2\r\n",
      "jupyter_core==5.2.0\r\n",
      "jupyter_server==2.1.0\r\n",
      "jupyter_server_terminals==0.4.4\r\n",
      "jupyterlab-pygments==0.2.2\r\n",
      "jupyterlab-widgets==1.1.1\r\n",
      "kiwisolver==1.4.5\r\n",
      "markdown-it-py==2.1.0\r\n",
      "MarkupSafe==2.0.1\r\n",
      "matplotlib==3.8.0\r\n",
      "matplotlib-inline==0.1.6\r\n",
      "mdurl==0.1.2\r\n",
      "mistune==3.0.2\r\n",
      "more-itertools==9.0.0\r\n",
      "mpmath==1.2.1\r\n",
      "nbclassic==0.5.1\r\n",
      "nbclient==0.5.13\r\n",
      "nbconvert==7.16.4\r\n",
      "nbformat==5.7.3\r\n",
      "nest-asyncio==1.5.6\r\n",
      "notebook==6.5.2\r\n",
      "notebook_shim==0.2.2\r\n",
      "numpy==1.23.5\r\n",
      "optlang==1.6.1\r\n",
      "packaging==23.0\r\n",
      "pandas==1.5.3\r\n",
      "pandocfilters==1.5.0\r\n",
      "parso==0.8.3\r\n",
      "pexpect==4.8.0\r\n",
      "pickleshare==0.7.5\r\n",
      "Pillow==10.1.0\r\n",
      "pipreqs==0.5.0\r\n",
      "pipreqsnb==0.2.4\r\n",
      "platformdirs==2.6.2\r\n",
      "pluggy==0.13.1\r\n",
      "prometheus-client==0.16.0\r\n",
      "prompt-toolkit==3.0.36\r\n",
      "psutil==5.9.4\r\n",
      "ptyprocess==0.7.0\r\n",
      "pure-eval==0.2.2\r\n",
      "py==1.11.0\r\n",
      "pycparser==2.21\r\n",
      "pydantic==1.10.4\r\n",
      "Pygments==2.14.0\r\n",
      "pyparsing==3.1.1\r\n",
      "pyrsistent==0.19.3\r\n",
      "pytest==4.6.11\r\n",
      "python-dateutil==2.8.2\r\n",
      "python-json-logger==2.0.4\r\n",
      "python-libsbml==5.19.7\r\n",
      "pytz==2022.7.1\r\n",
      "PyYAML==6.0\r\n",
      "pyzmq==25.0.0\r\n",
      "requests==2.31.0\r\n",
      "rfc3339-validator==0.1.4\r\n",
      "rfc3986==1.5.0\r\n",
      "rfc3986-validator==0.1.1\r\n",
      "rich==13.3.1\r\n",
      "ruamel.yaml==0.17.21\r\n",
      "ruamel.yaml.clib==0.2.7\r\n",
      "scikit-learn==1.3.1\r\n",
      "scipy==1.11.3\r\n",
      "seaborn==0.13.0\r\n",
      "Send2Trash==1.8.0\r\n",
      "six==1.16.0\r\n",
      "sniffio==1.3.0\r\n",
      "soupsieve==2.3.2.post1\r\n",
      "stack-data==0.6.2\r\n",
      "swiglpk==5.0.8\r\n",
      "sympy==1.11.1\r\n",
      "terminado==0.17.1\r\n",
      "testpath==0.6.0\r\n",
      "threadpoolctl==3.2.0\r\n",
      "tinycss2==1.3.0\r\n",
      "tornado==6.2\r\n",
      "traitlets==5.9.0\r\n",
      "typing_extensions==4.4.0\r\n",
      "urllib3==2.2.1\r\n",
      "wcwidth==0.2.6\r\n",
      "webencodings==0.5.1\r\n",
      "websocket-client==1.5.0\r\n",
      "widgetsnbextension==3.6.1\r\n",
      "yarg==0.1.9\r\n"
     ]
    }
   ],
   "source": [
    "!pip freeze"
   ]
  },
  {
   "cell_type": "code",
   "execution_count": null,
   "metadata": {},
   "outputs": [],
   "source": []
  }
 ],
 "metadata": {
  "colab": {
   "name": "Modélisation du métabolisme",
   "provenance": []
  },
  "kaggle": {
   "accelerator": "none",
   "dataSources": [],
   "isGpuEnabled": false,
   "isInternetEnabled": true,
   "language": "python",
   "sourceType": "notebook"
  },
  "kernelspec": {
   "display_name": "Python 3 (ipykernel)",
   "language": "python",
   "name": "python3"
  },
  "language_info": {
   "codemirror_mode": {
    "name": "ipython",
    "version": 3
   },
   "file_extension": ".py",
   "mimetype": "text/x-python",
   "name": "python",
   "nbconvert_exporter": "python",
   "pygments_lexer": "ipython3",
   "version": "3.10.8"
  }
 },
 "nbformat": 4,
 "nbformat_minor": 1
}
